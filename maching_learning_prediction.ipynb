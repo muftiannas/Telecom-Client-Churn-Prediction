{
 "cells": [
  {
   "cell_type": "markdown",
   "metadata": {},
   "source": [
    "# Content <a id='back'></a>\n",
    "\n",
    "* [Objectives](#objectives)\n",
    "* [1. Import Modul and Read Data](#import_modul)\n",
    "    * [1.1 Import Modul](#import_modul)\n",
    "    * [1.2 General Information](#general_information)\n",
    "    * [1.3 Conclusion](#conclusion_1)\n",
    "* [2. Data Preprocessing](#data_preprocessing)\n",
    "    * [2.1 Merge the Data](#data_merge)\n",
    "    * [2.2 Lower Case Column](#lower_case)\n",
    "    * [2.3 Check Duplicate Values](#duplicate_values)\n",
    "    * [2.4 Check Missing Values](#missing_values)\n",
    "    * [2.5 Fix Data Types](#data_types)\n",
    "    * [2.6 Add some features](#add_features)\n",
    "* [3. Explore Data Analysis](#EDA)\n",
    "    * [3.1 Analyze Interconnect Main Service](#analyze_mainservice)\n",
    "    * [3.2 Analyze Total Charge From Exit User By Gender](#analyze_tcharge_gender)\n",
    "    * [3.3 Analyze Total Charge From Exit By Month](#analyze_tcharge_month)\n",
    "    * [3.4 Analyze Total Charges By Type, Payment Methode, Internet Service](#analyze_tcharge_all)\n",
    "    * [3.5 EDA Conclusion](#eda_conclusion)\n",
    "* [4. Features Engineering](#features_engineer)\n",
    "* [5. Evaluation Procedure Engineering](#evaluate_procedure)\n",
    "* [6. Define Target, Split Data and Scaller](#data_split)\n",
    "* [7. Model Building](#model_building)\n",
    "    * [7.1 Baseline Model](#baseline_model)\n",
    "    * [7.2 Logistic Regression Model](#lr_model)\n",
    "    * [7.3 Logistic Regression Model + Upsampling](#lr_model_upsampling)\n",
    "    * [7.4 Logistic Regression Model + Downsampling](#lr_model_downsampling)\n",
    "    * [7.5 Random Forest Classifier](#rf_classifier)\n",
    "    * [7.6 XGBoost Classifier](#xgb_classifier)\n",
    "    * [7.7 LGBM Classifier](#lgbm_classifier)\n",
    "    * [7.8 Catboost Classifier](#gcatboost_classifier)\n",
    "* [8. Model Summary](#model_summary)\n",
    "* [9. General Conclusion](#general_conclusion)\n"
   ]
  },
  {
   "cell_type": "markdown",
   "metadata": {},
   "source": [
    "# Objectives <a id='objectives'></a>"
   ]
  },
  {
   "cell_type": "markdown",
   "metadata": {},
   "source": [
    "# Explanation of Main Tasks\n",
    "\n",
    "A telecommunications operator named Interconnect wants to forecast their clients' *churn* rate. 󠀢 󠀳 󠀰 Interconnect's marketing team has collected some personal data from clients, including information about selected data plans and their contracts.\n",
    "\n",
    "* Interconnect Service\n",
    "\n",
    "󠀰Interconnect provides two main types of services:\n",
    "\n",
    "1. The landline network.\n",
    "2. The Internet.\n",
    "\n",
    "Some of the other services that Interconnect provides include:\n",
    "\n",
    "- Internet security: antivirus software (*DeviceProtection*) and malicious website blocker (*OnlineSecurity*)\n",
    "- Dedicated technical support line (*TechSupport*)\n",
    "- *cloud* storage for *file* and *backup* data (*OnlineBackup*)\n",
    "- *Streaming* TV (*StreamingTV*) and movie directories (*StreamingMovies*)\n",
    "\n",
    "\n",
    "Clients can choose to pay monthly or sign a contract for a 1 or 2 year subscription.\n",
    "\n",
    "* Data Description\n",
    "\n",
    "󠀰The available data consists of several *files* obtained from different sources:\n",
    "\n",
    "- `contract.csv` — 󠀰contract information\n",
    "- `personal.csv` — 󠀰client personal data\n",
    "- `internet.csv` — information about Internet services\n",
    "- `phone.csv` — information about phone services\n",
    "\n",
    "In each *file* you will find a `customerID` column with a unique code assigned to each client.\n",
    "\n",
    "Contract information applies as of February 1, 2020.\n",
    "\n",
    "We also have to find auc_roc with the following scoring criteria.\n",
    "\n",
    "Assessment criteria:\n",
    "\n",
    "- AUC-ROC < 0.75 — 0 SP\n",
    "- 0.75 ≤ AUC-ROC < 0.81 — 4 SP\n",
    "- 0.81 ≤ AUC-ROC < 0.85 — 4.5 SP\n",
    "- 0.85 ≤ AUC-ROC < 0.87 — 5 SP\n",
    "- 0.87 ≤ AUC-ROC < 0.88 — 5.5 SP\n",
    "- AUC-ROC ≥ 0.88 — 6 SP\n",
    "\n",
    "In order to achieve the above objectives, we will follow the following steps :\n",
    "\n",
    "- Import modul and read the data\n",
    "- Apply Data Preprocession (check duplicate values, missing values, fix data types)\n",
    "- Apply exploratory data analysis in determining why and what causes customer churn\n",
    "- Build a machine learning model to forecast Interconnect customer churn"
   ]
  },
  {
   "cell_type": "markdown",
   "metadata": {
    "id": "F2sXoZ8ULWHS"
   },
   "source": [
    "# 1. Import Modul and Read Data <a id='import_modul'></a>"
   ]
  },
  {
   "cell_type": "markdown",
   "metadata": {
    "id": "KqN8c41JLUCa"
   },
   "source": [
    "# 1.1 Import Modul"
   ]
  },
  {
   "cell_type": "code",
   "execution_count": 1,
   "metadata": {
    "colab": {
     "base_uri": "https://localhost:8080/"
    },
    "id": "bcGhFguZQuMb",
    "outputId": "990c69d5-ded8-4ec9-dc32-72d40ec40815"
   },
   "outputs": [],
   "source": [
    "#from google.colab import drive\n",
    "#drive.mount('/content/drive')"
   ]
  },
  {
   "cell_type": "code",
   "execution_count": 3,
   "metadata": {
    "id": "lJbgXhRpRb1s"
   },
   "outputs": [],
   "source": [
    "# import pandas and numpy for data preprocessing and manipulation\n",
    "import pandas as pd\n",
    "import numpy as np\n",
    "import re\n",
    "\n",
    "# import modules for preprocessing\n",
    "from sklearn.preprocessing import OrdinalEncoder, StandardScaler, MinMaxScaler\n",
    "\n",
    "# matplotlib and seaborn for visualization\n",
    "import matplotlib.pyplot as plt\n",
    "import seaborn as sns\n",
    "\n",
    "# import modules for splitting and cross-validation using gridsearch\n",
    "from sklearn.model_selection import train_test_split, GridSearchCV\n",
    "\n",
    "# import pipeline\n",
    "from sklearn.pipeline import Pipeline\n",
    "\n",
    "# import machine learning module from the sklearn library\n",
    "from sklearn.dummy import DummyClassifier\n",
    "from sklearn.tree import DecisionTreeClassifier\n",
    "from sklearn.linear_model import LogisticRegression\n",
    "from sklearn.ensemble import RandomForestClassifier\n",
    "from xgboost import XGBClassifier\n",
    "from lightgbm import LGBMClassifier\n",
    "from catboost import CatBoostClassifier\n",
    "\n",
    "# import optuna for hyperparameter tuning\n",
    "import optuna\n",
    "from optuna.samplers import TPESampler\n",
    "\n",
    "# import metrics for sanity check on model\n",
    "from sklearn import metrics\n",
    "from sklearn.metrics import *\n",
    "from sklearn.metrics import accuracy_score\n",
    "from sklearn.metrics import confusion_matrix, classification_report\n",
    "from sklearn.metrics import precision_score, recall_score, f1_score, precision_recall_curve\n",
    "from sklearn.metrics import balanced_accuracy_score, roc_auc_score\n",
    "\n",
    "# import sklearn utilities\n",
    "from sklearn.utils import shuffle"
   ]
  },
  {
   "cell_type": "code",
   "execution_count": 4,
   "metadata": {
    "id": "unXiUKYoRg7L"
   },
   "outputs": [],
   "source": [
    "# create path for data\n",
    "#path1 = \"/content/drive/MyDrive/Final Project Practicum/personal.csv\"\n",
    "#path2 = \"/content/drive/MyDrive/Final Project Practicum/phone.csv\"\n",
    "#path3 = \"/content/drive/MyDrive/Final Project Practicum/internet.csv\"\n",
    "#path4 = \"/content/drive/MyDrive/Final Project Practicum/contract.csv\"\n",
    "\n",
    "\n",
    "path1 = \"/datasets/final_provider/personal.csv\"\n",
    "path2 = \"/datasets/final_provider/phone.csv\"\n",
    "path3 = \"/datasets/final_provider/internet.csv\"\n",
    "path4 = \"/datasets/final_provider/contract.csv\""
   ]
  },
  {
   "cell_type": "code",
   "execution_count": 5,
   "metadata": {
    "id": "uOBPDwhvR5i7"
   },
   "outputs": [],
   "source": [
    "# read data\n",
    "df_personal = pd.read_csv(path1)\n",
    "df_phone = pd.read_csv(path2)\n",
    "df_internet = pd.read_csv(path3)\n",
    "df_contract = pd.read_csv(path4)"
   ]
  },
  {
   "cell_type": "markdown",
   "metadata": {
    "id": "pT81oOijJ2x1"
   },
   "source": [
    "# 1.2 General Information <a id='general_information'></a>"
   ]
  },
  {
   "cell_type": "code",
   "execution_count": 6,
   "metadata": {
    "colab": {
     "base_uri": "https://localhost:8080/"
    },
    "id": "sSlPBzfJH7WJ",
    "outputId": "848811aa-4b28-4402-d905-02db0143c204"
   },
   "outputs": [
    {
     "name": "stdout",
     "output_type": "stream",
     "text": [
      "<class 'pandas.core.frame.DataFrame'>\n",
      "RangeIndex: 7043 entries, 0 to 7042\n",
      "Data columns (total 5 columns):\n",
      " #   Column         Non-Null Count  Dtype \n",
      "---  ------         --------------  ----- \n",
      " 0   customerID     7043 non-null   object\n",
      " 1   gender         7043 non-null   object\n",
      " 2   SeniorCitizen  7043 non-null   int64 \n",
      " 3   Partner        7043 non-null   object\n",
      " 4   Dependents     7043 non-null   object\n",
      "dtypes: int64(1), object(4)\n",
      "memory usage: 275.2+ KB\n"
     ]
    }
   ],
   "source": [
    "# check data personal\n",
    "df_personal.info()"
   ]
  },
  {
   "cell_type": "code",
   "execution_count": 7,
   "metadata": {
    "colab": {
     "base_uri": "https://localhost:8080/"
    },
    "id": "TsXFGjM1IMhr",
    "outputId": "dd9aec01-9702-4af5-8210-ff39386b8c14"
   },
   "outputs": [
    {
     "name": "stdout",
     "output_type": "stream",
     "text": [
      "<class 'pandas.core.frame.DataFrame'>\n",
      "RangeIndex: 6361 entries, 0 to 6360\n",
      "Data columns (total 2 columns):\n",
      " #   Column         Non-Null Count  Dtype \n",
      "---  ------         --------------  ----- \n",
      " 0   customerID     6361 non-null   object\n",
      " 1   MultipleLines  6361 non-null   object\n",
      "dtypes: object(2)\n",
      "memory usage: 99.5+ KB\n"
     ]
    }
   ],
   "source": [
    "# check data phone\n",
    "df_phone.info()"
   ]
  },
  {
   "cell_type": "code",
   "execution_count": 8,
   "metadata": {
    "colab": {
     "base_uri": "https://localhost:8080/"
    },
    "id": "6ZvJP76JI6vo",
    "outputId": "3ac2d6e0-452d-4479-d3e1-60e5b1f73843"
   },
   "outputs": [
    {
     "name": "stdout",
     "output_type": "stream",
     "text": [
      "<class 'pandas.core.frame.DataFrame'>\n",
      "RangeIndex: 5517 entries, 0 to 5516\n",
      "Data columns (total 8 columns):\n",
      " #   Column            Non-Null Count  Dtype \n",
      "---  ------            --------------  ----- \n",
      " 0   customerID        5517 non-null   object\n",
      " 1   InternetService   5517 non-null   object\n",
      " 2   OnlineSecurity    5517 non-null   object\n",
      " 3   OnlineBackup      5517 non-null   object\n",
      " 4   DeviceProtection  5517 non-null   object\n",
      " 5   TechSupport       5517 non-null   object\n",
      " 6   StreamingTV       5517 non-null   object\n",
      " 7   StreamingMovies   5517 non-null   object\n",
      "dtypes: object(8)\n",
      "memory usage: 344.9+ KB\n"
     ]
    }
   ],
   "source": [
    "# check data internet\n",
    "df_internet.info()"
   ]
  },
  {
   "cell_type": "code",
   "execution_count": 9,
   "metadata": {
    "colab": {
     "base_uri": "https://localhost:8080/"
    },
    "id": "afJQUMIUJYWF",
    "outputId": "ed25613f-43bf-4907-ac67-8cb1005cf0cf"
   },
   "outputs": [
    {
     "name": "stdout",
     "output_type": "stream",
     "text": [
      "<class 'pandas.core.frame.DataFrame'>\n",
      "RangeIndex: 7043 entries, 0 to 7042\n",
      "Data columns (total 8 columns):\n",
      " #   Column            Non-Null Count  Dtype  \n",
      "---  ------            --------------  -----  \n",
      " 0   customerID        7043 non-null   object \n",
      " 1   BeginDate         7043 non-null   object \n",
      " 2   EndDate           7043 non-null   object \n",
      " 3   Type              7043 non-null   object \n",
      " 4   PaperlessBilling  7043 non-null   object \n",
      " 5   PaymentMethod     7043 non-null   object \n",
      " 6   MonthlyCharges    7043 non-null   float64\n",
      " 7   TotalCharges      7043 non-null   object \n",
      "dtypes: float64(1), object(7)\n",
      "memory usage: 440.3+ KB\n"
     ]
    }
   ],
   "source": [
    "# check data contract\n",
    "df_contract.info()"
   ]
  },
  {
   "cell_type": "code",
   "execution_count": 10,
   "metadata": {
    "colab": {
     "base_uri": "https://localhost:8080/"
    },
    "id": "urtV3Bz2O-i1",
    "outputId": "993c526b-bb5b-451c-c646-3d30287fea8a"
   },
   "outputs": [
    {
     "data": {
      "text/plain": [
       "(0, 0, 0, 0)"
      ]
     },
     "execution_count": 10,
     "metadata": {},
     "output_type": "execute_result"
    }
   ],
   "source": [
    "#check duplicated\n",
    "df_personal.duplicated().sum(), df_phone.duplicated().sum(), df_internet.duplicated().sum(), df_contract.duplicated().sum()"
   ]
  },
  {
   "cell_type": "code",
   "execution_count": 11,
   "metadata": {
    "colab": {
     "base_uri": "https://localhost:8080/",
     "height": 206
    },
    "id": "vbWMhWTgJe9C",
    "outputId": "4921eee4-ae7e-47d6-8804-c46d7a551dc6"
   },
   "outputs": [
    {
     "data": {
      "text/html": [
       "<div>\n",
       "<style scoped>\n",
       "    .dataframe tbody tr th:only-of-type {\n",
       "        vertical-align: middle;\n",
       "    }\n",
       "\n",
       "    .dataframe tbody tr th {\n",
       "        vertical-align: top;\n",
       "    }\n",
       "\n",
       "    .dataframe thead th {\n",
       "        text-align: right;\n",
       "    }\n",
       "</style>\n",
       "<table border=\"1\" class=\"dataframe\">\n",
       "  <thead>\n",
       "    <tr style=\"text-align: right;\">\n",
       "      <th></th>\n",
       "      <th>customerID</th>\n",
       "      <th>gender</th>\n",
       "      <th>SeniorCitizen</th>\n",
       "      <th>Partner</th>\n",
       "      <th>Dependents</th>\n",
       "    </tr>\n",
       "  </thead>\n",
       "  <tbody>\n",
       "    <tr>\n",
       "      <th>0</th>\n",
       "      <td>7590-VHVEG</td>\n",
       "      <td>Female</td>\n",
       "      <td>0</td>\n",
       "      <td>Yes</td>\n",
       "      <td>No</td>\n",
       "    </tr>\n",
       "    <tr>\n",
       "      <th>1</th>\n",
       "      <td>5575-GNVDE</td>\n",
       "      <td>Male</td>\n",
       "      <td>0</td>\n",
       "      <td>No</td>\n",
       "      <td>No</td>\n",
       "    </tr>\n",
       "    <tr>\n",
       "      <th>2</th>\n",
       "      <td>3668-QPYBK</td>\n",
       "      <td>Male</td>\n",
       "      <td>0</td>\n",
       "      <td>No</td>\n",
       "      <td>No</td>\n",
       "    </tr>\n",
       "    <tr>\n",
       "      <th>3</th>\n",
       "      <td>7795-CFOCW</td>\n",
       "      <td>Male</td>\n",
       "      <td>0</td>\n",
       "      <td>No</td>\n",
       "      <td>No</td>\n",
       "    </tr>\n",
       "    <tr>\n",
       "      <th>4</th>\n",
       "      <td>9237-HQITU</td>\n",
       "      <td>Female</td>\n",
       "      <td>0</td>\n",
       "      <td>No</td>\n",
       "      <td>No</td>\n",
       "    </tr>\n",
       "  </tbody>\n",
       "</table>\n",
       "</div>"
      ],
      "text/plain": [
       "   customerID  gender  SeniorCitizen Partner Dependents\n",
       "0  7590-VHVEG  Female              0     Yes         No\n",
       "1  5575-GNVDE    Male              0      No         No\n",
       "2  3668-QPYBK    Male              0      No         No\n",
       "3  7795-CFOCW    Male              0      No         No\n",
       "4  9237-HQITU  Female              0      No         No"
      ]
     },
     "execution_count": 11,
     "metadata": {},
     "output_type": "execute_result"
    }
   ],
   "source": [
    "# sample df_personal\n",
    "df_personal.head()"
   ]
  },
  {
   "cell_type": "code",
   "execution_count": 12,
   "metadata": {
    "colab": {
     "base_uri": "https://localhost:8080/",
     "height": 206
    },
    "id": "6uDLRESEKK7D",
    "outputId": "1d56dff4-2e84-4499-8acb-78279541fb82"
   },
   "outputs": [
    {
     "data": {
      "text/html": [
       "<div>\n",
       "<style scoped>\n",
       "    .dataframe tbody tr th:only-of-type {\n",
       "        vertical-align: middle;\n",
       "    }\n",
       "\n",
       "    .dataframe tbody tr th {\n",
       "        vertical-align: top;\n",
       "    }\n",
       "\n",
       "    .dataframe thead th {\n",
       "        text-align: right;\n",
       "    }\n",
       "</style>\n",
       "<table border=\"1\" class=\"dataframe\">\n",
       "  <thead>\n",
       "    <tr style=\"text-align: right;\">\n",
       "      <th></th>\n",
       "      <th>customerID</th>\n",
       "      <th>MultipleLines</th>\n",
       "    </tr>\n",
       "  </thead>\n",
       "  <tbody>\n",
       "    <tr>\n",
       "      <th>0</th>\n",
       "      <td>5575-GNVDE</td>\n",
       "      <td>No</td>\n",
       "    </tr>\n",
       "    <tr>\n",
       "      <th>1</th>\n",
       "      <td>3668-QPYBK</td>\n",
       "      <td>No</td>\n",
       "    </tr>\n",
       "    <tr>\n",
       "      <th>2</th>\n",
       "      <td>9237-HQITU</td>\n",
       "      <td>No</td>\n",
       "    </tr>\n",
       "    <tr>\n",
       "      <th>3</th>\n",
       "      <td>9305-CDSKC</td>\n",
       "      <td>Yes</td>\n",
       "    </tr>\n",
       "    <tr>\n",
       "      <th>4</th>\n",
       "      <td>1452-KIOVK</td>\n",
       "      <td>Yes</td>\n",
       "    </tr>\n",
       "  </tbody>\n",
       "</table>\n",
       "</div>"
      ],
      "text/plain": [
       "   customerID MultipleLines\n",
       "0  5575-GNVDE            No\n",
       "1  3668-QPYBK            No\n",
       "2  9237-HQITU            No\n",
       "3  9305-CDSKC           Yes\n",
       "4  1452-KIOVK           Yes"
      ]
     },
     "execution_count": 12,
     "metadata": {},
     "output_type": "execute_result"
    }
   ],
   "source": [
    "# # sample df_phone\n",
    "df_phone.head()"
   ]
  },
  {
   "cell_type": "code",
   "execution_count": 13,
   "metadata": {
    "colab": {
     "base_uri": "https://localhost:8080/",
     "height": 206
    },
    "id": "on4nWduoKUOC",
    "outputId": "1538d4c3-3e4b-456b-c16e-eb0cacfd1bd8"
   },
   "outputs": [
    {
     "data": {
      "text/html": [
       "<div>\n",
       "<style scoped>\n",
       "    .dataframe tbody tr th:only-of-type {\n",
       "        vertical-align: middle;\n",
       "    }\n",
       "\n",
       "    .dataframe tbody tr th {\n",
       "        vertical-align: top;\n",
       "    }\n",
       "\n",
       "    .dataframe thead th {\n",
       "        text-align: right;\n",
       "    }\n",
       "</style>\n",
       "<table border=\"1\" class=\"dataframe\">\n",
       "  <thead>\n",
       "    <tr style=\"text-align: right;\">\n",
       "      <th></th>\n",
       "      <th>customerID</th>\n",
       "      <th>InternetService</th>\n",
       "      <th>OnlineSecurity</th>\n",
       "      <th>OnlineBackup</th>\n",
       "      <th>DeviceProtection</th>\n",
       "      <th>TechSupport</th>\n",
       "      <th>StreamingTV</th>\n",
       "      <th>StreamingMovies</th>\n",
       "    </tr>\n",
       "  </thead>\n",
       "  <tbody>\n",
       "    <tr>\n",
       "      <th>0</th>\n",
       "      <td>7590-VHVEG</td>\n",
       "      <td>DSL</td>\n",
       "      <td>No</td>\n",
       "      <td>Yes</td>\n",
       "      <td>No</td>\n",
       "      <td>No</td>\n",
       "      <td>No</td>\n",
       "      <td>No</td>\n",
       "    </tr>\n",
       "    <tr>\n",
       "      <th>1</th>\n",
       "      <td>5575-GNVDE</td>\n",
       "      <td>DSL</td>\n",
       "      <td>Yes</td>\n",
       "      <td>No</td>\n",
       "      <td>Yes</td>\n",
       "      <td>No</td>\n",
       "      <td>No</td>\n",
       "      <td>No</td>\n",
       "    </tr>\n",
       "    <tr>\n",
       "      <th>2</th>\n",
       "      <td>3668-QPYBK</td>\n",
       "      <td>DSL</td>\n",
       "      <td>Yes</td>\n",
       "      <td>Yes</td>\n",
       "      <td>No</td>\n",
       "      <td>No</td>\n",
       "      <td>No</td>\n",
       "      <td>No</td>\n",
       "    </tr>\n",
       "    <tr>\n",
       "      <th>3</th>\n",
       "      <td>7795-CFOCW</td>\n",
       "      <td>DSL</td>\n",
       "      <td>Yes</td>\n",
       "      <td>No</td>\n",
       "      <td>Yes</td>\n",
       "      <td>Yes</td>\n",
       "      <td>No</td>\n",
       "      <td>No</td>\n",
       "    </tr>\n",
       "    <tr>\n",
       "      <th>4</th>\n",
       "      <td>9237-HQITU</td>\n",
       "      <td>Fiber optic</td>\n",
       "      <td>No</td>\n",
       "      <td>No</td>\n",
       "      <td>No</td>\n",
       "      <td>No</td>\n",
       "      <td>No</td>\n",
       "      <td>No</td>\n",
       "    </tr>\n",
       "  </tbody>\n",
       "</table>\n",
       "</div>"
      ],
      "text/plain": [
       "   customerID InternetService OnlineSecurity OnlineBackup DeviceProtection  \\\n",
       "0  7590-VHVEG             DSL             No          Yes               No   \n",
       "1  5575-GNVDE             DSL            Yes           No              Yes   \n",
       "2  3668-QPYBK             DSL            Yes          Yes               No   \n",
       "3  7795-CFOCW             DSL            Yes           No              Yes   \n",
       "4  9237-HQITU     Fiber optic             No           No               No   \n",
       "\n",
       "  TechSupport StreamingTV StreamingMovies  \n",
       "0          No          No              No  \n",
       "1          No          No              No  \n",
       "2          No          No              No  \n",
       "3         Yes          No              No  \n",
       "4          No          No              No  "
      ]
     },
     "execution_count": 13,
     "metadata": {},
     "output_type": "execute_result"
    }
   ],
   "source": [
    "# sample df_internet\n",
    "df_internet.head()"
   ]
  },
  {
   "cell_type": "code",
   "execution_count": 14,
   "metadata": {
    "colab": {
     "base_uri": "https://localhost:8080/",
     "height": 206
    },
    "id": "pfx-q8MkRJNI",
    "outputId": "6a9ff983-e1c6-42b5-9abc-43a9142aadd0"
   },
   "outputs": [
    {
     "data": {
      "text/html": [
       "<div>\n",
       "<style scoped>\n",
       "    .dataframe tbody tr th:only-of-type {\n",
       "        vertical-align: middle;\n",
       "    }\n",
       "\n",
       "    .dataframe tbody tr th {\n",
       "        vertical-align: top;\n",
       "    }\n",
       "\n",
       "    .dataframe thead th {\n",
       "        text-align: right;\n",
       "    }\n",
       "</style>\n",
       "<table border=\"1\" class=\"dataframe\">\n",
       "  <thead>\n",
       "    <tr style=\"text-align: right;\">\n",
       "      <th></th>\n",
       "      <th>customerID</th>\n",
       "      <th>BeginDate</th>\n",
       "      <th>EndDate</th>\n",
       "      <th>Type</th>\n",
       "      <th>PaperlessBilling</th>\n",
       "      <th>PaymentMethod</th>\n",
       "      <th>MonthlyCharges</th>\n",
       "      <th>TotalCharges</th>\n",
       "    </tr>\n",
       "  </thead>\n",
       "  <tbody>\n",
       "    <tr>\n",
       "      <th>0</th>\n",
       "      <td>7590-VHVEG</td>\n",
       "      <td>2020-01-01</td>\n",
       "      <td>No</td>\n",
       "      <td>Month-to-month</td>\n",
       "      <td>Yes</td>\n",
       "      <td>Electronic check</td>\n",
       "      <td>29.85</td>\n",
       "      <td>29.85</td>\n",
       "    </tr>\n",
       "    <tr>\n",
       "      <th>1</th>\n",
       "      <td>5575-GNVDE</td>\n",
       "      <td>2017-04-01</td>\n",
       "      <td>No</td>\n",
       "      <td>One year</td>\n",
       "      <td>No</td>\n",
       "      <td>Mailed check</td>\n",
       "      <td>56.95</td>\n",
       "      <td>1889.5</td>\n",
       "    </tr>\n",
       "    <tr>\n",
       "      <th>2</th>\n",
       "      <td>3668-QPYBK</td>\n",
       "      <td>2019-10-01</td>\n",
       "      <td>2019-12-01 00:00:00</td>\n",
       "      <td>Month-to-month</td>\n",
       "      <td>Yes</td>\n",
       "      <td>Mailed check</td>\n",
       "      <td>53.85</td>\n",
       "      <td>108.15</td>\n",
       "    </tr>\n",
       "    <tr>\n",
       "      <th>3</th>\n",
       "      <td>7795-CFOCW</td>\n",
       "      <td>2016-05-01</td>\n",
       "      <td>No</td>\n",
       "      <td>One year</td>\n",
       "      <td>No</td>\n",
       "      <td>Bank transfer (automatic)</td>\n",
       "      <td>42.30</td>\n",
       "      <td>1840.75</td>\n",
       "    </tr>\n",
       "    <tr>\n",
       "      <th>4</th>\n",
       "      <td>9237-HQITU</td>\n",
       "      <td>2019-09-01</td>\n",
       "      <td>2019-11-01 00:00:00</td>\n",
       "      <td>Month-to-month</td>\n",
       "      <td>Yes</td>\n",
       "      <td>Electronic check</td>\n",
       "      <td>70.70</td>\n",
       "      <td>151.65</td>\n",
       "    </tr>\n",
       "  </tbody>\n",
       "</table>\n",
       "</div>"
      ],
      "text/plain": [
       "   customerID   BeginDate              EndDate            Type  \\\n",
       "0  7590-VHVEG  2020-01-01                   No  Month-to-month   \n",
       "1  5575-GNVDE  2017-04-01                   No        One year   \n",
       "2  3668-QPYBK  2019-10-01  2019-12-01 00:00:00  Month-to-month   \n",
       "3  7795-CFOCW  2016-05-01                   No        One year   \n",
       "4  9237-HQITU  2019-09-01  2019-11-01 00:00:00  Month-to-month   \n",
       "\n",
       "  PaperlessBilling              PaymentMethod  MonthlyCharges TotalCharges  \n",
       "0              Yes           Electronic check           29.85        29.85  \n",
       "1               No               Mailed check           56.95       1889.5  \n",
       "2              Yes               Mailed check           53.85       108.15  \n",
       "3               No  Bank transfer (automatic)           42.30      1840.75  \n",
       "4              Yes           Electronic check           70.70       151.65  "
      ]
     },
     "execution_count": 14,
     "metadata": {},
     "output_type": "execute_result"
    }
   ],
   "source": [
    "# sample df_contract\n",
    "df_contract.head()"
   ]
  },
  {
   "cell_type": "markdown",
   "metadata": {},
   "source": [
    "# 1.3 Conclusion <a id='conclusion_1'></a>"
   ]
  },
  {
   "cell_type": "markdown",
   "metadata": {
    "id": "kDKB5lBwNXBA"
   },
   "source": [
    "<div style=\"background-color:rgba(0, 255, 172, 0.07)\"\n",
    "     \n",
    "- df_personal has 7043 rows and 5 columns with no missing values and no duplicated values\n",
    "- df_phone has 6361 rows and 2 columns with no missing values and no duplicated values\n",
    "- df_internet has 5517 rows and 8 columns with no missing values and no duplicated values\n",
    "- df_contract has 7043 rows and 8 columns with no missing values and no duplicated values\n",
    "\n",
    "The next step is to do data preprocessing. We have to combine the four data. Removes duplicate values ​​if any, fills in missing values ​​if any, and fixes the data type.\n",
    "     \n",
    "</div>"
   ]
  },
  {
   "cell_type": "markdown",
   "metadata": {
    "id": "Uhj8wxxsRKEV"
   },
   "source": [
    "# 2. Data Preprocessing <a id='data_preprocessing'></a>"
   ]
  },
  {
   "cell_type": "markdown",
   "metadata": {
    "id": "rWxN3CjUJ86e"
   },
   "source": [
    "# 2.1 Merge the Data <a id='data_merge'></a>"
   ]
  },
  {
   "cell_type": "code",
   "execution_count": 15,
   "metadata": {
    "id": "aHJQbFqER2TX"
   },
   "outputs": [],
   "source": [
    "# merge data\n",
    "merge_df = pd.merge(df_contract, df_internet, on=\"customerID\", how='outer')\n",
    "merge_df1 = pd.merge(merge_df, df_personal, on=\"customerID\", how='outer')\n",
    "merge_df2 = pd.merge(merge_df1, df_phone, on=\"customerID\", how='outer')"
   ]
  },
  {
   "cell_type": "markdown",
   "metadata": {
    "id": "2sglqKo4WMN9"
   },
   "source": [
    "# 2.2 Lower Case Column <a id='lower_case'></a>"
   ]
  },
  {
   "cell_type": "code",
   "execution_count": 16,
   "metadata": {
    "id": "IBqCxZ8Q2EUM"
   },
   "outputs": [],
   "source": [
    "# change to lowercase column\n",
    "columns = []\n",
    "for name in merge_df2.columns.values:\n",
    "    name = re.sub('([A-Z])', r' \\1', name).lower().replace(' ', '_')[1:]\n",
    "    columns.append(name)"
   ]
  },
  {
   "cell_type": "code",
   "execution_count": 17,
   "metadata": {
    "id": "b5RfPeZ-3feA"
   },
   "outputs": [],
   "source": [
    "merge_df2.columns = columns"
   ]
  },
  {
   "cell_type": "code",
   "execution_count": 18,
   "metadata": {
    "id": "OKon17x33zP6"
   },
   "outputs": [],
   "source": [
    "df_merge = merge_df2.rename(columns = {'ustomer_i_d':'customer_id', 'ender':'gender', 'streaming_t_v':'streaming_tv'})"
   ]
  },
  {
   "cell_type": "markdown",
   "metadata": {
    "id": "kPCBroVJW8k8"
   },
   "source": [
    "# 2.3 Check Duplicate Values <a id='duplicate_values'></a>"
   ]
  },
  {
   "cell_type": "code",
   "execution_count": 19,
   "metadata": {
    "colab": {
     "base_uri": "https://localhost:8080/"
    },
    "id": "lxbI9gG9XuT9",
    "outputId": "3db8b04e-88a1-4fb2-ed9f-9eea0af3fcf4"
   },
   "outputs": [
    {
     "data": {
      "text/plain": [
       "0"
      ]
     },
     "execution_count": 19,
     "metadata": {},
     "output_type": "execute_result"
    }
   ],
   "source": [
    "df_merge.duplicated().sum()"
   ]
  },
  {
   "cell_type": "markdown",
   "metadata": {
    "id": "bdrs-dLKXzad"
   },
   "source": [
    "# 2.4 Check Missing Values <a id='missing_values'></a>"
   ]
  },
  {
   "cell_type": "code",
   "execution_count": 20,
   "metadata": {
    "colab": {
     "base_uri": "https://localhost:8080/"
    },
    "id": "0_XIUr44YBFE",
    "outputId": "b0f2048c-bdf8-4460-c33b-807ac6f6a925"
   },
   "outputs": [
    {
     "data": {
      "text/plain": [
       "online_backup        21.666903\n",
       "internet_service     21.666903\n",
       "streaming_movies     21.666903\n",
       "streaming_tv         21.666903\n",
       "tech_support         21.666903\n",
       "device_protection    21.666903\n",
       "online_security      21.666903\n",
       "multiple_lines        9.683374\n",
       "total_charges         0.000000\n",
       "monthly_charges       0.000000\n",
       "begin_date            0.000000\n",
       "payment_method        0.000000\n",
       "paperless_billing     0.000000\n",
       "type                  0.000000\n",
       "end_date              0.000000\n",
       "gender                0.000000\n",
       "senior_citizen        0.000000\n",
       "partner               0.000000\n",
       "dependents            0.000000\n",
       "customer_id           0.000000\n",
       "dtype: float64"
      ]
     },
     "execution_count": 20,
     "metadata": {},
     "output_type": "execute_result"
    }
   ],
   "source": [
    "df_merge.isnull().sum().sort_values(ascending=False) / df_merge.shape[0] * 100"
   ]
  },
  {
   "cell_type": "code",
   "execution_count": 21,
   "metadata": {
    "colab": {
     "base_uri": "https://localhost:8080/"
    },
    "id": "p0Fj5z5_-14g",
    "outputId": "507b3a3b-ca45-4722-a269-472098dd7c01"
   },
   "outputs": [
    {
     "name": "stdout",
     "output_type": "stream",
     "text": [
      "customer_id: 7043 unique values\n",
      "begin_date: 77 unique values\n",
      "end_date: 5 unique values\n",
      "type: 3 unique values\n",
      "paperless_billing: 2 unique values\n",
      "payment_method: 4 unique values\n",
      "monthly_charges: 1585 unique values\n",
      "total_charges: 6531 unique values\n",
      "internet_service: 3 unique values\n",
      "online_security: 3 unique values\n",
      "online_backup: 3 unique values\n",
      "device_protection: 3 unique values\n",
      "tech_support: 3 unique values\n",
      "streaming_tv: 3 unique values\n",
      "streaming_movies: 3 unique values\n",
      "gender: 2 unique values\n",
      "senior_citizen: 2 unique values\n",
      "partner: 2 unique values\n",
      "dependents: 2 unique values\n",
      "multiple_lines: 3 unique values\n"
     ]
    }
   ],
   "source": [
    "for column in df_merge.columns:\n",
    "    num_unique_values = len(df_merge[column].unique())\n",
    "    print(f\"{column}: {num_unique_values} unique values\")"
   ]
  },
  {
   "cell_type": "code",
   "execution_count": 22,
   "metadata": {
    "colab": {
     "base_uri": "https://localhost:8080/"
    },
    "id": "CJHRacjfa2au",
    "outputId": "24fa3b7d-e4fd-4eb0-f8be-25c5c5691381"
   },
   "outputs": [
    {
     "name": "stdout",
     "output_type": "stream",
     "text": [
      "type: ['Month-to-month' 'One year' 'Two year'] \n",
      "paperless_billing: ['Yes' 'No'] \n",
      "payment_method: ['Electronic check' 'Mailed check' 'Bank transfer (automatic)'\n",
      " 'Credit card (automatic)'] \n",
      "internet_service: ['DSL' 'Fiber optic' nan] \n",
      "online_security: ['No' 'Yes' nan] \n",
      "online_backup: ['Yes' 'No' nan] \n",
      "device_protection: ['No' 'Yes' nan] \n",
      "tech_support: ['No' 'Yes' nan] \n",
      "streaming_tv: ['No' 'Yes' nan] \n",
      "streaming_movies: ['No' 'Yes' nan] \n",
      "gender: ['Female' 'Male'] \n",
      "senior_citizen: [0 1] \n",
      "partner: ['Yes' 'No'] \n",
      "dependents: ['No' 'Yes'] \n",
      "multiple_lines: [nan 'No' 'Yes'] \n"
     ]
    }
   ],
   "source": [
    "# check unique value for binary function\n",
    "group_unique = df_merge[['type', 'paperless_billing', 'payment_method', 'internet_service', 'online_security', 'online_backup', 'device_protection', 'tech_support', 'streaming_tv', 'streaming_movies', 'gender', 'senior_citizen', 'partner', 'dependents', 'multiple_lines']]\n",
    "for column in group_unique.columns:\n",
    "    unique_values = group_unique[column].unique()\n",
    "    print(f\"{column}: {unique_values} \")"
   ]
  },
  {
   "cell_type": "code",
   "execution_count": 23,
   "metadata": {
    "id": "TolQmPNYfTDw"
   },
   "outputs": [],
   "source": [
    "# we will replace the missing value column with \"No\" because there are only 2 choices, yes and no\n",
    "df_merge = df_merge.fillna('No')"
   ]
  },
  {
   "cell_type": "code",
   "execution_count": 24,
   "metadata": {
    "id": "Ndv0Ezoef6yd"
   },
   "outputs": [],
   "source": [
    "#df_merge.isnull().sum().sort_values(ascending=False) / df_merge.shape[0] * 100"
   ]
  },
  {
   "cell_type": "code",
   "execution_count": 25,
   "metadata": {
    "id": "MSwIKq0IImnq"
   },
   "outputs": [],
   "source": [
    "# funcion convert to binary\n",
    "def get_binary(row):\n",
    "    if row == 'No':\n",
    "        return 0\n",
    "    else:\n",
    "        return 1"
   ]
  },
  {
   "cell_type": "code",
   "execution_count": 26,
   "metadata": {
    "id": "M0TouZl4JAgj"
   },
   "outputs": [],
   "source": [
    "df_merge['paperless_billing'] = df_merge['paperless_billing'].apply(get_binary)\n",
    "df_merge['online_security'] = df_merge['online_security'].apply(get_binary)\n",
    "df_merge['online_backup'] = df_merge['online_backup'].apply(get_binary)\n",
    "df_merge['device_protection'] = df_merge['device_protection'].apply(get_binary)\n",
    "df_merge['tech_support'] = df_merge['tech_support'].apply(get_binary)\n",
    "df_merge['streaming_tv'] = df_merge['streaming_tv'].apply(get_binary)\n",
    "df_merge['streaming_movies'] = df_merge['streaming_movies'].apply(get_binary)\n",
    "df_merge['partner'] = df_merge['partner'].apply(get_binary)\n",
    "df_merge['dependents'] = df_merge['dependents'].apply(get_binary)\n",
    "df_merge['multiple_lines'] = df_merge['multiple_lines'].apply(get_binary)"
   ]
  },
  {
   "cell_type": "code",
   "execution_count": 27,
   "metadata": {
    "colab": {
     "base_uri": "https://localhost:8080/"
    },
    "id": "booXZqnI09Yk",
    "outputId": "d06bad6c-179e-4178-e6b2-e59b329cae26"
   },
   "outputs": [
    {
     "name": "stdout",
     "output_type": "stream",
     "text": [
      "type: ['Month-to-month' 'One year' 'Two year'] \n",
      "paperless_billing: [1 0] \n",
      "payment_method: ['Electronic check' 'Mailed check' 'Bank transfer (automatic)'\n",
      " 'Credit card (automatic)'] \n",
      "internet_service: ['DSL' 'Fiber optic' 'No'] \n",
      "online_security: [0 1] \n",
      "online_backup: [1 0] \n",
      "device_protection: [0 1] \n",
      "tech_support: [0 1] \n",
      "streaming_tv: [0 1] \n",
      "streaming_movies: [0 1] \n",
      "gender: ['Female' 'Male'] \n",
      "senior_citizen: [0 1] \n",
      "partner: [1 0] \n",
      "dependents: [0 1] \n",
      "multiple_lines: [0 1] \n"
     ]
    }
   ],
   "source": [
    "# check unique value for binary function\n",
    "group_unique = df_merge[['type', 'paperless_billing', 'payment_method', 'internet_service', 'online_security', 'online_backup', 'device_protection', 'tech_support', 'streaming_tv', 'streaming_movies', 'gender', 'senior_citizen', 'partner', 'dependents', 'multiple_lines']]\n",
    "for column in group_unique.columns:\n",
    "    unique_values = group_unique[column].unique()\n",
    "    print(f\"{column}: {unique_values} \")"
   ]
  },
  {
   "cell_type": "markdown",
   "metadata": {
    "id": "Xt1krknE3nxF"
   },
   "source": [
    "# 2.5 Fix Data Types <a id='data_types'></a>"
   ]
  },
  {
   "cell_type": "code",
   "execution_count": 28,
   "metadata": {
    "id": "7t8p84hTNMBU"
   },
   "outputs": [],
   "source": [
    "# change begin_date type\n",
    "df_merge['begin_date'] = pd.to_datetime(df_merge['begin_date'])"
   ]
  },
  {
   "cell_type": "code",
   "execution_count": 29,
   "metadata": {
    "id": "oxQegJgtQk0a"
   },
   "outputs": [],
   "source": [
    "# add end_date_binary column type\n",
    "df_merge['end_date_binary'] = df_merge['end_date'].apply(get_binary)"
   ]
  },
  {
   "cell_type": "code",
   "execution_count": 30,
   "metadata": {
    "id": "jd7dpVcyBOyl"
   },
   "outputs": [],
   "source": [
    "# change monhtly_charges type\n",
    "df_merge['monthly_charges'] = df_merge['monthly_charges'].astype('float')"
   ]
  },
  {
   "cell_type": "code",
   "execution_count": 31,
   "metadata": {
    "id": "L-bBqKIBArQi"
   },
   "outputs": [],
   "source": [
    "# change monhtly_charges type\n",
    "df_merge.loc[df_merge['total_charges'].isin([' ']),'total_charges'] = 0\n",
    "df_merge['total_charges'] = df_merge['total_charges'].astype('float')"
   ]
  },
  {
   "cell_type": "code",
   "execution_count": 32,
   "metadata": {
    "id": "n4n_nA2M-JYJ"
   },
   "outputs": [],
   "source": [
    "# change end_date type\n",
    "df_merge['end_date'] = df_merge['end_date'].replace('No', np.nan)"
   ]
  },
  {
   "cell_type": "code",
   "execution_count": 33,
   "metadata": {
    "id": "f1AN5p_oUjkH"
   },
   "outputs": [],
   "source": [
    "df_merge['end_date'] = pd.to_datetime(df_merge['end_date'], format='%Y-%m-%d')"
   ]
  },
  {
   "cell_type": "markdown",
   "metadata": {
    "id": "5nibXLVEWueQ"
   },
   "source": [
    "# 2.6 Add some features <a id='add_features'></a>"
   ]
  },
  {
   "cell_type": "code",
   "execution_count": 34,
   "metadata": {
    "id": "4w1POb6BXSYp"
   },
   "outputs": [],
   "source": [
    "# add end_date_month\n",
    "df_merge['end_date_month'] = df_merge['end_date'].dt.month.astype('str')"
   ]
  },
  {
   "cell_type": "code",
   "execution_count": 35,
   "metadata": {
    "id": "OJw_7y1lYexY"
   },
   "outputs": [],
   "source": [
    "# add end_date year\n",
    "df_merge['end_date_year'] = df_merge['end_date'].dt.year.astype('str')"
   ]
  },
  {
   "cell_type": "code",
   "execution_count": 36,
   "metadata": {
    "colab": {
     "base_uri": "https://localhost:8080/"
    },
    "id": "Eh9VRsZzY-LB",
    "outputId": "6ef4dbcd-295e-4f30-bee2-05595bc634c8"
   },
   "outputs": [
    {
     "name": "stdout",
     "output_type": "stream",
     "text": [
      "<class 'pandas.core.frame.DataFrame'>\n",
      "Int64Index: 7043 entries, 0 to 7042\n",
      "Data columns (total 23 columns):\n",
      " #   Column             Non-Null Count  Dtype         \n",
      "---  ------             --------------  -----         \n",
      " 0   customer_id        7043 non-null   object        \n",
      " 1   begin_date         7043 non-null   datetime64[ns]\n",
      " 2   end_date           1869 non-null   datetime64[ns]\n",
      " 3   type               7043 non-null   object        \n",
      " 4   paperless_billing  7043 non-null   int64         \n",
      " 5   payment_method     7043 non-null   object        \n",
      " 6   monthly_charges    7043 non-null   float64       \n",
      " 7   total_charges      7043 non-null   float64       \n",
      " 8   internet_service   7043 non-null   object        \n",
      " 9   online_security    7043 non-null   int64         \n",
      " 10  online_backup      7043 non-null   int64         \n",
      " 11  device_protection  7043 non-null   int64         \n",
      " 12  tech_support       7043 non-null   int64         \n",
      " 13  streaming_tv       7043 non-null   int64         \n",
      " 14  streaming_movies   7043 non-null   int64         \n",
      " 15  gender             7043 non-null   object        \n",
      " 16  senior_citizen     7043 non-null   int64         \n",
      " 17  partner            7043 non-null   int64         \n",
      " 18  dependents         7043 non-null   int64         \n",
      " 19  multiple_lines     7043 non-null   int64         \n",
      " 20  end_date_binary    7043 non-null   int64         \n",
      " 21  end_date_month     7043 non-null   object        \n",
      " 22  end_date_year      7043 non-null   object        \n",
      "dtypes: datetime64[ns](2), float64(2), int64(12), object(7)\n",
      "memory usage: 1.3+ MB\n"
     ]
    }
   ],
   "source": [
    "df_merge.info()"
   ]
  },
  {
   "cell_type": "code",
   "execution_count": 37,
   "metadata": {
    "colab": {
     "base_uri": "https://localhost:8080/",
     "height": 300
    },
    "id": "OpOSH0eEUr9i",
    "outputId": "1320dc01-457e-4c88-d7ae-5b0a774bb0e0"
   },
   "outputs": [
    {
     "data": {
      "text/html": [
       "<div>\n",
       "<style scoped>\n",
       "    .dataframe tbody tr th:only-of-type {\n",
       "        vertical-align: middle;\n",
       "    }\n",
       "\n",
       "    .dataframe tbody tr th {\n",
       "        vertical-align: top;\n",
       "    }\n",
       "\n",
       "    .dataframe thead th {\n",
       "        text-align: right;\n",
       "    }\n",
       "</style>\n",
       "<table border=\"1\" class=\"dataframe\">\n",
       "  <thead>\n",
       "    <tr style=\"text-align: right;\">\n",
       "      <th></th>\n",
       "      <th>paperless_billing</th>\n",
       "      <th>monthly_charges</th>\n",
       "      <th>total_charges</th>\n",
       "      <th>online_security</th>\n",
       "      <th>online_backup</th>\n",
       "      <th>device_protection</th>\n",
       "      <th>tech_support</th>\n",
       "      <th>streaming_tv</th>\n",
       "      <th>streaming_movies</th>\n",
       "      <th>senior_citizen</th>\n",
       "      <th>partner</th>\n",
       "      <th>dependents</th>\n",
       "      <th>multiple_lines</th>\n",
       "      <th>end_date_binary</th>\n",
       "    </tr>\n",
       "  </thead>\n",
       "  <tbody>\n",
       "    <tr>\n",
       "      <th>count</th>\n",
       "      <td>7043.000000</td>\n",
       "      <td>7043.000000</td>\n",
       "      <td>7043.000000</td>\n",
       "      <td>7043.000000</td>\n",
       "      <td>7043.000000</td>\n",
       "      <td>7043.000000</td>\n",
       "      <td>7043.000000</td>\n",
       "      <td>7043.000000</td>\n",
       "      <td>7043.000000</td>\n",
       "      <td>7043.000000</td>\n",
       "      <td>7043.000000</td>\n",
       "      <td>7043.000000</td>\n",
       "      <td>7043.000000</td>\n",
       "      <td>7043.000000</td>\n",
       "    </tr>\n",
       "    <tr>\n",
       "      <th>mean</th>\n",
       "      <td>0.592219</td>\n",
       "      <td>64.761692</td>\n",
       "      <td>2279.734304</td>\n",
       "      <td>0.286668</td>\n",
       "      <td>0.344881</td>\n",
       "      <td>0.343888</td>\n",
       "      <td>0.290217</td>\n",
       "      <td>0.384353</td>\n",
       "      <td>0.387903</td>\n",
       "      <td>0.162147</td>\n",
       "      <td>0.483033</td>\n",
       "      <td>0.299588</td>\n",
       "      <td>0.421837</td>\n",
       "      <td>0.265370</td>\n",
       "    </tr>\n",
       "    <tr>\n",
       "      <th>std</th>\n",
       "      <td>0.491457</td>\n",
       "      <td>30.090047</td>\n",
       "      <td>2266.794470</td>\n",
       "      <td>0.452237</td>\n",
       "      <td>0.475363</td>\n",
       "      <td>0.475038</td>\n",
       "      <td>0.453895</td>\n",
       "      <td>0.486477</td>\n",
       "      <td>0.487307</td>\n",
       "      <td>0.368612</td>\n",
       "      <td>0.499748</td>\n",
       "      <td>0.458110</td>\n",
       "      <td>0.493888</td>\n",
       "      <td>0.441561</td>\n",
       "    </tr>\n",
       "    <tr>\n",
       "      <th>min</th>\n",
       "      <td>0.000000</td>\n",
       "      <td>18.250000</td>\n",
       "      <td>0.000000</td>\n",
       "      <td>0.000000</td>\n",
       "      <td>0.000000</td>\n",
       "      <td>0.000000</td>\n",
       "      <td>0.000000</td>\n",
       "      <td>0.000000</td>\n",
       "      <td>0.000000</td>\n",
       "      <td>0.000000</td>\n",
       "      <td>0.000000</td>\n",
       "      <td>0.000000</td>\n",
       "      <td>0.000000</td>\n",
       "      <td>0.000000</td>\n",
       "    </tr>\n",
       "    <tr>\n",
       "      <th>25%</th>\n",
       "      <td>0.000000</td>\n",
       "      <td>35.500000</td>\n",
       "      <td>398.550000</td>\n",
       "      <td>0.000000</td>\n",
       "      <td>0.000000</td>\n",
       "      <td>0.000000</td>\n",
       "      <td>0.000000</td>\n",
       "      <td>0.000000</td>\n",
       "      <td>0.000000</td>\n",
       "      <td>0.000000</td>\n",
       "      <td>0.000000</td>\n",
       "      <td>0.000000</td>\n",
       "      <td>0.000000</td>\n",
       "      <td>0.000000</td>\n",
       "    </tr>\n",
       "    <tr>\n",
       "      <th>50%</th>\n",
       "      <td>1.000000</td>\n",
       "      <td>70.350000</td>\n",
       "      <td>1394.550000</td>\n",
       "      <td>0.000000</td>\n",
       "      <td>0.000000</td>\n",
       "      <td>0.000000</td>\n",
       "      <td>0.000000</td>\n",
       "      <td>0.000000</td>\n",
       "      <td>0.000000</td>\n",
       "      <td>0.000000</td>\n",
       "      <td>0.000000</td>\n",
       "      <td>0.000000</td>\n",
       "      <td>0.000000</td>\n",
       "      <td>0.000000</td>\n",
       "    </tr>\n",
       "    <tr>\n",
       "      <th>75%</th>\n",
       "      <td>1.000000</td>\n",
       "      <td>89.850000</td>\n",
       "      <td>3786.600000</td>\n",
       "      <td>1.000000</td>\n",
       "      <td>1.000000</td>\n",
       "      <td>1.000000</td>\n",
       "      <td>1.000000</td>\n",
       "      <td>1.000000</td>\n",
       "      <td>1.000000</td>\n",
       "      <td>0.000000</td>\n",
       "      <td>1.000000</td>\n",
       "      <td>1.000000</td>\n",
       "      <td>1.000000</td>\n",
       "      <td>1.000000</td>\n",
       "    </tr>\n",
       "    <tr>\n",
       "      <th>max</th>\n",
       "      <td>1.000000</td>\n",
       "      <td>118.750000</td>\n",
       "      <td>8684.800000</td>\n",
       "      <td>1.000000</td>\n",
       "      <td>1.000000</td>\n",
       "      <td>1.000000</td>\n",
       "      <td>1.000000</td>\n",
       "      <td>1.000000</td>\n",
       "      <td>1.000000</td>\n",
       "      <td>1.000000</td>\n",
       "      <td>1.000000</td>\n",
       "      <td>1.000000</td>\n",
       "      <td>1.000000</td>\n",
       "      <td>1.000000</td>\n",
       "    </tr>\n",
       "  </tbody>\n",
       "</table>\n",
       "</div>"
      ],
      "text/plain": [
       "       paperless_billing  monthly_charges  total_charges  online_security  \\\n",
       "count        7043.000000      7043.000000    7043.000000      7043.000000   \n",
       "mean            0.592219        64.761692    2279.734304         0.286668   \n",
       "std             0.491457        30.090047    2266.794470         0.452237   \n",
       "min             0.000000        18.250000       0.000000         0.000000   \n",
       "25%             0.000000        35.500000     398.550000         0.000000   \n",
       "50%             1.000000        70.350000    1394.550000         0.000000   \n",
       "75%             1.000000        89.850000    3786.600000         1.000000   \n",
       "max             1.000000       118.750000    8684.800000         1.000000   \n",
       "\n",
       "       online_backup  device_protection  tech_support  streaming_tv  \\\n",
       "count    7043.000000        7043.000000   7043.000000   7043.000000   \n",
       "mean        0.344881           0.343888      0.290217      0.384353   \n",
       "std         0.475363           0.475038      0.453895      0.486477   \n",
       "min         0.000000           0.000000      0.000000      0.000000   \n",
       "25%         0.000000           0.000000      0.000000      0.000000   \n",
       "50%         0.000000           0.000000      0.000000      0.000000   \n",
       "75%         1.000000           1.000000      1.000000      1.000000   \n",
       "max         1.000000           1.000000      1.000000      1.000000   \n",
       "\n",
       "       streaming_movies  senior_citizen      partner   dependents  \\\n",
       "count       7043.000000     7043.000000  7043.000000  7043.000000   \n",
       "mean           0.387903        0.162147     0.483033     0.299588   \n",
       "std            0.487307        0.368612     0.499748     0.458110   \n",
       "min            0.000000        0.000000     0.000000     0.000000   \n",
       "25%            0.000000        0.000000     0.000000     0.000000   \n",
       "50%            0.000000        0.000000     0.000000     0.000000   \n",
       "75%            1.000000        0.000000     1.000000     1.000000   \n",
       "max            1.000000        1.000000     1.000000     1.000000   \n",
       "\n",
       "       multiple_lines  end_date_binary  \n",
       "count     7043.000000      7043.000000  \n",
       "mean         0.421837         0.265370  \n",
       "std          0.493888         0.441561  \n",
       "min          0.000000         0.000000  \n",
       "25%          0.000000         0.000000  \n",
       "50%          0.000000         0.000000  \n",
       "75%          1.000000         1.000000  \n",
       "max          1.000000         1.000000  "
      ]
     },
     "execution_count": 37,
     "metadata": {},
     "output_type": "execute_result"
    }
   ],
   "source": [
    "df_merge.describe()"
   ]
  },
  {
   "cell_type": "markdown",
   "metadata": {
    "id": "IcA_oGewEhkK"
   },
   "source": [
    "# 3. Explore Data Analysis <a id='EDA'></a>"
   ]
  },
  {
   "cell_type": "markdown",
   "metadata": {
    "id": "lwHsRlxG6S4I"
   },
   "source": [
    "# 3.1 Analyze Interconnect Main Service <a id='analyze_mainservice'></a>"
   ]
  },
  {
   "cell_type": "code",
   "execution_count": 38,
   "metadata": {
    "colab": {
     "base_uri": "https://localhost:8080/",
     "height": 112
    },
    "id": "QiM0H3uThxEp",
    "outputId": "bcd72f0d-71bd-4232-dd2c-1c4f6215ec1f"
   },
   "outputs": [
    {
     "data": {
      "text/html": [
       "<div>\n",
       "<style scoped>\n",
       "    .dataframe tbody tr th:only-of-type {\n",
       "        vertical-align: middle;\n",
       "    }\n",
       "\n",
       "    .dataframe tbody tr th {\n",
       "        vertical-align: top;\n",
       "    }\n",
       "\n",
       "    .dataframe thead th {\n",
       "        text-align: right;\n",
       "    }\n",
       "</style>\n",
       "<table border=\"1\" class=\"dataframe\">\n",
       "  <thead>\n",
       "    <tr style=\"text-align: right;\">\n",
       "      <th></th>\n",
       "      <th>end_date_binary</th>\n",
       "      <th>multiple_lines</th>\n",
       "      <th>internet_service</th>\n",
       "    </tr>\n",
       "  </thead>\n",
       "  <tbody>\n",
       "    <tr>\n",
       "      <th>0</th>\n",
       "      <td>0</td>\n",
       "      <td>5174</td>\n",
       "      <td>5174</td>\n",
       "    </tr>\n",
       "    <tr>\n",
       "      <th>1</th>\n",
       "      <td>1</td>\n",
       "      <td>1869</td>\n",
       "      <td>1869</td>\n",
       "    </tr>\n",
       "  </tbody>\n",
       "</table>\n",
       "</div>"
      ],
      "text/plain": [
       "   end_date_binary  multiple_lines  internet_service\n",
       "0                0            5174              5174\n",
       "1                1            1869              1869"
      ]
     },
     "execution_count": 38,
     "metadata": {},
     "output_type": "execute_result"
    }
   ],
   "source": [
    "# General Distribution End Date Customer by Interconnect Main Service\n",
    "agg_churn_mainservice = df_merge.groupby(['end_date_binary', ]).agg({'multiple_lines' : 'count', 'internet_service' : 'count'}).sort_values('end_date_binary').reset_index()\n",
    "agg_churn_mainservice"
   ]
  },
  {
   "cell_type": "code",
   "execution_count": 39,
   "metadata": {
    "colab": {
     "base_uri": "https://localhost:8080/",
     "height": 460
    },
    "id": "ATtCy0IM528c",
    "outputId": "6b32109b-4a04-4630-b7f8-dffa759f6301"
   },
   "outputs": [
    {
     "data": {
      "image/png": "[encoded data removed]",
      "text/plain": [
       "<Figure size 720x360 with 1 Axes>"
      ]
     },
     "metadata": {
      "needs_background": "light"
     },
     "output_type": "display_data"
    }
   ],
   "source": [
    "agg_churn_mainservice.plot(kind='bar', x='end_date_binary', figsize=(10,5))\n",
    "plt.show()"
   ]
  },
  {
   "cell_type": "markdown",
   "metadata": {
    "id": "1hsQj_LR7pBQ"
   },
   "source": [
    "<div style=\"background-color:rgba(0, 255, 172, 0.07)\"\n",
    "\n",
    "The bar graph show the distribution for customers based on the main service is the same. And more customers are staying than are not staying.\n",
    "\n",
    "</div>"
   ]
  },
  {
   "cell_type": "code",
   "execution_count": 40,
   "metadata": {
    "colab": {
     "base_uri": "https://localhost:8080/",
     "height": 143
    },
    "id": "QHrj0V-V_MeE",
    "outputId": "aeef0143-ae62-4f50-a4e0-8ea29a322515"
   },
   "outputs": [
    {
     "data": {
      "text/html": [
       "<div>\n",
       "<style scoped>\n",
       "    .dataframe tbody tr th:only-of-type {\n",
       "        vertical-align: middle;\n",
       "    }\n",
       "\n",
       "    .dataframe tbody tr th {\n",
       "        vertical-align: top;\n",
       "    }\n",
       "\n",
       "    .dataframe thead th {\n",
       "        text-align: right;\n",
       "    }\n",
       "</style>\n",
       "<table border=\"1\" class=\"dataframe\">\n",
       "  <thead>\n",
       "    <tr style=\"text-align: right;\">\n",
       "      <th></th>\n",
       "      <th>internet_service</th>\n",
       "      <th>total_charges</th>\n",
       "    </tr>\n",
       "  </thead>\n",
       "  <tbody>\n",
       "    <tr>\n",
       "      <th>0</th>\n",
       "      <td>Fiber optic</td>\n",
       "      <td>3205.304570</td>\n",
       "    </tr>\n",
       "    <tr>\n",
       "      <th>1</th>\n",
       "      <td>DSL</td>\n",
       "      <td>2115.411338</td>\n",
       "    </tr>\n",
       "    <tr>\n",
       "      <th>2</th>\n",
       "      <td>No</td>\n",
       "      <td>662.604784</td>\n",
       "    </tr>\n",
       "  </tbody>\n",
       "</table>\n",
       "</div>"
      ],
      "text/plain": [
       "  internet_service  total_charges\n",
       "0      Fiber optic    3205.304570\n",
       "1              DSL    2115.411338\n",
       "2               No     662.604784"
      ]
     },
     "execution_count": 40,
     "metadata": {},
     "output_type": "execute_result"
    }
   ],
   "source": [
    "pivot_tcharge_mainservice = df_merge.pivot_table(index='internet_service', values=['total_charges'], aggfunc='mean').sort_values('total_charges', ascending=False).reset_index()\n",
    "pivot_tcharge_mainservice"
   ]
  },
  {
   "cell_type": "code",
   "execution_count": 41,
   "metadata": {
    "colab": {
     "base_uri": "https://localhost:8080/",
     "height": 524
    },
    "id": "vw0avLsVCkLd",
    "outputId": "5d8abfcc-bb62-4868-d2a8-d94b7b80fa4a"
   },
   "outputs": [
    {
     "data": {
      "image/png": "[encoded data removed]",
      "text/plain": [
       "<Figure size 720x360 with 1 Axes>"
      ]
     },
     "metadata": {
      "needs_background": "light"
     },
     "output_type": "display_data"
    }
   ],
   "source": [
    "pivot_tcharge_mainservice.plot(kind='bar', x='internet_service', figsize=(10,5))\n",
    "plt.show()"
   ]
  },
  {
   "cell_type": "markdown",
   "metadata": {
    "id": "LmApFTFNDOlJ"
   },
   "source": [
    "<div style=\"background-color:rgba(0, 255, 172, 0.07)\"\n",
    "     \n",
    "Internet Service with Fiber Optic has the most total charge among the others\n",
    "</div>"
   ]
  },
  {
   "cell_type": "markdown",
   "metadata": {
    "id": "B3hS3_BQD5_I"
   },
   "source": [
    "# 3.2 Analyze Total Charge From Exit User By Gender <a id='analyze_tcharge_gender'></a>"
   ]
  },
  {
   "cell_type": "code",
   "execution_count": 42,
   "metadata": {
    "id": "cCCg1dXPhd5L"
   },
   "outputs": [],
   "source": [
    "df_active_user = df_merge.loc[df_merge['end_date_binary'] == 0]\n",
    "df_exit_user = df_merge.loc[df_merge['end_date_binary'] == 1]"
   ]
  },
  {
   "cell_type": "code",
   "execution_count": 43,
   "metadata": {
    "colab": {
     "base_uri": "https://localhost:8080/",
     "height": 112
    },
    "id": "ZUhAwvu1WV8R",
    "outputId": "5596fa38-a869-413f-f8c7-8f0dea1d9497"
   },
   "outputs": [
    {
     "data": {
      "text/html": [
       "<div>\n",
       "<style scoped>\n",
       "    .dataframe tbody tr th:only-of-type {\n",
       "        vertical-align: middle;\n",
       "    }\n",
       "\n",
       "    .dataframe tbody tr th {\n",
       "        vertical-align: top;\n",
       "    }\n",
       "\n",
       "    .dataframe thead th {\n",
       "        text-align: right;\n",
       "    }\n",
       "</style>\n",
       "<table border=\"1\" class=\"dataframe\">\n",
       "  <thead>\n",
       "    <tr style=\"text-align: right;\">\n",
       "      <th></th>\n",
       "      <th>gender</th>\n",
       "      <th>total_charges</th>\n",
       "    </tr>\n",
       "  </thead>\n",
       "  <tbody>\n",
       "    <tr>\n",
       "      <th>0</th>\n",
       "      <td>Male</td>\n",
       "      <td>1623.491559</td>\n",
       "    </tr>\n",
       "    <tr>\n",
       "      <th>1</th>\n",
       "      <td>Female</td>\n",
       "      <td>1440.979499</td>\n",
       "    </tr>\n",
       "  </tbody>\n",
       "</table>\n",
       "</div>"
      ],
      "text/plain": [
       "   gender  total_charges\n",
       "0    Male    1623.491559\n",
       "1  Female    1440.979499"
      ]
     },
     "execution_count": 43,
     "metadata": {},
     "output_type": "execute_result"
    }
   ],
   "source": [
    "pivot_tcharge_gender = df_exit_user.pivot_table(index=['gender'], values=['total_charges'], aggfunc='mean').sort_values('total_charges', ascending=False).reset_index()\n",
    "pivot_tcharge_gender"
   ]
  },
  {
   "cell_type": "code",
   "execution_count": 44,
   "metadata": {
    "colab": {
     "base_uri": "https://localhost:8080/",
     "height": 112
    },
    "id": "1RP70e3MnF8d",
    "outputId": "38b45ad0-a5a4-43d5-cfa6-a9eed357d452"
   },
   "outputs": [
    {
     "data": {
      "text/html": [
       "<div>\n",
       "<style scoped>\n",
       "    .dataframe tbody tr th:only-of-type {\n",
       "        vertical-align: middle;\n",
       "    }\n",
       "\n",
       "    .dataframe tbody tr th {\n",
       "        vertical-align: top;\n",
       "    }\n",
       "\n",
       "    .dataframe thead th {\n",
       "        text-align: right;\n",
       "    }\n",
       "</style>\n",
       "<table border=\"1\" class=\"dataframe\">\n",
       "  <thead>\n",
       "    <tr style=\"text-align: right;\">\n",
       "      <th></th>\n",
       "      <th>gender</th>\n",
       "      <th>total_charges</th>\n",
       "    </tr>\n",
       "  </thead>\n",
       "  <tbody>\n",
       "    <tr>\n",
       "      <th>0</th>\n",
       "      <td>Female</td>\n",
       "      <td>2588.966046</td>\n",
       "    </tr>\n",
       "    <tr>\n",
       "      <th>1</th>\n",
       "      <td>Male</td>\n",
       "      <td>2511.987562</td>\n",
       "    </tr>\n",
       "  </tbody>\n",
       "</table>\n",
       "</div>"
      ],
      "text/plain": [
       "   gender  total_charges\n",
       "0  Female    2588.966046\n",
       "1    Male    2511.987562"
      ]
     },
     "execution_count": 44,
     "metadata": {},
     "output_type": "execute_result"
    }
   ],
   "source": [
    "pivot_tcharge_test = df_active_user.pivot_table(index=['gender'], values=['total_charges'], aggfunc='mean').sort_values('total_charges', ascending=False).reset_index()\n",
    "pivot_tcharge_test"
   ]
  },
  {
   "cell_type": "code",
   "execution_count": 45,
   "metadata": {
    "colab": {
     "base_uri": "https://localhost:8080/",
     "height": 501
    },
    "id": "syKnXx1xY1yr",
    "outputId": "ebcb29b2-35cf-460c-b0d0-37a27fe4380f"
   },
   "outputs": [
    {
     "data": {
      "image/png": "[encoded data removed]",
      "text/plain": [
       "<Figure size 720x360 with 1 Axes>"
      ]
     },
     "metadata": {
      "needs_background": "light"
     },
     "output_type": "display_data"
    }
   ],
   "source": [
    "pivot_tcharge_gender.plot(kind='bar', x='gender', figsize=(10,5))\n",
    "plt.show()"
   ]
  },
  {
   "cell_type": "markdown",
   "metadata": {
    "id": "_oso8_GQB45W"
   },
   "source": [
    "<div style=\"background-color:rgba(0, 255, 172, 0.07)\"\n",
    "     \n",
    "The total charge from user exits with male gender is more than female gender\n",
    "</div>"
   ]
  },
  {
   "cell_type": "markdown",
   "metadata": {
    "id": "1DqRjZ0sZ4LZ"
   },
   "source": [
    "# 3.3 Analyze Total Charge From Exit By Month <a id='analyze_tcharge_month'></a>"
   ]
  },
  {
   "cell_type": "code",
   "execution_count": 46,
   "metadata": {
    "colab": {
     "base_uri": "https://localhost:8080/",
     "height": 175
    },
    "id": "-tEa48aRZ9Ci",
    "outputId": "0a0509b3-f941-4206-fcc9-7e2ee588bd15"
   },
   "outputs": [
    {
     "data": {
      "text/html": [
       "<div>\n",
       "<style scoped>\n",
       "    .dataframe tbody tr th:only-of-type {\n",
       "        vertical-align: middle;\n",
       "    }\n",
       "\n",
       "    .dataframe tbody tr th {\n",
       "        vertical-align: top;\n",
       "    }\n",
       "\n",
       "    .dataframe thead th {\n",
       "        text-align: right;\n",
       "    }\n",
       "</style>\n",
       "<table border=\"1\" class=\"dataframe\">\n",
       "  <thead>\n",
       "    <tr style=\"text-align: right;\">\n",
       "      <th></th>\n",
       "      <th>end_date_month</th>\n",
       "      <th>total_charges</th>\n",
       "    </tr>\n",
       "  </thead>\n",
       "  <tbody>\n",
       "    <tr>\n",
       "      <th>0</th>\n",
       "      <td>10.0</td>\n",
       "      <td>1619.448035</td>\n",
       "    </tr>\n",
       "    <tr>\n",
       "      <th>1</th>\n",
       "      <td>12.0</td>\n",
       "      <td>1584.518348</td>\n",
       "    </tr>\n",
       "    <tr>\n",
       "      <th>2</th>\n",
       "      <td>1.0</td>\n",
       "      <td>1487.655109</td>\n",
       "    </tr>\n",
       "    <tr>\n",
       "      <th>3</th>\n",
       "      <td>11.0</td>\n",
       "      <td>1440.232577</td>\n",
       "    </tr>\n",
       "  </tbody>\n",
       "</table>\n",
       "</div>"
      ],
      "text/plain": [
       "  end_date_month  total_charges\n",
       "0           10.0    1619.448035\n",
       "1           12.0    1584.518348\n",
       "2            1.0    1487.655109\n",
       "3           11.0    1440.232577"
      ]
     },
     "execution_count": 46,
     "metadata": {},
     "output_type": "execute_result"
    }
   ],
   "source": [
    "pivot_tcharge_month = df_exit_user.pivot_table(index=['end_date_month'], values=['total_charges'], aggfunc='mean').sort_values('total_charges', ascending=False).reset_index()\n",
    "pivot_tcharge_month"
   ]
  },
  {
   "cell_type": "code",
   "execution_count": 47,
   "metadata": {
    "colab": {
     "base_uri": "https://localhost:8080/",
     "height": 482
    },
    "id": "FVTrX17HjKkp",
    "outputId": "0fea2628-c66c-4393-95a6-2c6857fe0b84",
    "scrolled": false
   },
   "outputs": [
    {
     "data": {
      "image/png": "[encoded data removed]",
      "text/plain": [
       "<Figure size 720x360 with 1 Axes>"
      ]
     },
     "metadata": {
      "needs_background": "light"
     },
     "output_type": "display_data"
    }
   ],
   "source": [
    "pivot_tcharge_month.plot(kind='bar', x='end_date_month', figsize=(10,5))\n",
    "plt.show()"
   ]
  },
  {
   "cell_type": "markdown",
   "metadata": {
    "id": "PhErbW5ECRpD"
   },
   "source": [
    "<div style=\"background-color:rgba(0, 255, 172, 0.07)\"\n",
    " \n",
    "     \n",
    "The total charge from user exits in october and december is more than in other months     \n",
    "</div>"
   ]
  },
  {
   "cell_type": "markdown",
   "metadata": {
    "id": "Z-_ZhA_NTvuT"
   },
   "source": [
    "# 3.4 Analyze Total Charges By Type, Payment Methode, Internet Service <a id='analyze_tcharge_all'></a>"
   ]
  },
  {
   "cell_type": "code",
   "execution_count": 48,
   "metadata": {
    "colab": {
     "base_uri": "https://localhost:8080/",
     "height": 1000
    },
    "id": "xQ4X3f0ZE2zK",
    "outputId": "42302863-5de8-447d-8742-9d5700645c4c"
   },
   "outputs": [
    {
     "data": {
      "text/html": [
       "<div>\n",
       "<style scoped>\n",
       "    .dataframe tbody tr th:only-of-type {\n",
       "        vertical-align: middle;\n",
       "    }\n",
       "\n",
       "    .dataframe tbody tr th {\n",
       "        vertical-align: top;\n",
       "    }\n",
       "\n",
       "    .dataframe thead th {\n",
       "        text-align: right;\n",
       "    }\n",
       "</style>\n",
       "<table border=\"1\" class=\"dataframe\">\n",
       "  <thead>\n",
       "    <tr style=\"text-align: right;\">\n",
       "      <th></th>\n",
       "      <th>type</th>\n",
       "      <th>payment_method</th>\n",
       "      <th>internet_service</th>\n",
       "      <th>exit_count</th>\n",
       "      <th>mean_monthly_charges</th>\n",
       "      <th>mean_total_charges</th>\n",
       "    </tr>\n",
       "  </thead>\n",
       "  <tbody>\n",
       "    <tr>\n",
       "      <th>0</th>\n",
       "      <td>Month-to-month</td>\n",
       "      <td>Electronic check</td>\n",
       "      <td>Fiber optic</td>\n",
       "      <td>789</td>\n",
       "      <td>86.541825</td>\n",
       "      <td>1417.082319</td>\n",
       "    </tr>\n",
       "    <tr>\n",
       "      <th>1</th>\n",
       "      <td>Month-to-month</td>\n",
       "      <td>Electronic check</td>\n",
       "      <td>DSL</td>\n",
       "      <td>192</td>\n",
       "      <td>45.710677</td>\n",
       "      <td>461.908333</td>\n",
       "    </tr>\n",
       "    <tr>\n",
       "      <th>2</th>\n",
       "      <td>Month-to-month</td>\n",
       "      <td>Bank transfer (automatic)</td>\n",
       "      <td>Fiber optic</td>\n",
       "      <td>149</td>\n",
       "      <td>87.665101</td>\n",
       "      <td>1907.954362</td>\n",
       "    </tr>\n",
       "    <tr>\n",
       "      <th>3</th>\n",
       "      <td>Month-to-month</td>\n",
       "      <td>Credit card (automatic)</td>\n",
       "      <td>Fiber optic</td>\n",
       "      <td>122</td>\n",
       "      <td>87.960246</td>\n",
       "      <td>2070.297951</td>\n",
       "    </tr>\n",
       "    <tr>\n",
       "      <th>4</th>\n",
       "      <td>Month-to-month</td>\n",
       "      <td>Mailed check</td>\n",
       "      <td>DSL</td>\n",
       "      <td>113</td>\n",
       "      <td>46.832743</td>\n",
       "      <td>248.289823</td>\n",
       "    </tr>\n",
       "    <tr>\n",
       "      <th>5</th>\n",
       "      <td>Month-to-month</td>\n",
       "      <td>Mailed check</td>\n",
       "      <td>Fiber optic</td>\n",
       "      <td>102</td>\n",
       "      <td>82.424020</td>\n",
       "      <td>752.088235</td>\n",
       "    </tr>\n",
       "    <tr>\n",
       "      <th>6</th>\n",
       "      <td>Month-to-month</td>\n",
       "      <td>Mailed check</td>\n",
       "      <td>No</td>\n",
       "      <td>67</td>\n",
       "      <td>20.075373</td>\n",
       "      <td>80.879104</td>\n",
       "    </tr>\n",
       "    <tr>\n",
       "      <th>7</th>\n",
       "      <td>One year</td>\n",
       "      <td>Electronic check</td>\n",
       "      <td>Fiber optic</td>\n",
       "      <td>51</td>\n",
       "      <td>100.973529</td>\n",
       "      <td>5167.033333</td>\n",
       "    </tr>\n",
       "    <tr>\n",
       "      <th>8</th>\n",
       "      <td>Month-to-month</td>\n",
       "      <td>Credit card (automatic)</td>\n",
       "      <td>DSL</td>\n",
       "      <td>50</td>\n",
       "      <td>49.496000</td>\n",
       "      <td>775.772000</td>\n",
       "    </tr>\n",
       "    <tr>\n",
       "      <th>9</th>\n",
       "      <td>Month-to-month</td>\n",
       "      <td>Bank transfer (automatic)</td>\n",
       "      <td>DSL</td>\n",
       "      <td>39</td>\n",
       "      <td>46.766667</td>\n",
       "      <td>770.482051</td>\n",
       "    </tr>\n",
       "    <tr>\n",
       "      <th>10</th>\n",
       "      <td>One year</td>\n",
       "      <td>Bank transfer (automatic)</td>\n",
       "      <td>Fiber optic</td>\n",
       "      <td>23</td>\n",
       "      <td>101.928261</td>\n",
       "      <td>5334.906522</td>\n",
       "    </tr>\n",
       "    <tr>\n",
       "      <th>11</th>\n",
       "      <td>One year</td>\n",
       "      <td>Credit card (automatic)</td>\n",
       "      <td>Fiber optic</td>\n",
       "      <td>23</td>\n",
       "      <td>104.015217</td>\n",
       "      <td>6009.413043</td>\n",
       "    </tr>\n",
       "    <tr>\n",
       "      <th>12</th>\n",
       "      <td>One year</td>\n",
       "      <td>Credit card (automatic)</td>\n",
       "      <td>DSL</td>\n",
       "      <td>17</td>\n",
       "      <td>66.647059</td>\n",
       "      <td>2681.329412</td>\n",
       "    </tr>\n",
       "    <tr>\n",
       "      <th>13</th>\n",
       "      <td>Two year</td>\n",
       "      <td>Bank transfer (automatic)</td>\n",
       "      <td>Fiber optic</td>\n",
       "      <td>15</td>\n",
       "      <td>105.343333</td>\n",
       "      <td>6758.763333</td>\n",
       "    </tr>\n",
       "    <tr>\n",
       "      <th>14</th>\n",
       "      <td>One year</td>\n",
       "      <td>Mailed check</td>\n",
       "      <td>DSL</td>\n",
       "      <td>14</td>\n",
       "      <td>63.903571</td>\n",
       "      <td>1713.978571</td>\n",
       "    </tr>\n",
       "    <tr>\n",
       "      <th>15</th>\n",
       "      <td>Month-to-month</td>\n",
       "      <td>Electronic check</td>\n",
       "      <td>No</td>\n",
       "      <td>13</td>\n",
       "      <td>19.819231</td>\n",
       "      <td>90.296154</td>\n",
       "    </tr>\n",
       "    <tr>\n",
       "      <th>16</th>\n",
       "      <td>Month-to-month</td>\n",
       "      <td>Bank transfer (automatic)</td>\n",
       "      <td>No</td>\n",
       "      <td>13</td>\n",
       "      <td>20.457692</td>\n",
       "      <td>177.765385</td>\n",
       "    </tr>\n",
       "    <tr>\n",
       "      <th>17</th>\n",
       "      <td>One year</td>\n",
       "      <td>Bank transfer (automatic)</td>\n",
       "      <td>DSL</td>\n",
       "      <td>11</td>\n",
       "      <td>63.340909</td>\n",
       "      <td>2579.990909</td>\n",
       "    </tr>\n",
       "    <tr>\n",
       "      <th>18</th>\n",
       "      <td>One year</td>\n",
       "      <td>Electronic check</td>\n",
       "      <td>DSL</td>\n",
       "      <td>11</td>\n",
       "      <td>57.440909</td>\n",
       "      <td>2196.068182</td>\n",
       "    </tr>\n",
       "    <tr>\n",
       "      <th>19</th>\n",
       "      <td>Two year</td>\n",
       "      <td>Electronic check</td>\n",
       "      <td>Fiber optic</td>\n",
       "      <td>9</td>\n",
       "      <td>101.694444</td>\n",
       "      <td>5978.300000</td>\n",
       "    </tr>\n",
       "    <tr>\n",
       "      <th>20</th>\n",
       "      <td>One year</td>\n",
       "      <td>Mailed check</td>\n",
       "      <td>Fiber optic</td>\n",
       "      <td>7</td>\n",
       "      <td>97.942857</td>\n",
       "      <td>3377.992857</td>\n",
       "    </tr>\n",
       "    <tr>\n",
       "      <th>21</th>\n",
       "      <td>Two year</td>\n",
       "      <td>Credit card (automatic)</td>\n",
       "      <td>Fiber optic</td>\n",
       "      <td>6</td>\n",
       "      <td>109.200000</td>\n",
       "      <td>7284.491667</td>\n",
       "    </tr>\n",
       "    <tr>\n",
       "      <th>22</th>\n",
       "      <td>Month-to-month</td>\n",
       "      <td>Credit card (automatic)</td>\n",
       "      <td>No</td>\n",
       "      <td>6</td>\n",
       "      <td>21.533333</td>\n",
       "      <td>174.250000</td>\n",
       "    </tr>\n",
       "    <tr>\n",
       "      <th>23</th>\n",
       "      <td>Two year</td>\n",
       "      <td>Credit card (automatic)</td>\n",
       "      <td>DSL</td>\n",
       "      <td>5</td>\n",
       "      <td>72.340000</td>\n",
       "      <td>4659.150000</td>\n",
       "    </tr>\n",
       "    <tr>\n",
       "      <th>24</th>\n",
       "      <td>Two year</td>\n",
       "      <td>Electronic check</td>\n",
       "      <td>DSL</td>\n",
       "      <td>4</td>\n",
       "      <td>57.775000</td>\n",
       "      <td>3973.400000</td>\n",
       "    </tr>\n",
       "    <tr>\n",
       "      <th>25</th>\n",
       "      <td>One year</td>\n",
       "      <td>Bank transfer (automatic)</td>\n",
       "      <td>No</td>\n",
       "      <td>4</td>\n",
       "      <td>21.512500</td>\n",
       "      <td>579.650000</td>\n",
       "    </tr>\n",
       "    <tr>\n",
       "      <th>26</th>\n",
       "      <td>Two year</td>\n",
       "      <td>Bank transfer (automatic)</td>\n",
       "      <td>DSL</td>\n",
       "      <td>3</td>\n",
       "      <td>70.966667</td>\n",
       "      <td>4377.216667</td>\n",
       "    </tr>\n",
       "    <tr>\n",
       "      <th>27</th>\n",
       "      <td>Two year</td>\n",
       "      <td>Credit card (automatic)</td>\n",
       "      <td>No</td>\n",
       "      <td>2</td>\n",
       "      <td>24.950000</td>\n",
       "      <td>1009.625000</td>\n",
       "    </tr>\n",
       "    <tr>\n",
       "      <th>28</th>\n",
       "      <td>Two year</td>\n",
       "      <td>Mailed check</td>\n",
       "      <td>No</td>\n",
       "      <td>2</td>\n",
       "      <td>21.925000</td>\n",
       "      <td>919.950000</td>\n",
       "    </tr>\n",
       "    <tr>\n",
       "      <th>29</th>\n",
       "      <td>One year</td>\n",
       "      <td>Mailed check</td>\n",
       "      <td>No</td>\n",
       "      <td>2</td>\n",
       "      <td>19.800000</td>\n",
       "      <td>90.450000</td>\n",
       "    </tr>\n",
       "    <tr>\n",
       "      <th>30</th>\n",
       "      <td>One year</td>\n",
       "      <td>Electronic check</td>\n",
       "      <td>No</td>\n",
       "      <td>2</td>\n",
       "      <td>22.650000</td>\n",
       "      <td>1132.225000</td>\n",
       "    </tr>\n",
       "    <tr>\n",
       "      <th>31</th>\n",
       "      <td>Two year</td>\n",
       "      <td>Bank transfer (automatic)</td>\n",
       "      <td>No</td>\n",
       "      <td>1</td>\n",
       "      <td>19.750000</td>\n",
       "      <td>1052.350000</td>\n",
       "    </tr>\n",
       "    <tr>\n",
       "      <th>32</th>\n",
       "      <td>Two year</td>\n",
       "      <td>Mailed check</td>\n",
       "      <td>Fiber optic</td>\n",
       "      <td>1</td>\n",
       "      <td>95.500000</td>\n",
       "      <td>4627.850000</td>\n",
       "    </tr>\n",
       "    <tr>\n",
       "      <th>33</th>\n",
       "      <td>One year</td>\n",
       "      <td>Credit card (automatic)</td>\n",
       "      <td>No</td>\n",
       "      <td>1</td>\n",
       "      <td>19.300000</td>\n",
       "      <td>28.300000</td>\n",
       "    </tr>\n",
       "  </tbody>\n",
       "</table>\n",
       "</div>"
      ],
      "text/plain": [
       "              type             payment_method internet_service  exit_count  \\\n",
       "0   Month-to-month           Electronic check      Fiber optic         789   \n",
       "1   Month-to-month           Electronic check              DSL         192   \n",
       "2   Month-to-month  Bank transfer (automatic)      Fiber optic         149   \n",
       "3   Month-to-month    Credit card (automatic)      Fiber optic         122   \n",
       "4   Month-to-month               Mailed check              DSL         113   \n",
       "5   Month-to-month               Mailed check      Fiber optic         102   \n",
       "6   Month-to-month               Mailed check               No          67   \n",
       "7         One year           Electronic check      Fiber optic          51   \n",
       "8   Month-to-month    Credit card (automatic)              DSL          50   \n",
       "9   Month-to-month  Bank transfer (automatic)              DSL          39   \n",
       "10        One year  Bank transfer (automatic)      Fiber optic          23   \n",
       "11        One year    Credit card (automatic)      Fiber optic          23   \n",
       "12        One year    Credit card (automatic)              DSL          17   \n",
       "13        Two year  Bank transfer (automatic)      Fiber optic          15   \n",
       "14        One year               Mailed check              DSL          14   \n",
       "15  Month-to-month           Electronic check               No          13   \n",
       "16  Month-to-month  Bank transfer (automatic)               No          13   \n",
       "17        One year  Bank transfer (automatic)              DSL          11   \n",
       "18        One year           Electronic check              DSL          11   \n",
       "19        Two year           Electronic check      Fiber optic           9   \n",
       "20        One year               Mailed check      Fiber optic           7   \n",
       "21        Two year    Credit card (automatic)      Fiber optic           6   \n",
       "22  Month-to-month    Credit card (automatic)               No           6   \n",
       "23        Two year    Credit card (automatic)              DSL           5   \n",
       "24        Two year           Electronic check              DSL           4   \n",
       "25        One year  Bank transfer (automatic)               No           4   \n",
       "26        Two year  Bank transfer (automatic)              DSL           3   \n",
       "27        Two year    Credit card (automatic)               No           2   \n",
       "28        Two year               Mailed check               No           2   \n",
       "29        One year               Mailed check               No           2   \n",
       "30        One year           Electronic check               No           2   \n",
       "31        Two year  Bank transfer (automatic)               No           1   \n",
       "32        Two year               Mailed check      Fiber optic           1   \n",
       "33        One year    Credit card (automatic)               No           1   \n",
       "\n",
       "    mean_monthly_charges  mean_total_charges  \n",
       "0              86.541825         1417.082319  \n",
       "1              45.710677          461.908333  \n",
       "2              87.665101         1907.954362  \n",
       "3              87.960246         2070.297951  \n",
       "4              46.832743          248.289823  \n",
       "5              82.424020          752.088235  \n",
       "6              20.075373           80.879104  \n",
       "7             100.973529         5167.033333  \n",
       "8              49.496000          775.772000  \n",
       "9              46.766667          770.482051  \n",
       "10            101.928261         5334.906522  \n",
       "11            104.015217         6009.413043  \n",
       "12             66.647059         2681.329412  \n",
       "13            105.343333         6758.763333  \n",
       "14             63.903571         1713.978571  \n",
       "15             19.819231           90.296154  \n",
       "16             20.457692          177.765385  \n",
       "17             63.340909         2579.990909  \n",
       "18             57.440909         2196.068182  \n",
       "19            101.694444         5978.300000  \n",
       "20             97.942857         3377.992857  \n",
       "21            109.200000         7284.491667  \n",
       "22             21.533333          174.250000  \n",
       "23             72.340000         4659.150000  \n",
       "24             57.775000         3973.400000  \n",
       "25             21.512500          579.650000  \n",
       "26             70.966667         4377.216667  \n",
       "27             24.950000         1009.625000  \n",
       "28             21.925000          919.950000  \n",
       "29             19.800000           90.450000  \n",
       "30             22.650000         1132.225000  \n",
       "31             19.750000         1052.350000  \n",
       "32             95.500000         4627.850000  \n",
       "33             19.300000           28.300000  "
      ]
     },
     "execution_count": 48,
     "metadata": {},
     "output_type": "execute_result"
    }
   ],
   "source": [
    "agg_exit_count = df_exit_user.groupby(['type', 'payment_method', 'internet_service']).agg({\n",
    "    'end_date_binary' : 'count', 'monthly_charges' : 'mean', 'total_charges' : 'mean'}).sort_values('end_date_binary', ascending=False).reset_index().rename(columns={\n",
    "        'end_date_binary' : 'exit_count', 'monthly_charges' : 'mean_monthly_charges', 'total_charges': 'mean_total_charges'})\n",
    "    \n",
    "agg_exit_count"
   ]
  },
  {
   "cell_type": "code",
   "execution_count": 49,
   "metadata": {
    "colab": {
     "base_uri": "https://localhost:8080/",
     "height": 465
    },
    "id": "CKxScBrZPKRS",
    "outputId": "95e79900-c3c2-4af8-b8a6-7d2ed6591e41"
   },
   "outputs": [
    {
     "data": {
      "image/png": "[encoded data removed]",
      "text/plain": [
       "<Figure size 720x360 with 1 Axes>"
      ]
     },
     "metadata": {
      "needs_background": "light"
     },
     "output_type": "display_data"
    }
   ],
   "source": [
    "plt.figure(figsize=(10,5))\n",
    "sns.barplot(data=agg_exit_count, hue='payment_method',x='type',y='exit_count')\n",
    "plt.show()"
   ]
  },
  {
   "cell_type": "code",
   "execution_count": 50,
   "metadata": {
    "colab": {
     "base_uri": "https://localhost:8080/",
     "height": 465
    },
    "id": "ou2uXLl7Sc5e",
    "outputId": "723e2cc4-2cc1-4044-ffe7-7c3e5b027a93"
   },
   "outputs": [
    {
     "data": {
      "image/png": "[encoded data removed]",
      "text/plain": [
       "<Figure size 720x360 with 1 Axes>"
      ]
     },
     "metadata": {
      "needs_background": "light"
     },
     "output_type": "display_data"
    }
   ],
   "source": [
    "plt.figure(figsize=(10,5))\n",
    "sns.barplot(data=agg_exit_count, hue='internet_service',x='type',y='exit_count')\n",
    "plt.show()"
   ]
  },
  {
   "cell_type": "markdown",
   "metadata": {
    "id": "foJNhAXvSq4C"
   },
   "source": [
    "<div style=\"background-color:rgba(0, 255, 172, 0.07)\"\n",
    "     \n",
    "The two graphs show that the most user exits are type month to month, the payment method is electronic check, and the internet service is fiber optic. \n",
    "We will find out whether there are factors in the total charges or monthly charges that affect users exit\n",
    "\n",
    "</div>"
   ]
  },
  {
   "cell_type": "code",
   "execution_count": 51,
   "metadata": {
    "id": "-kHe_5RVr_vF"
   },
   "outputs": [],
   "source": [
    "# Group type\n",
    "groupby_type_tcharge = df_exit_user.groupby(['type'])['total_charges'].mean().reset_index().sort_values(by='total_charges', ascending = False)\n",
    "\n",
    "# Group payment method\n",
    "groupby_method_tcharge = df_exit_user.groupby(['payment_method'])['total_charges'].mean().reset_index().sort_values(by='total_charges', ascending = False)\n",
    "\n",
    "# Group internet service\n",
    "groupby_internet_tcharge = df_exit_user.groupby(['internet_service'])['total_charges'].mean().reset_index().sort_values(by='total_charges', ascending = False)\n",
    "\n",
    "#groupby_internet_tcharge"
   ]
  },
  {
   "cell_type": "code",
   "execution_count": 52,
   "metadata": {
    "colab": {
     "base_uri": "https://localhost:8080/",
     "height": 472
    },
    "id": "V314jmXHOGhS",
    "outputId": "c296179b-5968-4883-b416-1f626746a201"
   },
   "outputs": [
    {
     "data": {
      "image/png": "[encoded data removed]",
      "text/plain": [
       "<Figure size 1080x360 with 3 Axes>"
      ]
     },
     "metadata": {},
     "output_type": "display_data"
    }
   ],
   "source": [
    "fig, (ax1,ax2,ax3) = plt.subplots(1,3,figsize=(15,5))\n",
    "\n",
    "fig.suptitle('Distribution Average Total Charges', fontsize=15)\n",
    "\n",
    "#Type\n",
    "labels = groupby_type_tcharge['type']\n",
    "sizes = groupby_type_tcharge['total_charges']\n",
    "explode = (0.05, 0.05, 0.05)\n",
    "\n",
    "ax1.pie(sizes, explode=explode, labels=labels, autopct='%1.1f%%',\n",
    "        shadow=True, startangle=90)\n",
    "ax1.axis('equal')\n",
    "ax1.set_title('Type');\n",
    "\n",
    "#Payment Method\n",
    "labels = groupby_method_tcharge['payment_method']\n",
    "sizes = groupby_method_tcharge['total_charges']\n",
    "explode = (0.05, 0.05, 0.05, 0.05)\n",
    "\n",
    "ax2.pie(sizes, explode=explode, labels=labels, autopct='%1.1f%%',\n",
    "        shadow=True, startangle=90)\n",
    "ax2.axis('equal')\n",
    "ax2.set_title('Payment Method');\n",
    "\n",
    "#Type\n",
    "labels = groupby_internet_tcharge['internet_service']\n",
    "sizes = groupby_internet_tcharge['total_charges']\n",
    "explode = (0.05, 0.05, 0.05)\n",
    "\n",
    "ax3.pie(sizes, explode=explode, labels=labels, autopct='%1.1f%%',\n",
    "        shadow=True, startangle=90)\n",
    "ax3.axis('equal')\n",
    "ax3.set_title('Internet Service');"
   ]
  },
  {
   "cell_type": "code",
   "execution_count": 53,
   "metadata": {
    "id": "fXVzc4OvWcYc"
   },
   "outputs": [
    {
     "data": {
      "text/html": [
       "<div>\n",
       "<style scoped>\n",
       "    .dataframe tbody tr th:only-of-type {\n",
       "        vertical-align: middle;\n",
       "    }\n",
       "\n",
       "    .dataframe tbody tr th {\n",
       "        vertical-align: top;\n",
       "    }\n",
       "\n",
       "    .dataframe thead th {\n",
       "        text-align: right;\n",
       "    }\n",
       "</style>\n",
       "<table border=\"1\" class=\"dataframe\">\n",
       "  <thead>\n",
       "    <tr style=\"text-align: right;\">\n",
       "      <th></th>\n",
       "      <th>internet_service</th>\n",
       "      <th>monthly_charges</th>\n",
       "    </tr>\n",
       "  </thead>\n",
       "  <tbody>\n",
       "    <tr>\n",
       "      <th>1</th>\n",
       "      <td>Fiber optic</td>\n",
       "      <td>88.126484</td>\n",
       "    </tr>\n",
       "    <tr>\n",
       "      <th>0</th>\n",
       "      <td>DSL</td>\n",
       "      <td>49.083224</td>\n",
       "    </tr>\n",
       "    <tr>\n",
       "      <th>2</th>\n",
       "      <td>No</td>\n",
       "      <td>20.368142</td>\n",
       "    </tr>\n",
       "  </tbody>\n",
       "</table>\n",
       "</div>"
      ],
      "text/plain": [
       "  internet_service  monthly_charges\n",
       "1      Fiber optic        88.126484\n",
       "0              DSL        49.083224\n",
       "2               No        20.368142"
      ]
     },
     "execution_count": 53,
     "metadata": {},
     "output_type": "execute_result"
    }
   ],
   "source": [
    "# Group type\n",
    "groupby_type_mcharge = df_exit_user.groupby(['type'])['monthly_charges'].mean().reset_index().sort_values(by='monthly_charges', ascending = False)\n",
    "\n",
    "# Group payment method\n",
    "groupby_method_mcharge = df_exit_user.groupby(['payment_method'])['monthly_charges'].mean().reset_index().sort_values(by='monthly_charges', ascending = False)\n",
    "\n",
    "# Group internet service\n",
    "groupby_internet_mcharge = df_exit_user.groupby(['internet_service'])['monthly_charges'].mean().reset_index().sort_values(by='monthly_charges', ascending = False)\n",
    "#\n",
    "groupby_internet_mcharge"
   ]
  },
  {
   "cell_type": "code",
   "execution_count": 54,
   "metadata": {
    "colab": {
     "base_uri": "https://localhost:8080/",
     "height": 472
    },
    "id": "HsTUySNeybzF",
    "outputId": "f3121d85-c61c-483a-bbd4-71a09734c2fe"
   },
   "outputs": [
    {
     "data": {
      "image/png": "[encoded data removed]",
      "text/plain": [
       "<Figure size 1080x360 with 3 Axes>"
      ]
     },
     "metadata": {},
     "output_type": "display_data"
    }
   ],
   "source": [
    "fig, (ax1,ax2,ax3) = plt.subplots(1,3,figsize=(15,5))\n",
    "\n",
    "fig.suptitle('Distribution Average Monthly Charges', fontsize=15)\n",
    "\n",
    "#Type\n",
    "labels = groupby_type_mcharge['type']\n",
    "sizes = groupby_type_mcharge['monthly_charges']\n",
    "explode = (0.05, 0.05, 0.05)\n",
    "\n",
    "ax1.pie(sizes, explode=explode, labels=labels, autopct='%1.1f%%',\n",
    "        shadow=True, startangle=90)\n",
    "ax1.axis('equal')\n",
    "ax1.set_title('Type');\n",
    "\n",
    "#Payment Method\n",
    "labels = groupby_method_mcharge['payment_method']\n",
    "sizes = groupby_method_mcharge['monthly_charges']\n",
    "explode = (0.05, 0.05, 0.05, 0.05)\n",
    "\n",
    "ax2.pie(sizes, explode=explode, labels=labels, autopct='%1.1f%%',\n",
    "        shadow=True, startangle=90)\n",
    "ax2.axis('equal')\n",
    "ax2.set_title('Payment Method');\n",
    "\n",
    "#Type\n",
    "labels = groupby_internet_mcharge['internet_service']\n",
    "sizes = groupby_internet_mcharge['monthly_charges']\n",
    "explode = (0.05, 0.05, 0.05)\n",
    "\n",
    "ax3.pie(sizes, explode=explode, labels=labels, autopct='%1.1f%%',\n",
    "        shadow=True, startangle=90)\n",
    "ax3.axis('equal')\n",
    "ax3.set_title('Internet Service');"
   ]
  },
  {
   "cell_type": "markdown",
   "metadata": {
    "id": "E0To3ZGF0KLY"
   },
   "source": [
    "<div style=\"background-color:rgba(0, 255, 172, 0.07)\"\n",
    "     \n",
    "It can be seen from the piechart above that the average distribution of total charges and monthly charges is similar.\n",
    "\n",
    "- Charge from the month to month type has the least distribution, maybe this is not a factor for users exit.\n",
    "- Charges from electronic check payment methods and bank transfers are almost the same in distribution. Both can affect users exit or not.\n",
    "- Charges from the internet service Fiber Optic has the highest distribution, maybe this is the factor that affects users exit.\n",
    "\n",
    "</div>"
   ]
  },
  {
   "cell_type": "markdown",
   "metadata": {
    "id": "qI_qOv0R22aD"
   },
   "source": [
    "Check with the correlation matrix"
   ]
  },
  {
   "cell_type": "code",
   "execution_count": 55,
   "metadata": {
    "id": "0zET-FjP2teg"
   },
   "outputs": [],
   "source": [
    "# function to plot correlation matrix for used car data\n",
    "def corr_matrix(df, label):\n",
    "    plt.figure(figsize=(10,5))\n",
    "    corrMatrix = df.corr()\n",
    "    sns.heatmap(corrMatrix, annot=True)\n",
    "    plt.title('Correlation matrix for ' + label)\n",
    "    plt.show()"
   ]
  },
  {
   "cell_type": "code",
   "execution_count": 56,
   "metadata": {
    "colab": {
     "base_uri": "https://localhost:8080/",
     "height": 505
    },
    "id": "G-vXObKM2-v7",
    "outputId": "f09c2183-c080-43bf-9085-4fd9901e06d4"
   },
   "outputs": [
    {
     "data": {
      "image/png": "[encoded data removed]",
      "text/plain": [
       "<Figure size 720x360 with 2 Axes>"
      ]
     },
     "metadata": {
      "needs_background": "light"
     },
     "output_type": "display_data"
    }
   ],
   "source": [
    "df_corr = df_merge[['monthly_charges', 'total_charges', 'end_date_binary', 'type', 'payment_method', 'internet_service']]\n",
    "corr_matrix(df_corr, 'Users Exit')"
   ]
  },
  {
   "cell_type": "markdown",
   "metadata": {
    "id": "uCIX9SXT6N0l"
   },
   "source": [
    "<div style=\"background-color:rgba(0, 255, 172, 0.07)\"\n",
    "\n",
    "However, from the correlation matrix, the effect of total charge and monthly charge with users exit is not too significant. \n",
    "Type, payment method and internet service on the correlation matrix have not yet appeared because the encoder has not been done\n",
    "     \n",
    "<div style=\"background-color:rgba(0, 255, 172, 0.07)\""
   ]
  },
  {
   "cell_type": "markdown",
   "metadata": {},
   "source": [
    "# 3.5 EDA Conclusion <a id='eda_conclusion'></a>"
   ]
  },
  {
   "cell_type": "markdown",
   "metadata": {},
   "source": [
    "<div style=\"background-color:rgba(0, 255, 172, 0.07)\"\n",
    "\n",
    "Summary Conclusion from EDA :\n",
    "- The total charge from user exits with male gender is more than female gender\n",
    "- The total charge from user exits in october and December is more than in other months\n",
    "- The most user exits are type month to month, the payment method is electronic check, and the internet service is fiber optic\n",
    "- Charges from the internet service Fiber Optic has the highest distribution, maybe this is the factor that affects users exit \n",
    "\n",
    "Reccomendation :\n",
    "- Interconnect marketing team should more approach male gender to prevent user exit\n",
    "- Targeted marketing campaigns and promotional events on October and December, and customer with contract type month to month\n",
    "- Reduce customer cost for electronic check and internet service fiber optic\n",
    "- Find out if there is technincal problem with electronic check payment method, internet service with fiber optic\n",
    "\n",
    "     \n",
    "<div style=\"background-color:rgba(0, 255, 172, 0.07)\""
   ]
  },
  {
   "cell_type": "markdown",
   "metadata": {},
   "source": [
    "# 4. Features Engineering <a id='features_engineer'></a>"
   ]
  },
  {
   "cell_type": "code",
   "execution_count": 57,
   "metadata": {},
   "outputs": [],
   "source": [
    "pd.set_option('display.max_columns', 100)"
   ]
  },
  {
   "cell_type": "code",
   "execution_count": 58,
   "metadata": {},
   "outputs": [
    {
     "data": {
      "text/html": [
       "<div>\n",
       "<style scoped>\n",
       "    .dataframe tbody tr th:only-of-type {\n",
       "        vertical-align: middle;\n",
       "    }\n",
       "\n",
       "    .dataframe tbody tr th {\n",
       "        vertical-align: top;\n",
       "    }\n",
       "\n",
       "    .dataframe thead th {\n",
       "        text-align: right;\n",
       "    }\n",
       "</style>\n",
       "<table border=\"1\" class=\"dataframe\">\n",
       "  <thead>\n",
       "    <tr style=\"text-align: right;\">\n",
       "      <th></th>\n",
       "      <th>customer_id</th>\n",
       "      <th>begin_date</th>\n",
       "      <th>end_date</th>\n",
       "      <th>type</th>\n",
       "      <th>paperless_billing</th>\n",
       "      <th>payment_method</th>\n",
       "      <th>monthly_charges</th>\n",
       "      <th>total_charges</th>\n",
       "      <th>internet_service</th>\n",
       "      <th>online_security</th>\n",
       "      <th>online_backup</th>\n",
       "      <th>device_protection</th>\n",
       "      <th>tech_support</th>\n",
       "      <th>streaming_tv</th>\n",
       "      <th>streaming_movies</th>\n",
       "      <th>gender</th>\n",
       "      <th>senior_citizen</th>\n",
       "      <th>partner</th>\n",
       "      <th>dependents</th>\n",
       "      <th>multiple_lines</th>\n",
       "      <th>end_date_binary</th>\n",
       "      <th>end_date_month</th>\n",
       "      <th>end_date_year</th>\n",
       "    </tr>\n",
       "  </thead>\n",
       "  <tbody>\n",
       "    <tr>\n",
       "      <th>0</th>\n",
       "      <td>7590-VHVEG</td>\n",
       "      <td>2020-01-01</td>\n",
       "      <td>NaT</td>\n",
       "      <td>Month-to-month</td>\n",
       "      <td>1</td>\n",
       "      <td>Electronic check</td>\n",
       "      <td>29.85</td>\n",
       "      <td>29.85</td>\n",
       "      <td>DSL</td>\n",
       "      <td>0</td>\n",
       "      <td>1</td>\n",
       "      <td>0</td>\n",
       "      <td>0</td>\n",
       "      <td>0</td>\n",
       "      <td>0</td>\n",
       "      <td>Female</td>\n",
       "      <td>0</td>\n",
       "      <td>1</td>\n",
       "      <td>0</td>\n",
       "      <td>0</td>\n",
       "      <td>0</td>\n",
       "      <td>nan</td>\n",
       "      <td>nan</td>\n",
       "    </tr>\n",
       "    <tr>\n",
       "      <th>1</th>\n",
       "      <td>5575-GNVDE</td>\n",
       "      <td>2017-04-01</td>\n",
       "      <td>NaT</td>\n",
       "      <td>One year</td>\n",
       "      <td>0</td>\n",
       "      <td>Mailed check</td>\n",
       "      <td>56.95</td>\n",
       "      <td>1889.50</td>\n",
       "      <td>DSL</td>\n",
       "      <td>1</td>\n",
       "      <td>0</td>\n",
       "      <td>1</td>\n",
       "      <td>0</td>\n",
       "      <td>0</td>\n",
       "      <td>0</td>\n",
       "      <td>Male</td>\n",
       "      <td>0</td>\n",
       "      <td>0</td>\n",
       "      <td>0</td>\n",
       "      <td>0</td>\n",
       "      <td>0</td>\n",
       "      <td>nan</td>\n",
       "      <td>nan</td>\n",
       "    </tr>\n",
       "    <tr>\n",
       "      <th>2</th>\n",
       "      <td>3668-QPYBK</td>\n",
       "      <td>2019-10-01</td>\n",
       "      <td>2019-12-01</td>\n",
       "      <td>Month-to-month</td>\n",
       "      <td>1</td>\n",
       "      <td>Mailed check</td>\n",
       "      <td>53.85</td>\n",
       "      <td>108.15</td>\n",
       "      <td>DSL</td>\n",
       "      <td>1</td>\n",
       "      <td>1</td>\n",
       "      <td>0</td>\n",
       "      <td>0</td>\n",
       "      <td>0</td>\n",
       "      <td>0</td>\n",
       "      <td>Male</td>\n",
       "      <td>0</td>\n",
       "      <td>0</td>\n",
       "      <td>0</td>\n",
       "      <td>0</td>\n",
       "      <td>1</td>\n",
       "      <td>12.0</td>\n",
       "      <td>2019.0</td>\n",
       "    </tr>\n",
       "    <tr>\n",
       "      <th>3</th>\n",
       "      <td>7795-CFOCW</td>\n",
       "      <td>2016-05-01</td>\n",
       "      <td>NaT</td>\n",
       "      <td>One year</td>\n",
       "      <td>0</td>\n",
       "      <td>Bank transfer (automatic)</td>\n",
       "      <td>42.30</td>\n",
       "      <td>1840.75</td>\n",
       "      <td>DSL</td>\n",
       "      <td>1</td>\n",
       "      <td>0</td>\n",
       "      <td>1</td>\n",
       "      <td>1</td>\n",
       "      <td>0</td>\n",
       "      <td>0</td>\n",
       "      <td>Male</td>\n",
       "      <td>0</td>\n",
       "      <td>0</td>\n",
       "      <td>0</td>\n",
       "      <td>0</td>\n",
       "      <td>0</td>\n",
       "      <td>nan</td>\n",
       "      <td>nan</td>\n",
       "    </tr>\n",
       "    <tr>\n",
       "      <th>4</th>\n",
       "      <td>9237-HQITU</td>\n",
       "      <td>2019-09-01</td>\n",
       "      <td>2019-11-01</td>\n",
       "      <td>Month-to-month</td>\n",
       "      <td>1</td>\n",
       "      <td>Electronic check</td>\n",
       "      <td>70.70</td>\n",
       "      <td>151.65</td>\n",
       "      <td>Fiber optic</td>\n",
       "      <td>0</td>\n",
       "      <td>0</td>\n",
       "      <td>0</td>\n",
       "      <td>0</td>\n",
       "      <td>0</td>\n",
       "      <td>0</td>\n",
       "      <td>Female</td>\n",
       "      <td>0</td>\n",
       "      <td>0</td>\n",
       "      <td>0</td>\n",
       "      <td>0</td>\n",
       "      <td>1</td>\n",
       "      <td>11.0</td>\n",
       "      <td>2019.0</td>\n",
       "    </tr>\n",
       "  </tbody>\n",
       "</table>\n",
       "</div>"
      ],
      "text/plain": [
       "  customer_id begin_date   end_date            type  paperless_billing  \\\n",
       "0  7590-VHVEG 2020-01-01        NaT  Month-to-month                  1   \n",
       "1  5575-GNVDE 2017-04-01        NaT        One year                  0   \n",
       "2  3668-QPYBK 2019-10-01 2019-12-01  Month-to-month                  1   \n",
       "3  7795-CFOCW 2016-05-01        NaT        One year                  0   \n",
       "4  9237-HQITU 2019-09-01 2019-11-01  Month-to-month                  1   \n",
       "\n",
       "              payment_method  monthly_charges  total_charges internet_service  \\\n",
       "0           Electronic check            29.85          29.85              DSL   \n",
       "1               Mailed check            56.95        1889.50              DSL   \n",
       "2               Mailed check            53.85         108.15              DSL   \n",
       "3  Bank transfer (automatic)            42.30        1840.75              DSL   \n",
       "4           Electronic check            70.70         151.65      Fiber optic   \n",
       "\n",
       "   online_security  online_backup  device_protection  tech_support  \\\n",
       "0                0              1                  0             0   \n",
       "1                1              0                  1             0   \n",
       "2                1              1                  0             0   \n",
       "3                1              0                  1             1   \n",
       "4                0              0                  0             0   \n",
       "\n",
       "   streaming_tv  streaming_movies  gender  senior_citizen  partner  \\\n",
       "0             0                 0  Female               0        1   \n",
       "1             0                 0    Male               0        0   \n",
       "2             0                 0    Male               0        0   \n",
       "3             0                 0    Male               0        0   \n",
       "4             0                 0  Female               0        0   \n",
       "\n",
       "   dependents  multiple_lines  end_date_binary end_date_month end_date_year  \n",
       "0           0               0                0            nan           nan  \n",
       "1           0               0                0            nan           nan  \n",
       "2           0               0                1           12.0        2019.0  \n",
       "3           0               0                0            nan           nan  \n",
       "4           0               0                1           11.0        2019.0  "
      ]
     },
     "execution_count": 58,
     "metadata": {},
     "output_type": "execute_result"
    }
   ],
   "source": [
    "df_merge.head()"
   ]
  },
  {
   "cell_type": "code",
   "execution_count": 59,
   "metadata": {},
   "outputs": [],
   "source": [
    "# Create a copy of the dataframe to not alter the original\n",
    "df_preprocessed = df_merge.copy()"
   ]
  },
  {
   "cell_type": "code",
   "execution_count": 60,
   "metadata": {},
   "outputs": [],
   "source": [
    "# drop unimportant features\n",
    "df_preprocessed = df_preprocessed.drop(['customer_id', 'begin_date', 'end_date', 'end_date_month', 'end_date_year'], axis=1)"
   ]
  },
  {
   "cell_type": "code",
   "execution_count": 61,
   "metadata": {},
   "outputs": [],
   "source": [
    "#Encoder\n",
    "oe = OrdinalEncoder()\n",
    "categorical_features = ['type', 'internet_service', 'gender', 'payment_method' ]\n",
    "for feature in categorical_features:\n",
    "  df_preprocessed[feature] = oe.fit_transform(df_merge[[feature]])\n",
    "\n",
    "\n",
    "#df_preprocessed = pd.get_dummies(df_preprocessed, drop_first=True)"
   ]
  },
  {
   "cell_type": "code",
   "execution_count": 62,
   "metadata": {},
   "outputs": [
    {
     "data": {
      "text/html": [
       "<div>\n",
       "<style scoped>\n",
       "    .dataframe tbody tr th:only-of-type {\n",
       "        vertical-align: middle;\n",
       "    }\n",
       "\n",
       "    .dataframe tbody tr th {\n",
       "        vertical-align: top;\n",
       "    }\n",
       "\n",
       "    .dataframe thead th {\n",
       "        text-align: right;\n",
       "    }\n",
       "</style>\n",
       "<table border=\"1\" class=\"dataframe\">\n",
       "  <thead>\n",
       "    <tr style=\"text-align: right;\">\n",
       "      <th></th>\n",
       "      <th>type</th>\n",
       "      <th>paperless_billing</th>\n",
       "      <th>payment_method</th>\n",
       "      <th>monthly_charges</th>\n",
       "      <th>total_charges</th>\n",
       "      <th>internet_service</th>\n",
       "      <th>online_security</th>\n",
       "      <th>online_backup</th>\n",
       "      <th>device_protection</th>\n",
       "      <th>tech_support</th>\n",
       "      <th>streaming_tv</th>\n",
       "      <th>streaming_movies</th>\n",
       "      <th>gender</th>\n",
       "      <th>senior_citizen</th>\n",
       "      <th>partner</th>\n",
       "      <th>dependents</th>\n",
       "      <th>multiple_lines</th>\n",
       "      <th>end_date_binary</th>\n",
       "    </tr>\n",
       "  </thead>\n",
       "  <tbody>\n",
       "    <tr>\n",
       "      <th>0</th>\n",
       "      <td>0.0</td>\n",
       "      <td>1</td>\n",
       "      <td>2.0</td>\n",
       "      <td>29.85</td>\n",
       "      <td>29.85</td>\n",
       "      <td>0.0</td>\n",
       "      <td>0</td>\n",
       "      <td>1</td>\n",
       "      <td>0</td>\n",
       "      <td>0</td>\n",
       "      <td>0</td>\n",
       "      <td>0</td>\n",
       "      <td>0.0</td>\n",
       "      <td>0</td>\n",
       "      <td>1</td>\n",
       "      <td>0</td>\n",
       "      <td>0</td>\n",
       "      <td>0</td>\n",
       "    </tr>\n",
       "    <tr>\n",
       "      <th>1</th>\n",
       "      <td>1.0</td>\n",
       "      <td>0</td>\n",
       "      <td>3.0</td>\n",
       "      <td>56.95</td>\n",
       "      <td>1889.50</td>\n",
       "      <td>0.0</td>\n",
       "      <td>1</td>\n",
       "      <td>0</td>\n",
       "      <td>1</td>\n",
       "      <td>0</td>\n",
       "      <td>0</td>\n",
       "      <td>0</td>\n",
       "      <td>1.0</td>\n",
       "      <td>0</td>\n",
       "      <td>0</td>\n",
       "      <td>0</td>\n",
       "      <td>0</td>\n",
       "      <td>0</td>\n",
       "    </tr>\n",
       "    <tr>\n",
       "      <th>2</th>\n",
       "      <td>0.0</td>\n",
       "      <td>1</td>\n",
       "      <td>3.0</td>\n",
       "      <td>53.85</td>\n",
       "      <td>108.15</td>\n",
       "      <td>0.0</td>\n",
       "      <td>1</td>\n",
       "      <td>1</td>\n",
       "      <td>0</td>\n",
       "      <td>0</td>\n",
       "      <td>0</td>\n",
       "      <td>0</td>\n",
       "      <td>1.0</td>\n",
       "      <td>0</td>\n",
       "      <td>0</td>\n",
       "      <td>0</td>\n",
       "      <td>0</td>\n",
       "      <td>1</td>\n",
       "    </tr>\n",
       "    <tr>\n",
       "      <th>3</th>\n",
       "      <td>1.0</td>\n",
       "      <td>0</td>\n",
       "      <td>0.0</td>\n",
       "      <td>42.30</td>\n",
       "      <td>1840.75</td>\n",
       "      <td>0.0</td>\n",
       "      <td>1</td>\n",
       "      <td>0</td>\n",
       "      <td>1</td>\n",
       "      <td>1</td>\n",
       "      <td>0</td>\n",
       "      <td>0</td>\n",
       "      <td>1.0</td>\n",
       "      <td>0</td>\n",
       "      <td>0</td>\n",
       "      <td>0</td>\n",
       "      <td>0</td>\n",
       "      <td>0</td>\n",
       "    </tr>\n",
       "    <tr>\n",
       "      <th>4</th>\n",
       "      <td>0.0</td>\n",
       "      <td>1</td>\n",
       "      <td>2.0</td>\n",
       "      <td>70.70</td>\n",
       "      <td>151.65</td>\n",
       "      <td>1.0</td>\n",
       "      <td>0</td>\n",
       "      <td>0</td>\n",
       "      <td>0</td>\n",
       "      <td>0</td>\n",
       "      <td>0</td>\n",
       "      <td>0</td>\n",
       "      <td>0.0</td>\n",
       "      <td>0</td>\n",
       "      <td>0</td>\n",
       "      <td>0</td>\n",
       "      <td>0</td>\n",
       "      <td>1</td>\n",
       "    </tr>\n",
       "    <tr>\n",
       "      <th>...</th>\n",
       "      <td>...</td>\n",
       "      <td>...</td>\n",
       "      <td>...</td>\n",
       "      <td>...</td>\n",
       "      <td>...</td>\n",
       "      <td>...</td>\n",
       "      <td>...</td>\n",
       "      <td>...</td>\n",
       "      <td>...</td>\n",
       "      <td>...</td>\n",
       "      <td>...</td>\n",
       "      <td>...</td>\n",
       "      <td>...</td>\n",
       "      <td>...</td>\n",
       "      <td>...</td>\n",
       "      <td>...</td>\n",
       "      <td>...</td>\n",
       "      <td>...</td>\n",
       "    </tr>\n",
       "    <tr>\n",
       "      <th>7038</th>\n",
       "      <td>1.0</td>\n",
       "      <td>1</td>\n",
       "      <td>3.0</td>\n",
       "      <td>84.80</td>\n",
       "      <td>1990.50</td>\n",
       "      <td>0.0</td>\n",
       "      <td>1</td>\n",
       "      <td>0</td>\n",
       "      <td>1</td>\n",
       "      <td>1</td>\n",
       "      <td>1</td>\n",
       "      <td>1</td>\n",
       "      <td>1.0</td>\n",
       "      <td>0</td>\n",
       "      <td>1</td>\n",
       "      <td>1</td>\n",
       "      <td>1</td>\n",
       "      <td>0</td>\n",
       "    </tr>\n",
       "    <tr>\n",
       "      <th>7039</th>\n",
       "      <td>1.0</td>\n",
       "      <td>1</td>\n",
       "      <td>1.0</td>\n",
       "      <td>103.20</td>\n",
       "      <td>7362.90</td>\n",
       "      <td>1.0</td>\n",
       "      <td>0</td>\n",
       "      <td>1</td>\n",
       "      <td>1</td>\n",
       "      <td>0</td>\n",
       "      <td>1</td>\n",
       "      <td>1</td>\n",
       "      <td>0.0</td>\n",
       "      <td>0</td>\n",
       "      <td>1</td>\n",
       "      <td>1</td>\n",
       "      <td>1</td>\n",
       "      <td>0</td>\n",
       "    </tr>\n",
       "    <tr>\n",
       "      <th>7040</th>\n",
       "      <td>0.0</td>\n",
       "      <td>1</td>\n",
       "      <td>2.0</td>\n",
       "      <td>29.60</td>\n",
       "      <td>346.45</td>\n",
       "      <td>0.0</td>\n",
       "      <td>1</td>\n",
       "      <td>0</td>\n",
       "      <td>0</td>\n",
       "      <td>0</td>\n",
       "      <td>0</td>\n",
       "      <td>0</td>\n",
       "      <td>0.0</td>\n",
       "      <td>0</td>\n",
       "      <td>1</td>\n",
       "      <td>1</td>\n",
       "      <td>0</td>\n",
       "      <td>0</td>\n",
       "    </tr>\n",
       "    <tr>\n",
       "      <th>7041</th>\n",
       "      <td>0.0</td>\n",
       "      <td>1</td>\n",
       "      <td>3.0</td>\n",
       "      <td>74.40</td>\n",
       "      <td>306.60</td>\n",
       "      <td>1.0</td>\n",
       "      <td>0</td>\n",
       "      <td>0</td>\n",
       "      <td>0</td>\n",
       "      <td>0</td>\n",
       "      <td>0</td>\n",
       "      <td>0</td>\n",
       "      <td>1.0</td>\n",
       "      <td>1</td>\n",
       "      <td>1</td>\n",
       "      <td>0</td>\n",
       "      <td>1</td>\n",
       "      <td>1</td>\n",
       "    </tr>\n",
       "    <tr>\n",
       "      <th>7042</th>\n",
       "      <td>2.0</td>\n",
       "      <td>1</td>\n",
       "      <td>0.0</td>\n",
       "      <td>105.65</td>\n",
       "      <td>6844.50</td>\n",
       "      <td>1.0</td>\n",
       "      <td>1</td>\n",
       "      <td>0</td>\n",
       "      <td>1</td>\n",
       "      <td>1</td>\n",
       "      <td>1</td>\n",
       "      <td>1</td>\n",
       "      <td>1.0</td>\n",
       "      <td>0</td>\n",
       "      <td>0</td>\n",
       "      <td>0</td>\n",
       "      <td>0</td>\n",
       "      <td>0</td>\n",
       "    </tr>\n",
       "  </tbody>\n",
       "</table>\n",
       "<p>7043 rows × 18 columns</p>\n",
       "</div>"
      ],
      "text/plain": [
       "      type  paperless_billing  payment_method  monthly_charges  total_charges  \\\n",
       "0      0.0                  1             2.0            29.85          29.85   \n",
       "1      1.0                  0             3.0            56.95        1889.50   \n",
       "2      0.0                  1             3.0            53.85         108.15   \n",
       "3      1.0                  0             0.0            42.30        1840.75   \n",
       "4      0.0                  1             2.0            70.70         151.65   \n",
       "...    ...                ...             ...              ...            ...   \n",
       "7038   1.0                  1             3.0            84.80        1990.50   \n",
       "7039   1.0                  1             1.0           103.20        7362.90   \n",
       "7040   0.0                  1             2.0            29.60         346.45   \n",
       "7041   0.0                  1             3.0            74.40         306.60   \n",
       "7042   2.0                  1             0.0           105.65        6844.50   \n",
       "\n",
       "      internet_service  online_security  online_backup  device_protection  \\\n",
       "0                  0.0                0              1                  0   \n",
       "1                  0.0                1              0                  1   \n",
       "2                  0.0                1              1                  0   \n",
       "3                  0.0                1              0                  1   \n",
       "4                  1.0                0              0                  0   \n",
       "...                ...              ...            ...                ...   \n",
       "7038               0.0                1              0                  1   \n",
       "7039               1.0                0              1                  1   \n",
       "7040               0.0                1              0                  0   \n",
       "7041               1.0                0              0                  0   \n",
       "7042               1.0                1              0                  1   \n",
       "\n",
       "      tech_support  streaming_tv  streaming_movies  gender  senior_citizen  \\\n",
       "0                0             0                 0     0.0               0   \n",
       "1                0             0                 0     1.0               0   \n",
       "2                0             0                 0     1.0               0   \n",
       "3                1             0                 0     1.0               0   \n",
       "4                0             0                 0     0.0               0   \n",
       "...            ...           ...               ...     ...             ...   \n",
       "7038             1             1                 1     1.0               0   \n",
       "7039             0             1                 1     0.0               0   \n",
       "7040             0             0                 0     0.0               0   \n",
       "7041             0             0                 0     1.0               1   \n",
       "7042             1             1                 1     1.0               0   \n",
       "\n",
       "      partner  dependents  multiple_lines  end_date_binary  \n",
       "0           1           0               0                0  \n",
       "1           0           0               0                0  \n",
       "2           0           0               0                1  \n",
       "3           0           0               0                0  \n",
       "4           0           0               0                1  \n",
       "...       ...         ...             ...              ...  \n",
       "7038        1           1               1                0  \n",
       "7039        1           1               1                0  \n",
       "7040        1           1               0                0  \n",
       "7041        1           0               1                1  \n",
       "7042        0           0               0                0  \n",
       "\n",
       "[7043 rows x 18 columns]"
      ]
     },
     "execution_count": 62,
     "metadata": {},
     "output_type": "execute_result"
    }
   ],
   "source": [
    "df_preprocessed"
   ]
  },
  {
   "cell_type": "code",
   "execution_count": 63,
   "metadata": {},
   "outputs": [],
   "source": [
    "# rename end_date_binary\n",
    "df_preprocessed = df_preprocessed.rename(columns = {'end_date_binary':'users_exit'})"
   ]
  },
  {
   "cell_type": "markdown",
   "metadata": {},
   "source": [
    "# Conclusion"
   ]
  },
  {
   "cell_type": "markdown",
   "metadata": {},
   "source": [
    "<div style=\"background-color:rgba(0, 255, 172, 0.07)\"\n",
    "\n",
    "After the encoder is done, there is a strong negative on Exit User with Internet Service.\n",
    "     \n",
    "</div>"
   ]
  },
  {
   "cell_type": "markdown",
   "metadata": {},
   "source": [
    "# 5. Evaluation Procedure Engineering <a id='evaluate_procedure'></a>"
   ]
  },
  {
   "cell_type": "code",
   "execution_count": 64,
   "metadata": {},
   "outputs": [],
   "source": [
    "##Composing an evaluation routine which can be used for all models in this project\n",
    "\n",
    "def evaluate_model(model, train_features, train_target, test_features, test_target):\n",
    "    \n",
    "    eval_stats = {}\n",
    "    \n",
    "    #fig, ax = plt.subplots(figsize=(10, 6)) \n",
    "    \n",
    "    for type, features, target in (('train', train_features, train_target), ('test', test_features, test_target)):\n",
    "        \n",
    "        eval_stats[type] = {}\n",
    "    \n",
    "        pred_target = model.predict(features)\n",
    "        pred_proba = model.predict_proba(features)[:, 1]\n",
    "        \n",
    "        \n",
    "        # ROC\n",
    "        fpr, tpr, roc_thresholds = metrics.roc_curve(target, pred_proba)\n",
    "        roc_auc = metrics.roc_auc_score(target, pred_proba)    \n",
    "        eval_stats[type]['ROC AUC'] = roc_auc\n",
    "\n",
    "        \n",
    "        #if type == 'train':\n",
    "        #    color = 'blue'\n",
    "        #else:\n",
    "        #    color = 'green'\n",
    "\n",
    "        ## ROC\n",
    "        #ax.plot(fpr, tpr, color=color, label=f'{type}, ROC AUC={roc_auc:.2f}')\n",
    "        ## setting crosses for some thresholds\n",
    "        #for threshold in (0.2, 0.4, 0.5, 0.6, 0.8):\n",
    "        #    closest_value_idx = np.argmin(np.abs(roc_thresholds-threshold))\n",
    "        #    marker_color = 'orange' if threshold != 0.5 else 'red'            \n",
    "        #    ax.plot(fpr[closest_value_idx], tpr[closest_value_idx], color=marker_color, marker='X', markersize=7)\n",
    "        #ax.plot([0, 1], [0, 1], color='grey', linestyle='--')\n",
    "        #ax.set_xlim([-0.02, 1.02])    \n",
    "        #ax.set_ylim([-0.02, 1.02])\n",
    "        #ax.set_xlabel('FPR')\n",
    "        #ax.set_ylabel('TPR')\n",
    "        #ax.legend(loc='lower center')        \n",
    "        #ax.set_title(f'ROC Curve')\n",
    "       # \n",
    "        \n",
    "        eval_stats[type]['Accuracy'] = metrics.accuracy_score(target, pred_target)\n",
    "    \n",
    "    df_eval_stats = pd.DataFrame(eval_stats)\n",
    "    df_eval_stats = df_eval_stats.round(2)\n",
    "    df_eval_stats = df_eval_stats.reindex(index=('Accuracy', 'ROC AUC'))\n",
    "    \n",
    "    print(df_eval_stats)\n",
    "    \n",
    "    return df_eval_stats"
   ]
  },
  {
   "cell_type": "markdown",
   "metadata": {},
   "source": [
    "# 6. Define Target, Data Split and Scaller  <a id='data_split'></a>"
   ]
  },
  {
   "cell_type": "code",
   "execution_count": 65,
   "metadata": {},
   "outputs": [
    {
     "data": {
      "text/html": [
       "<div>\n",
       "<style scoped>\n",
       "    .dataframe tbody tr th:only-of-type {\n",
       "        vertical-align: middle;\n",
       "    }\n",
       "\n",
       "    .dataframe tbody tr th {\n",
       "        vertical-align: top;\n",
       "    }\n",
       "\n",
       "    .dataframe thead th {\n",
       "        text-align: right;\n",
       "    }\n",
       "</style>\n",
       "<table border=\"1\" class=\"dataframe\">\n",
       "  <thead>\n",
       "    <tr style=\"text-align: right;\">\n",
       "      <th></th>\n",
       "      <th>type</th>\n",
       "      <th>paperless_billing</th>\n",
       "      <th>payment_method</th>\n",
       "      <th>monthly_charges</th>\n",
       "      <th>total_charges</th>\n",
       "      <th>internet_service</th>\n",
       "      <th>online_security</th>\n",
       "      <th>online_backup</th>\n",
       "      <th>device_protection</th>\n",
       "      <th>tech_support</th>\n",
       "      <th>streaming_tv</th>\n",
       "      <th>streaming_movies</th>\n",
       "      <th>gender</th>\n",
       "      <th>senior_citizen</th>\n",
       "      <th>partner</th>\n",
       "      <th>dependents</th>\n",
       "      <th>multiple_lines</th>\n",
       "      <th>users_exit</th>\n",
       "    </tr>\n",
       "  </thead>\n",
       "  <tbody>\n",
       "    <tr>\n",
       "      <th>0</th>\n",
       "      <td>0.0</td>\n",
       "      <td>1</td>\n",
       "      <td>2.0</td>\n",
       "      <td>29.85</td>\n",
       "      <td>29.85</td>\n",
       "      <td>0.0</td>\n",
       "      <td>0</td>\n",
       "      <td>1</td>\n",
       "      <td>0</td>\n",
       "      <td>0</td>\n",
       "      <td>0</td>\n",
       "      <td>0</td>\n",
       "      <td>0.0</td>\n",
       "      <td>0</td>\n",
       "      <td>1</td>\n",
       "      <td>0</td>\n",
       "      <td>0</td>\n",
       "      <td>0</td>\n",
       "    </tr>\n",
       "    <tr>\n",
       "      <th>1</th>\n",
       "      <td>1.0</td>\n",
       "      <td>0</td>\n",
       "      <td>3.0</td>\n",
       "      <td>56.95</td>\n",
       "      <td>1889.50</td>\n",
       "      <td>0.0</td>\n",
       "      <td>1</td>\n",
       "      <td>0</td>\n",
       "      <td>1</td>\n",
       "      <td>0</td>\n",
       "      <td>0</td>\n",
       "      <td>0</td>\n",
       "      <td>1.0</td>\n",
       "      <td>0</td>\n",
       "      <td>0</td>\n",
       "      <td>0</td>\n",
       "      <td>0</td>\n",
       "      <td>0</td>\n",
       "    </tr>\n",
       "    <tr>\n",
       "      <th>2</th>\n",
       "      <td>0.0</td>\n",
       "      <td>1</td>\n",
       "      <td>3.0</td>\n",
       "      <td>53.85</td>\n",
       "      <td>108.15</td>\n",
       "      <td>0.0</td>\n",
       "      <td>1</td>\n",
       "      <td>1</td>\n",
       "      <td>0</td>\n",
       "      <td>0</td>\n",
       "      <td>0</td>\n",
       "      <td>0</td>\n",
       "      <td>1.0</td>\n",
       "      <td>0</td>\n",
       "      <td>0</td>\n",
       "      <td>0</td>\n",
       "      <td>0</td>\n",
       "      <td>1</td>\n",
       "    </tr>\n",
       "    <tr>\n",
       "      <th>3</th>\n",
       "      <td>1.0</td>\n",
       "      <td>0</td>\n",
       "      <td>0.0</td>\n",
       "      <td>42.30</td>\n",
       "      <td>1840.75</td>\n",
       "      <td>0.0</td>\n",
       "      <td>1</td>\n",
       "      <td>0</td>\n",
       "      <td>1</td>\n",
       "      <td>1</td>\n",
       "      <td>0</td>\n",
       "      <td>0</td>\n",
       "      <td>1.0</td>\n",
       "      <td>0</td>\n",
       "      <td>0</td>\n",
       "      <td>0</td>\n",
       "      <td>0</td>\n",
       "      <td>0</td>\n",
       "    </tr>\n",
       "    <tr>\n",
       "      <th>4</th>\n",
       "      <td>0.0</td>\n",
       "      <td>1</td>\n",
       "      <td>2.0</td>\n",
       "      <td>70.70</td>\n",
       "      <td>151.65</td>\n",
       "      <td>1.0</td>\n",
       "      <td>0</td>\n",
       "      <td>0</td>\n",
       "      <td>0</td>\n",
       "      <td>0</td>\n",
       "      <td>0</td>\n",
       "      <td>0</td>\n",
       "      <td>0.0</td>\n",
       "      <td>0</td>\n",
       "      <td>0</td>\n",
       "      <td>0</td>\n",
       "      <td>0</td>\n",
       "      <td>1</td>\n",
       "    </tr>\n",
       "  </tbody>\n",
       "</table>\n",
       "</div>"
      ],
      "text/plain": [
       "   type  paperless_billing  payment_method  monthly_charges  total_charges  \\\n",
       "0   0.0                  1             2.0            29.85          29.85   \n",
       "1   1.0                  0             3.0            56.95        1889.50   \n",
       "2   0.0                  1             3.0            53.85         108.15   \n",
       "3   1.0                  0             0.0            42.30        1840.75   \n",
       "4   0.0                  1             2.0            70.70         151.65   \n",
       "\n",
       "   internet_service  online_security  online_backup  device_protection  \\\n",
       "0               0.0                0              1                  0   \n",
       "1               0.0                1              0                  1   \n",
       "2               0.0                1              1                  0   \n",
       "3               0.0                1              0                  1   \n",
       "4               1.0                0              0                  0   \n",
       "\n",
       "   tech_support  streaming_tv  streaming_movies  gender  senior_citizen  \\\n",
       "0             0             0                 0     0.0               0   \n",
       "1             0             0                 0     1.0               0   \n",
       "2             0             0                 0     1.0               0   \n",
       "3             1             0                 0     1.0               0   \n",
       "4             0             0                 0     0.0               0   \n",
       "\n",
       "   partner  dependents  multiple_lines  users_exit  \n",
       "0        1           0               0           0  \n",
       "1        0           0               0           0  \n",
       "2        0           0               0           1  \n",
       "3        0           0               0           0  \n",
       "4        0           0               0           1  "
      ]
     },
     "execution_count": 65,
     "metadata": {},
     "output_type": "execute_result"
    }
   ],
   "source": [
    "df_preprocessed.head()"
   ]
  },
  {
   "cell_type": "code",
   "execution_count": 66,
   "metadata": {},
   "outputs": [],
   "source": [
    "# split data into 75% training and 25% testing sets\n",
    "x = df_preprocessed.drop([\"users_exit\"], axis=1)\n",
    "y = df_preprocessed[\"users_exit\"]\n",
    "x_train, x_test, y_train, y_test = train_test_split(x, y, test_size=0.25, random_state=12345)"
   ]
  },
  {
   "cell_type": "code",
   "execution_count": 67,
   "metadata": {},
   "outputs": [],
   "source": [
    "# transform the training set and the test set using transform()\n",
    "scaler = StandardScaler()\n",
    "scaler.fit(x_train)\n",
    "x_train_std = scaler.transform(x_train)\n",
    "x_test_std = scaler.transform(x_test)"
   ]
  },
  {
   "cell_type": "code",
   "execution_count": 68,
   "metadata": {},
   "outputs": [
    {
     "data": {
      "text/plain": [
       "((5282, 17), (1761, 17))"
      ]
     },
     "execution_count": 68,
     "metadata": {},
     "output_type": "execute_result"
    }
   ],
   "source": [
    "x_train_std.shape, x_test_std.shape"
   ]
  },
  {
   "cell_type": "code",
   "execution_count": 69,
   "metadata": {},
   "outputs": [
    {
     "data": {
      "text/plain": [
       "array([[-0.8354164 ,  0.82172376,  0.40726169, ..., -0.9668498 ,\n",
       "        -0.65034805, -0.8587782 ],\n",
       "       [-0.8354164 ,  0.82172376,  0.40726169, ...,  1.03428682,\n",
       "        -0.65034805,  1.16444502],\n",
       "       [-0.8354164 ,  0.82172376,  0.40726169, ..., -0.9668498 ,\n",
       "         1.53763819, -0.8587782 ],\n",
       "       ...,\n",
       "       [ 0.36661831,  0.82172376, -0.52721105, ...,  1.03428682,\n",
       "         1.53763819,  1.16444502],\n",
       "       [ 1.56865303,  0.82172376, -1.46168379, ...,  1.03428682,\n",
       "         1.53763819,  1.16444502],\n",
       "       [ 1.56865303,  0.82172376,  1.34173443, ..., -0.9668498 ,\n",
       "        -0.65034805, -0.8587782 ]])"
      ]
     },
     "execution_count": 69,
     "metadata": {},
     "output_type": "execute_result"
    }
   ],
   "source": [
    "x_test_std"
   ]
  },
  {
   "cell_type": "code",
   "execution_count": 70,
   "metadata": {},
   "outputs": [
    {
     "data": {
      "text/plain": [
       "845     0\n",
       "6386    0\n",
       "1194    0\n",
       "5787    1\n",
       "3585    0\n",
       "       ..\n",
       "3497    0\n",
       "3492    0\n",
       "2177    0\n",
       "3557    0\n",
       "4578    0\n",
       "Name: users_exit, Length: 5282, dtype: int64"
      ]
     },
     "execution_count": 70,
     "metadata": {},
     "output_type": "execute_result"
    }
   ],
   "source": [
    "y_train"
   ]
  },
  {
   "cell_type": "markdown",
   "metadata": {},
   "source": [
    "# 7. Model Building <a id='model_building'></a>"
   ]
  },
  {
   "cell_type": "markdown",
   "metadata": {},
   "source": [
    "# 7.1 Baseline Model <a id='baseline_model'></a>"
   ]
  },
  {
   "cell_type": "code",
   "execution_count": 71,
   "metadata": {},
   "outputs": [
    {
     "name": "stdout",
     "output_type": "stream",
     "text": [
      "          train  test\n",
      "Accuracy   0.26  0.27\n",
      "ROC AUC    0.50  0.50\n",
      "CPU times: user 12.4 ms, sys: 4.75 ms, total: 17.2 ms\n",
      "Wall time: 50.5 ms\n"
     ]
    }
   ],
   "source": [
    "%%time\n",
    "base_model = DummyClassifier(strategy='constant', constant=1, random_state=12345)\n",
    "base_model.fit(x_train_std, y_train)\n",
    "\n",
    "base_result = evaluate_model(base_model, x_train_std, y_train, x_test_std, y_test)"
   ]
  },
  {
   "cell_type": "code",
   "execution_count": 72,
   "metadata": {},
   "outputs": [],
   "source": [
    "baseline_acc = base_result['test']['Accuracy']\n",
    "baseline_roc_acc = base_result['test']['ROC AUC']"
   ]
  },
  {
   "cell_type": "markdown",
   "metadata": {},
   "source": [
    "# 7.2 Logistic Regression Model <a id='lr_model'></a>"
   ]
  },
  {
   "cell_type": "code",
   "execution_count": 73,
   "metadata": {
    "scrolled": false
   },
   "outputs": [
    {
     "name": "stdout",
     "output_type": "stream",
     "text": [
      "0    0.779671\n",
      "1    0.220329\n",
      "dtype: float64\n",
      "\n",
      "Accuracy score before upsampling: 0.794\n",
      "          train  test\n",
      "Accuracy   0.80  0.79\n",
      "ROC AUC    0.84  0.83\n",
      "CPU times: user 94.8 ms, sys: 143 ms, total: 238 ms\n",
      "Wall time: 207 ms\n"
     ]
    },
    {
     "data": {
      "image/png": "[encoded data removed]",
      "text/plain": [
       "<Figure size 432x288 with 1 Axes>"
      ]
     },
     "metadata": {
      "needs_background": "light"
     },
     "output_type": "display_data"
    }
   ],
   "source": [
    "%%time\n",
    "lr_model = LogisticRegression(random_state=12345, solver='liblinear')\n",
    "lr_model.fit(x_train_std, y_train)\n",
    "test_predictions = pd.Series(lr_model.predict(x_test_std))\n",
    "class_frequency = test_predictions.value_counts(normalize=True)\n",
    "print(class_frequency)\n",
    "class_frequency.plot(kind='bar');\n",
    "print()\n",
    "print('Accuracy score before upsampling: {:.3f}'.format(accuracy_score(y_test, test_predictions)))\n",
    "\n",
    "lr_result = evaluate_model(lr_model, x_train_std, y_train, x_test_std, y_test)"
   ]
  },
  {
   "cell_type": "code",
   "execution_count": 74,
   "metadata": {},
   "outputs": [],
   "source": [
    "lr_acc = lr_result['test']['Accuracy']\n",
    "lr_roc_acc = lr_result['test']['ROC AUC']"
   ]
  },
  {
   "cell_type": "markdown",
   "metadata": {},
   "source": [
    "# 7.3 Logistic Regression Model + Upsampling <a id='lr_model_upsampling'></a>"
   ]
  },
  {
   "cell_type": "code",
   "execution_count": 75,
   "metadata": {},
   "outputs": [],
   "source": [
    "x_train_std2 = pd.DataFrame(x_train_std, columns = x_train.columns ,index=x_train.index)"
   ]
  },
  {
   "cell_type": "code",
   "execution_count": 76,
   "metadata": {
    "scrolled": true
   },
   "outputs": [],
   "source": [
    "#x_train.dtypes"
   ]
  },
  {
   "cell_type": "code",
   "execution_count": 77,
   "metadata": {},
   "outputs": [],
   "source": [
    "# function to perform upsampling \n",
    "\n",
    "def upsample(features, target, repeat):\n",
    "    features_zeros = features[target == 0]\n",
    "    features_ones = features[target == 1]\n",
    "    target_zeros = target[target == 0]\n",
    "    target_ones = target[target == 1]\n",
    "\n",
    "    features_upsampled = pd.concat([features_zeros] + [features_ones] * repeat)\n",
    "    target_upsampled = pd.concat([target_zeros] + [target_ones] * repeat)\n",
    "\n",
    "    features_upsampled, target_upsampled = shuffle(\n",
    "        features_upsampled, target_upsampled, random_state=12345\n",
    "    )\n",
    "    return features_upsampled, target_upsampled\n",
    "\n",
    "# new training set created\n",
    "features_upsampled, target_upsampled = upsample(\n",
    "    x_train_std2, y_train, 4\n",
    ")"
   ]
  },
  {
   "cell_type": "code",
   "execution_count": 78,
   "metadata": {},
   "outputs": [
    {
     "name": "stdout",
     "output_type": "stream",
     "text": [
      "1    0.500284\n",
      "0    0.499716\n",
      "dtype: float64\n",
      "\n",
      "Accuracy score after upsampling: 0.691\n",
      "          train  test\n",
      "Accuracy   0.77  0.69\n",
      "ROC AUC    0.84  0.83\n",
      "CPU times: user 132 ms, sys: 226 ms, total: 358 ms\n",
      "Wall time: 347 ms\n"
     ]
    },
    {
     "data": {
      "image/png": "[encoded data removed]",
      "text/plain": [
       "<Figure size 432x288 with 1 Axes>"
      ]
     },
     "metadata": {
      "needs_background": "light"
     },
     "output_type": "display_data"
    }
   ],
   "source": [
    "%%time\n",
    "lr_model = LogisticRegression(random_state=12345, solver='liblinear')\n",
    "lr_model.fit(features_upsampled, target_upsampled)\n",
    "test_predictions = pd.Series(lr_model.predict(x_test_std))\n",
    "class_frequency = test_predictions.value_counts(normalize=True)\n",
    "print(class_frequency)\n",
    "class_frequency.plot(kind='bar');\n",
    "print()\n",
    "print('Accuracy score after upsampling: {:.3f}'.format(accuracy_score(y_test, test_predictions)))\n",
    "\n",
    "#lr_result = evaluate_model(lr_model, x_train_std, y_train, x_test_std, y_test)\n",
    "lr_result = evaluate_model(lr_model, features_upsampled, target_upsampled, x_test_std, y_test)"
   ]
  },
  {
   "cell_type": "markdown",
   "metadata": {},
   "source": [
    "# 7.4 Logistic Regression Model + Downsampling <a id='lr_model_downsampling'></a>"
   ]
  },
  {
   "cell_type": "code",
   "execution_count": 79,
   "metadata": {},
   "outputs": [],
   "source": [
    "# function to perform downsampling\n",
    "\n",
    "def downsample(features, target, fraction):\n",
    "    features_zeros = features[target == 0]\n",
    "    features_ones = features[target == 1]\n",
    "    target_zeros = target[target == 0]\n",
    "    target_ones = target[target == 1]\n",
    "\n",
    "    features_downsampled = pd.concat(\n",
    "        [features_zeros.sample(frac=fraction, random_state=12345)]\n",
    "        + [features_ones]\n",
    "    )\n",
    "    target_downsampled = pd.concat(\n",
    "        [target_zeros.sample(frac=fraction, random_state=12345)]\n",
    "        + [target_ones]\n",
    "    )\n",
    "\n",
    "    features_downsampled, target_downsampled = shuffle(\n",
    "        features_downsampled, target_downsampled, random_state=12345\n",
    "    )\n",
    "\n",
    "    return features_downsampled, target_downsampled\n",
    "\n",
    "\n",
    "features_downsampled, target_downsampled = downsample(\n",
    "    x_train_std2, y_train, 0.2\n",
    ")"
   ]
  },
  {
   "cell_type": "code",
   "execution_count": 80,
   "metadata": {},
   "outputs": [
    {
     "name": "stdout",
     "output_type": "stream",
     "text": [
      "1    0.526405\n",
      "0    0.473595\n",
      "dtype: float64\n",
      "\n",
      "Accuracy score after downsampling: 0.672\n",
      "          train  test\n",
      "Accuracy   0.78  0.67\n",
      "ROC AUC    0.83  0.83\n",
      "CPU times: user 83.5 ms, sys: 115 ms, total: 199 ms\n",
      "Wall time: 192 ms\n"
     ]
    },
    {
     "data": {
      "image/png": "[encoded data removed]",
      "text/plain": [
       "<Figure size 432x288 with 1 Axes>"
      ]
     },
     "metadata": {
      "needs_background": "light"
     },
     "output_type": "display_data"
    }
   ],
   "source": [
    "%%time\n",
    "lr_model = LogisticRegression(random_state=12345, solver='liblinear')\n",
    "lr_model.fit(features_downsampled, target_downsampled)\n",
    "test_predictions = pd.Series(lr_model.predict(x_test_std))\n",
    "class_frequency = test_predictions.value_counts(normalize=True)\n",
    "print(class_frequency)\n",
    "class_frequency.plot(kind='bar');\n",
    "print()\n",
    "print('Accuracy score after downsampling: {:.3f}'.format(accuracy_score(y_test, test_predictions)))\n",
    "\n",
    "#lr_result = evaluate_model(lr_model, x_train_std, y_train, x_test_std, y_test)\n",
    "lr_result = evaluate_model(lr_model, features_downsampled, target_downsampled, x_test_std, y_test)"
   ]
  },
  {
   "cell_type": "markdown",
   "metadata": {},
   "source": [
    "# 7.5 Random Forest Classifier <a id='rf_classifier'></a>"
   ]
  },
  {
   "cell_type": "code",
   "execution_count": 81,
   "metadata": {},
   "outputs": [
    {
     "name": "stdout",
     "output_type": "stream",
     "text": [
      "          train  test\n",
      "Accuracy    1.0  0.78\n",
      "ROC AUC     1.0  0.82\n",
      "CPU times: user 991 ms, sys: 8.89 ms, total: 1 s\n",
      "Wall time: 1.01 s\n"
     ]
    }
   ],
   "source": [
    "%%time\n",
    "rf_model = RandomForestClassifier(random_state=12345)\n",
    "rf_model.fit(x_train_std, y_train)\n",
    "\n",
    "rf_result = evaluate_model(rf_model, x_train_std, y_train, x_test_std, y_test)"
   ]
  },
  {
   "cell_type": "code",
   "execution_count": 82,
   "metadata": {},
   "outputs": [],
   "source": [
    "rf_acc = rf_result['test']['Accuracy']\n",
    "rf_roc_acc = rf_result['test']['ROC AUC']"
   ]
  },
  {
   "cell_type": "markdown",
   "metadata": {},
   "source": [
    "# 7.5.1 Random Forest Classifier + Hyperparameter Tuning <a id='rf_classifier'></a>"
   ]
  },
  {
   "cell_type": "code",
   "execution_count": 83,
   "metadata": {},
   "outputs": [
    {
     "name": "stdout",
     "output_type": "stream",
     "text": [
      "          train  test\n",
      "Accuracy   0.87  0.79\n",
      "ROC AUC    0.94  0.84\n",
      "CPU times: user 477 ms, sys: 3.42 ms, total: 481 ms\n",
      "Wall time: 496 ms\n"
     ]
    }
   ],
   "source": [
    "%%time\n",
    "rf_tuning = RandomForestClassifier(criterion='gini', max_depth=10, min_samples_leaf=2, n_estimators=50)\n",
    "rf_tuning.fit(x_train_std, y_train)\n",
    "\n",
    "rf_tuning_result = evaluate_model(rf_tuning, x_train_std, y_train, x_test_std, y_test)"
   ]
  },
  {
   "cell_type": "markdown",
   "metadata": {},
   "source": [
    "# 7.5.2 Random Forest Classifier + Upsample <a id='rf_classifier'></a>"
   ]
  },
  {
   "cell_type": "code",
   "execution_count": 84,
   "metadata": {},
   "outputs": [
    {
     "name": "stdout",
     "output_type": "stream",
     "text": [
      "          train  test\n",
      "Accuracy   0.90  0.73\n",
      "ROC AUC    0.95  0.84\n",
      "CPU times: user 640 ms, sys: 2.24 ms, total: 643 ms\n",
      "Wall time: 652 ms\n"
     ]
    }
   ],
   "source": [
    "%%time\n",
    "rf_upsample = RandomForestClassifier(criterion='gini', max_depth=10, min_samples_leaf=2, n_estimators=50)\n",
    "rf_upsample.fit(features_upsampled, target_upsampled)\n",
    "\n",
    "rf_upsample_result = evaluate_model(rf_upsample, features_upsampled, target_upsampled, x_test_std, y_test)"
   ]
  },
  {
   "cell_type": "markdown",
   "metadata": {},
   "source": [
    "# 7.5.3 Random Forest Classifier + Downsample <a id='rf_classifier'></a>"
   ]
  },
  {
   "cell_type": "code",
   "execution_count": 85,
   "metadata": {},
   "outputs": [
    {
     "name": "stdout",
     "output_type": "stream",
     "text": [
      "          train  test\n",
      "Accuracy   0.90  0.66\n",
      "ROC AUC    0.96  0.83\n",
      "CPU times: user 254 ms, sys: 2.43 ms, total: 256 ms\n",
      "Wall time: 264 ms\n"
     ]
    }
   ],
   "source": [
    "%%time\n",
    "rf_downsample = RandomForestClassifier(criterion='gini', max_depth=10, min_samples_leaf=2, n_estimators=50)\n",
    "rf_downsample.fit(features_downsampled, target_downsampled)\n",
    "\n",
    "rf_downsample_result = evaluate_model(rf_downsample, features_downsampled, target_downsampled, x_test_std, y_test)"
   ]
  },
  {
   "cell_type": "markdown",
   "metadata": {},
   "source": [
    "# 7.6 XGBoost Classifier <a id='xgb_classifier'></a>"
   ]
  },
  {
   "cell_type": "code",
   "execution_count": 86,
   "metadata": {},
   "outputs": [
    {
     "name": "stdout",
     "output_type": "stream",
     "text": [
      "[07:33:17] WARNING: ../src/learner.cc:1115: Starting in XGBoost 1.3.0, the default evaluation metric used with the objective 'binary:logistic' was changed from 'error' to 'logloss'. Explicitly set eval_metric if you'd like to restore the old behavior.\n"
     ]
    },
    {
     "name": "stderr",
     "output_type": "stream",
     "text": [
      "/opt/conda/lib/python3.9/site-packages/xgboost/sklearn.py:1224: UserWarning: The use of label encoder in XGBClassifier is deprecated and will be removed in a future release. To remove this warning, do the following: 1) Pass option use_label_encoder=False when constructing XGBClassifier object; and 2) Encode your labels (y) as integers starting with 0, i.e. 0, 1, 2, ..., [num_class - 1].\n",
      "  warnings.warn(label_encoder_deprecation_msg, UserWarning)\n"
     ]
    },
    {
     "name": "stdout",
     "output_type": "stream",
     "text": [
      "          train  test\n",
      "Accuracy   0.93  0.77\n",
      "ROC AUC    0.98  0.81\n",
      "CPU times: user 3.49 s, sys: 22.6 ms, total: 3.51 s\n",
      "Wall time: 3.53 s\n"
     ]
    }
   ],
   "source": [
    "%%time\n",
    "xgb_model = XGBClassifier(random_state=12345)\n",
    "xgb_model.fit(x_train_std, y_train)\n",
    "\n",
    "xgb_result = evaluate_model(xgb_model, x_train_std, y_train, x_test_std, y_test)"
   ]
  },
  {
   "cell_type": "code",
   "execution_count": 87,
   "metadata": {},
   "outputs": [],
   "source": [
    "xgb_acc = xgb_result['test']['Accuracy']\n",
    "xgb_roc_acc = xgb_result['test']['ROC AUC']"
   ]
  },
  {
   "cell_type": "markdown",
   "metadata": {},
   "source": [
    "# 7.6.1 XGBoost Classifier + Hyperparameter Tuning <a id='xgb_classifier'></a>"
   ]
  },
  {
   "cell_type": "code",
   "execution_count": 88,
   "metadata": {},
   "outputs": [
    {
     "name": "stdout",
     "output_type": "stream",
     "text": [
      "[07:33:21] WARNING: ../src/learner.cc:1115: Starting in XGBoost 1.3.0, the default evaluation metric used with the objective 'binary:logistic' was changed from 'error' to 'logloss'. Explicitly set eval_metric if you'd like to restore the old behavior.\n"
     ]
    },
    {
     "name": "stderr",
     "output_type": "stream",
     "text": [
      "/opt/conda/lib/python3.9/site-packages/xgboost/sklearn.py:1224: UserWarning: The use of label encoder in XGBClassifier is deprecated and will be removed in a future release. To remove this warning, do the following: 1) Pass option use_label_encoder=False when constructing XGBClassifier object; and 2) Encode your labels (y) as integers starting with 0, i.e. 0, 1, 2, ..., [num_class - 1].\n",
      "  warnings.warn(label_encoder_deprecation_msg, UserWarning)\n"
     ]
    },
    {
     "name": "stdout",
     "output_type": "stream",
     "text": [
      "          train  test\n",
      "Accuracy   0.94  0.77\n",
      "ROC AUC    0.98  0.82\n",
      "CPU times: user 17.2 s, sys: 174 ms, total: 17.4 s\n",
      "Wall time: 17.6 s\n"
     ]
    }
   ],
   "source": [
    "%%time\n",
    "xgb_tuning = XGBClassifier(learning_rate=0.1, n_estimators= 500, max_depth=5)\n",
    "xgb_tuning.fit(x_train_std, y_train)\n",
    "\n",
    "xgb_result = evaluate_model(xgb_tuning, x_train_std, y_train, x_test_std, y_test)"
   ]
  },
  {
   "cell_type": "markdown",
   "metadata": {},
   "source": [
    "# 7.6.2 XGBoost Classifier + Upsample <a id='xgb_classifier'></a>"
   ]
  },
  {
   "cell_type": "code",
   "execution_count": 89,
   "metadata": {},
   "outputs": [
    {
     "name": "stdout",
     "output_type": "stream",
     "text": [
      "[07:33:38] WARNING: ../src/learner.cc:1115: Starting in XGBoost 1.3.0, the default evaluation metric used with the objective 'binary:logistic' was changed from 'error' to 'logloss'. Explicitly set eval_metric if you'd like to restore the old behavior.\n"
     ]
    },
    {
     "name": "stderr",
     "output_type": "stream",
     "text": [
      "/opt/conda/lib/python3.9/site-packages/xgboost/sklearn.py:1224: UserWarning: The use of label encoder in XGBClassifier is deprecated and will be removed in a future release. To remove this warning, do the following: 1) Pass option use_label_encoder=False when constructing XGBClassifier object; and 2) Encode your labels (y) as integers starting with 0, i.e. 0, 1, 2, ..., [num_class - 1].\n",
      "  warnings.warn(label_encoder_deprecation_msg, UserWarning)\n"
     ]
    },
    {
     "name": "stdout",
     "output_type": "stream",
     "text": [
      "          train  test\n",
      "Accuracy   0.95  0.74\n",
      "ROC AUC    0.99  0.82\n",
      "CPU times: user 19.1 s, sys: 110 ms, total: 19.2 s\n",
      "Wall time: 19.4 s\n"
     ]
    }
   ],
   "source": [
    "%%time\n",
    "xgb_upsample = XGBClassifier(learning_rate=0.1, n_estimators= 500, max_depth=5)\n",
    "xgb_upsample.fit(features_upsampled, target_upsampled)\n",
    "\n",
    "xgb_tuning_result = evaluate_model(xgb_upsample, features_upsampled, target_upsampled, x_test_std, y_test)"
   ]
  },
  {
   "cell_type": "markdown",
   "metadata": {},
   "source": [
    "# 7.6.3 XGBoost Classifier + Downsample <a id='xgb_classifier'></a>"
   ]
  },
  {
   "cell_type": "code",
   "execution_count": 90,
   "metadata": {},
   "outputs": [
    {
     "name": "stdout",
     "output_type": "stream",
     "text": [
      "[07:33:58] WARNING: ../src/learner.cc:1115: Starting in XGBoost 1.3.0, the default evaluation metric used with the objective 'binary:logistic' was changed from 'error' to 'logloss'. Explicitly set eval_metric if you'd like to restore the old behavior.\n"
     ]
    },
    {
     "name": "stderr",
     "output_type": "stream",
     "text": [
      "/opt/conda/lib/python3.9/site-packages/xgboost/sklearn.py:1224: UserWarning: The use of label encoder in XGBClassifier is deprecated and will be removed in a future release. To remove this warning, do the following: 1) Pass option use_label_encoder=False when constructing XGBClassifier object; and 2) Encode your labels (y) as integers starting with 0, i.e. 0, 1, 2, ..., [num_class - 1].\n",
      "  warnings.warn(label_encoder_deprecation_msg, UserWarning)\n"
     ]
    },
    {
     "name": "stdout",
     "output_type": "stream",
     "text": [
      "          train  test\n",
      "Accuracy   0.98  0.67\n",
      "ROC AUC    1.00  0.81\n",
      "CPU times: user 8.95 s, sys: 102 ms, total: 9.06 s\n",
      "Wall time: 9.11 s\n"
     ]
    }
   ],
   "source": [
    "%%time\n",
    "xgb_downsample = XGBClassifier(learning_rate=0.1, n_estimators= 500, max_depth=5)\n",
    "xgb_downsample.fit(features_downsampled, target_downsampled)\n",
    "\n",
    "xgb_downsample_result = evaluate_model(xgb_downsample, features_downsampled, target_downsampled, x_test_std, y_test)"
   ]
  },
  {
   "cell_type": "markdown",
   "metadata": {},
   "source": [
    "# 7.7 LGBM Classifier <a id='lgbm_classifier'></a>"
   ]
  },
  {
   "cell_type": "code",
   "execution_count": 91,
   "metadata": {},
   "outputs": [
    {
     "name": "stdout",
     "output_type": "stream",
     "text": [
      "          train  test\n",
      "Accuracy   0.88  0.79\n",
      "ROC AUC    0.95  0.83\n",
      "CPU times: user 1.58 s, sys: 11.2 ms, total: 1.59 s\n",
      "Wall time: 1.59 s\n"
     ]
    }
   ],
   "source": [
    "%%time\n",
    "lgbm_model = LGBMClassifier(random_state=12345)\n",
    "lgbm_model.fit(x_train_std, y_train)\n",
    "\n",
    "lgbm_result = evaluate_model(lgbm_model, x_train_std, y_train, x_test_std, y_test)"
   ]
  },
  {
   "cell_type": "code",
   "execution_count": 92,
   "metadata": {},
   "outputs": [],
   "source": [
    "lgbm_acc = lgbm_result['test']['Accuracy']\n",
    "lgbm_roc_acc = lgbm_result['test']['ROC AUC']"
   ]
  },
  {
   "cell_type": "markdown",
   "metadata": {},
   "source": [
    "# 7.7.1 LGBM Classifier + Hperparameter Tuning <a id='lgbm_classifier'></a>"
   ]
  },
  {
   "cell_type": "code",
   "execution_count": 93,
   "metadata": {},
   "outputs": [
    {
     "name": "stdout",
     "output_type": "stream",
     "text": [
      "          train  test\n",
      "Accuracy   0.85  0.79\n",
      "ROC AUC    0.91  0.83\n",
      "CPU times: user 1.05 s, sys: 6.03 ms, total: 1.05 s\n",
      "Wall time: 1.11 s\n"
     ]
    }
   ],
   "source": [
    "%%time\n",
    "lgbm_tuning = LGBMClassifier(learning_rate=0.1, n_estimators= 500, num_leaves=5)\n",
    "lgbm_tuning.fit(x_train_std, y_train)\n",
    "\n",
    "lgbm_tuning_result = evaluate_model(lgbm_tuning, x_train_std, y_train, x_test_std, y_test)"
   ]
  },
  {
   "cell_type": "markdown",
   "metadata": {},
   "source": [
    "# 7.7.2 LGBM Classifier + Upsample <a id='lgbm_classifier'></a>"
   ]
  },
  {
   "cell_type": "code",
   "execution_count": 94,
   "metadata": {},
   "outputs": [
    {
     "name": "stdout",
     "output_type": "stream",
     "text": [
      "          train  test\n",
      "Accuracy   0.85  0.72\n",
      "ROC AUC    0.91  0.83\n",
      "CPU times: user 2.45 s, sys: 25.1 ms, total: 2.48 s\n",
      "Wall time: 2.69 s\n"
     ]
    }
   ],
   "source": [
    "%%time\n",
    "lgbm_upsample = LGBMClassifier(learning_rate=0.1, n_estimators= 500, num_leaves=5)\n",
    "lgbm_upsample.fit(features_upsampled, target_upsampled)\n",
    "\n",
    "lgbm_upsample_result = evaluate_model(lgbm_upsample, features_upsampled, target_upsampled, x_test_std, y_test)"
   ]
  },
  {
   "cell_type": "markdown",
   "metadata": {},
   "source": [
    "# 7.7.3 LGBM Classifier + Downsample <a id='lgbm_classifier'></a>"
   ]
  },
  {
   "cell_type": "code",
   "execution_count": 95,
   "metadata": {},
   "outputs": [
    {
     "name": "stdout",
     "output_type": "stream",
     "text": [
      "          train  test\n",
      "Accuracy   0.87  0.68\n",
      "ROC AUC    0.93  0.82\n",
      "CPU times: user 846 ms, sys: 991 µs, total: 847 ms\n",
      "Wall time: 823 ms\n"
     ]
    }
   ],
   "source": [
    "%%time\n",
    "lgbm_downsample = LGBMClassifier(learning_rate=0.1, n_estimators= 500, num_leaves=5)\n",
    "lgbm_downsample.fit(features_downsampled, target_downsampled)\n",
    "\n",
    "lgbm_result = evaluate_model(lgbm_downsample, features_downsampled, target_downsampled, x_test_std, y_test)"
   ]
  },
  {
   "cell_type": "markdown",
   "metadata": {},
   "source": [
    "# 7.8 Catboost Classifier <a id='catboost_classifier'></a>"
   ]
  },
  {
   "cell_type": "code",
   "execution_count": 96,
   "metadata": {
    "scrolled": true
   },
   "outputs": [
    {
     "name": "stdout",
     "output_type": "stream",
     "text": [
      "          train  test\n",
      "Accuracy   0.88  0.79\n",
      "ROC AUC    0.94  0.83\n",
      "CPU times: user 2.73 s, sys: 14.8 ms, total: 2.74 s\n",
      "Wall time: 3.04 s\n"
     ]
    }
   ],
   "source": [
    "%%time\n",
    "cb_model = CatBoostClassifier(random_state=12345, verbose=0)\n",
    "cb_model.fit(x_train_std, y_train)\n",
    "\n",
    "cb_result = evaluate_model(cb_model, x_train_std, y_train, x_test_std, y_test)"
   ]
  },
  {
   "cell_type": "markdown",
   "metadata": {},
   "source": [
    "# 7.8.1 Catboost Classifier + Tuning Hyperparameter <a id='catboost_classifier'></a>"
   ]
  },
  {
   "cell_type": "code",
   "execution_count": 97,
   "metadata": {},
   "outputs": [
    {
     "name": "stdout",
     "output_type": "stream",
     "text": [
      "0:\tlearn: 0.5808653\ttotal: 2.65ms\tremaining: 2.65s\n",
      "1:\tlearn: 0.5210392\ttotal: 5.46ms\tremaining: 2.72s\n",
      "2:\tlearn: 0.4814323\ttotal: 7.49ms\tremaining: 2.49s\n",
      "3:\tlearn: 0.4587762\ttotal: 9.51ms\tremaining: 2.37s\n",
      "4:\tlearn: 0.4457244\ttotal: 11.4ms\tremaining: 2.26s\n",
      "5:\tlearn: 0.4335018\ttotal: 13.6ms\tremaining: 2.25s\n",
      "6:\tlearn: 0.4270047\ttotal: 15.4ms\tremaining: 2.18s\n",
      "7:\tlearn: 0.4202510\ttotal: 17.5ms\tremaining: 2.17s\n",
      "8:\tlearn: 0.4153263\ttotal: 19.5ms\tremaining: 2.14s\n",
      "9:\tlearn: 0.4114993\ttotal: 21.5ms\tremaining: 2.13s\n",
      "10:\tlearn: 0.4094096\ttotal: 23.4ms\tremaining: 2.1s\n",
      "11:\tlearn: 0.4062918\ttotal: 25.5ms\tremaining: 2.1s\n",
      "12:\tlearn: 0.4042953\ttotal: 27.5ms\tremaining: 2.09s\n",
      "13:\tlearn: 0.4029140\ttotal: 29.6ms\tremaining: 2.08s\n",
      "14:\tlearn: 0.4014033\ttotal: 31.6ms\tremaining: 2.08s\n",
      "15:\tlearn: 0.3995053\ttotal: 33.9ms\tremaining: 2.08s\n",
      "16:\tlearn: 0.3983187\ttotal: 36.1ms\tremaining: 2.08s\n",
      "17:\tlearn: 0.3967547\ttotal: 38.1ms\tremaining: 2.08s\n",
      "18:\tlearn: 0.3956407\ttotal: 40.2ms\tremaining: 2.08s\n",
      "19:\tlearn: 0.3947627\ttotal: 42.5ms\tremaining: 2.08s\n",
      "20:\tlearn: 0.3934139\ttotal: 44.5ms\tremaining: 2.07s\n",
      "21:\tlearn: 0.3922144\ttotal: 46.7ms\tremaining: 2.07s\n",
      "22:\tlearn: 0.3913143\ttotal: 48.9ms\tremaining: 2.08s\n",
      "23:\tlearn: 0.3904443\ttotal: 51.1ms\tremaining: 2.08s\n",
      "24:\tlearn: 0.3898132\ttotal: 53.1ms\tremaining: 2.07s\n",
      "25:\tlearn: 0.3887726\ttotal: 55.2ms\tremaining: 2.07s\n",
      "26:\tlearn: 0.3878007\ttotal: 57.2ms\tremaining: 2.06s\n",
      "27:\tlearn: 0.3869360\ttotal: 59.2ms\tremaining: 2.06s\n",
      "28:\tlearn: 0.3861128\ttotal: 61.2ms\tremaining: 2.05s\n",
      "29:\tlearn: 0.3851390\ttotal: 63.2ms\tremaining: 2.04s\n",
      "30:\tlearn: 0.3839749\ttotal: 65.1ms\tremaining: 2.03s\n",
      "31:\tlearn: 0.3833618\ttotal: 67.2ms\tremaining: 2.03s\n",
      "32:\tlearn: 0.3827683\ttotal: 69.1ms\tremaining: 2.02s\n",
      "33:\tlearn: 0.3819885\ttotal: 71.2ms\tremaining: 2.02s\n",
      "34:\tlearn: 0.3815971\ttotal: 73.1ms\tremaining: 2.01s\n",
      "35:\tlearn: 0.3806072\ttotal: 75.3ms\tremaining: 2.02s\n",
      "36:\tlearn: 0.3794726\ttotal: 77.4ms\tremaining: 2.01s\n",
      "37:\tlearn: 0.3781380\ttotal: 79.4ms\tremaining: 2.01s\n",
      "38:\tlearn: 0.3774462\ttotal: 81.4ms\tremaining: 2s\n",
      "39:\tlearn: 0.3768394\ttotal: 83.2ms\tremaining: 2s\n",
      "40:\tlearn: 0.3762769\ttotal: 85.5ms\tremaining: 2s\n",
      "41:\tlearn: 0.3756406\ttotal: 87.4ms\tremaining: 1.99s\n",
      "42:\tlearn: 0.3743374\ttotal: 89.4ms\tremaining: 1.99s\n",
      "43:\tlearn: 0.3732404\ttotal: 91.3ms\tremaining: 1.98s\n",
      "44:\tlearn: 0.3727532\ttotal: 93.4ms\tremaining: 1.98s\n",
      "45:\tlearn: 0.3723260\ttotal: 95.5ms\tremaining: 1.98s\n",
      "46:\tlearn: 0.3713530\ttotal: 97.6ms\tremaining: 1.98s\n",
      "47:\tlearn: 0.3703812\ttotal: 99.4ms\tremaining: 1.97s\n",
      "48:\tlearn: 0.3697577\ttotal: 102ms\tremaining: 1.97s\n",
      "49:\tlearn: 0.3690016\ttotal: 103ms\tremaining: 1.96s\n",
      "50:\tlearn: 0.3682745\ttotal: 106ms\tremaining: 1.96s\n",
      "51:\tlearn: 0.3674541\ttotal: 108ms\tremaining: 1.96s\n",
      "52:\tlearn: 0.3663038\ttotal: 110ms\tremaining: 1.96s\n",
      "53:\tlearn: 0.3654849\ttotal: 112ms\tremaining: 1.96s\n",
      "54:\tlearn: 0.3644520\ttotal: 114ms\tremaining: 1.96s\n",
      "55:\tlearn: 0.3635055\ttotal: 116ms\tremaining: 1.96s\n",
      "56:\tlearn: 0.3631540\ttotal: 118ms\tremaining: 1.96s\n",
      "57:\tlearn: 0.3624184\ttotal: 120ms\tremaining: 1.96s\n",
      "58:\tlearn: 0.3615736\ttotal: 122ms\tremaining: 1.95s\n",
      "59:\tlearn: 0.3606623\ttotal: 125ms\tremaining: 1.97s\n",
      "60:\tlearn: 0.3602497\ttotal: 128ms\tremaining: 1.97s\n",
      "61:\tlearn: 0.3594471\ttotal: 130ms\tremaining: 1.96s\n",
      "62:\tlearn: 0.3588571\ttotal: 136ms\tremaining: 2.02s\n",
      "63:\tlearn: 0.3582806\ttotal: 138ms\tremaining: 2.02s\n",
      "64:\tlearn: 0.3577358\ttotal: 140ms\tremaining: 2.02s\n",
      "65:\tlearn: 0.3571285\ttotal: 142ms\tremaining: 2.01s\n",
      "66:\tlearn: 0.3566918\ttotal: 144ms\tremaining: 2.01s\n",
      "67:\tlearn: 0.3560777\ttotal: 146ms\tremaining: 2s\n",
      "68:\tlearn: 0.3552466\ttotal: 148ms\tremaining: 2s\n",
      "69:\tlearn: 0.3549920\ttotal: 150ms\tremaining: 2s\n",
      "70:\tlearn: 0.3544622\ttotal: 152ms\tremaining: 1.99s\n",
      "71:\tlearn: 0.3540341\ttotal: 155ms\tremaining: 2s\n",
      "72:\tlearn: 0.3532733\ttotal: 157ms\tremaining: 1.99s\n",
      "73:\tlearn: 0.3527941\ttotal: 159ms\tremaining: 1.99s\n",
      "74:\tlearn: 0.3518197\ttotal: 161ms\tremaining: 1.98s\n",
      "75:\tlearn: 0.3509580\ttotal: 163ms\tremaining: 1.98s\n",
      "76:\tlearn: 0.3504675\ttotal: 165ms\tremaining: 1.98s\n",
      "77:\tlearn: 0.3495514\ttotal: 167ms\tremaining: 1.98s\n",
      "78:\tlearn: 0.3484182\ttotal: 169ms\tremaining: 1.98s\n",
      "79:\tlearn: 0.3472085\ttotal: 171ms\tremaining: 1.97s\n",
      "80:\tlearn: 0.3460442\ttotal: 173ms\tremaining: 1.97s\n",
      "81:\tlearn: 0.3458656\ttotal: 175ms\tremaining: 1.96s\n",
      "82:\tlearn: 0.3450486\ttotal: 178ms\tremaining: 1.96s\n",
      "83:\tlearn: 0.3444223\ttotal: 180ms\tremaining: 1.96s\n",
      "84:\tlearn: 0.3438240\ttotal: 182ms\tremaining: 1.96s\n",
      "85:\tlearn: 0.3428048\ttotal: 184ms\tremaining: 1.95s\n",
      "86:\tlearn: 0.3425566\ttotal: 186ms\tremaining: 1.95s\n",
      "87:\tlearn: 0.3421229\ttotal: 187ms\tremaining: 1.94s\n",
      "88:\tlearn: 0.3417339\ttotal: 190ms\tremaining: 1.94s\n",
      "89:\tlearn: 0.3413807\ttotal: 192ms\tremaining: 1.94s\n",
      "90:\tlearn: 0.3407980\ttotal: 194ms\tremaining: 1.94s\n",
      "91:\tlearn: 0.3401094\ttotal: 197ms\tremaining: 1.94s\n",
      "92:\tlearn: 0.3395015\ttotal: 199ms\tremaining: 1.94s\n",
      "93:\tlearn: 0.3386989\ttotal: 202ms\tremaining: 1.94s\n",
      "94:\tlearn: 0.3381902\ttotal: 204ms\tremaining: 1.94s\n",
      "95:\tlearn: 0.3378253\ttotal: 206ms\tremaining: 1.94s\n",
      "96:\tlearn: 0.3370424\ttotal: 208ms\tremaining: 1.93s\n",
      "97:\tlearn: 0.3362076\ttotal: 210ms\tremaining: 1.93s\n",
      "98:\tlearn: 0.3358048\ttotal: 212ms\tremaining: 1.93s\n",
      "99:\tlearn: 0.3349351\ttotal: 214ms\tremaining: 1.93s\n",
      "100:\tlearn: 0.3344154\ttotal: 216ms\tremaining: 1.92s\n",
      "101:\tlearn: 0.3336951\ttotal: 218ms\tremaining: 1.92s\n",
      "102:\tlearn: 0.3329625\ttotal: 220ms\tremaining: 1.92s\n",
      "103:\tlearn: 0.3323294\ttotal: 222ms\tremaining: 1.92s\n",
      "104:\tlearn: 0.3320667\ttotal: 232ms\tremaining: 1.98s\n",
      "105:\tlearn: 0.3316349\ttotal: 234ms\tremaining: 1.97s\n",
      "106:\tlearn: 0.3314843\ttotal: 236ms\tremaining: 1.97s\n",
      "107:\tlearn: 0.3306102\ttotal: 238ms\tremaining: 1.96s\n",
      "108:\tlearn: 0.3300476\ttotal: 240ms\tremaining: 1.96s\n",
      "109:\tlearn: 0.3293003\ttotal: 242ms\tremaining: 1.96s\n",
      "110:\tlearn: 0.3285840\ttotal: 244ms\tremaining: 1.95s\n",
      "111:\tlearn: 0.3273784\ttotal: 246ms\tremaining: 1.95s\n",
      "112:\tlearn: 0.3267529\ttotal: 248ms\tremaining: 1.95s\n",
      "113:\tlearn: 0.3262773\ttotal: 250ms\tremaining: 1.94s\n",
      "114:\tlearn: 0.3258809\ttotal: 252ms\tremaining: 1.94s\n",
      "115:\tlearn: 0.3255944\ttotal: 254ms\tremaining: 1.94s\n",
      "116:\tlearn: 0.3254308\ttotal: 256ms\tremaining: 1.93s\n",
      "117:\tlearn: 0.3249198\ttotal: 258ms\tremaining: 1.93s\n",
      "118:\tlearn: 0.3243953\ttotal: 260ms\tremaining: 1.93s\n",
      "119:\tlearn: 0.3238358\ttotal: 263ms\tremaining: 1.93s\n",
      "120:\tlearn: 0.3231650\ttotal: 265ms\tremaining: 1.92s\n",
      "121:\tlearn: 0.3228541\ttotal: 267ms\tremaining: 1.92s\n",
      "122:\tlearn: 0.3221382\ttotal: 268ms\tremaining: 1.91s\n",
      "123:\tlearn: 0.3217027\ttotal: 271ms\tremaining: 1.91s\n",
      "124:\tlearn: 0.3213987\ttotal: 273ms\tremaining: 1.91s\n",
      "125:\tlearn: 0.3204922\ttotal: 275ms\tremaining: 1.91s\n",
      "126:\tlearn: 0.3196295\ttotal: 277ms\tremaining: 1.9s\n",
      "127:\tlearn: 0.3189959\ttotal: 279ms\tremaining: 1.9s\n",
      "128:\tlearn: 0.3182376\ttotal: 281ms\tremaining: 1.9s\n",
      "129:\tlearn: 0.3179151\ttotal: 283ms\tremaining: 1.89s\n",
      "130:\tlearn: 0.3173064\ttotal: 285ms\tremaining: 1.89s\n",
      "131:\tlearn: 0.3167006\ttotal: 286ms\tremaining: 1.88s\n",
      "132:\tlearn: 0.3157724\ttotal: 289ms\tremaining: 1.88s\n",
      "133:\tlearn: 0.3154394\ttotal: 291ms\tremaining: 1.88s\n",
      "134:\tlearn: 0.3145317\ttotal: 294ms\tremaining: 1.89s\n",
      "135:\tlearn: 0.3137644\ttotal: 297ms\tremaining: 1.89s\n",
      "136:\tlearn: 0.3131305\ttotal: 301ms\tremaining: 1.89s\n",
      "137:\tlearn: 0.3126743\ttotal: 304ms\tremaining: 1.9s\n",
      "138:\tlearn: 0.3121838\ttotal: 307ms\tremaining: 1.9s\n",
      "139:\tlearn: 0.3118446\ttotal: 310ms\tremaining: 1.9s\n",
      "140:\tlearn: 0.3112963\ttotal: 313ms\tremaining: 1.91s\n",
      "141:\tlearn: 0.3109490\ttotal: 316ms\tremaining: 1.91s\n",
      "142:\tlearn: 0.3098251\ttotal: 328ms\tremaining: 1.97s\n",
      "143:\tlearn: 0.3092980\ttotal: 332ms\tremaining: 1.97s\n",
      "144:\tlearn: 0.3086951\ttotal: 335ms\tremaining: 1.98s\n",
      "145:\tlearn: 0.3079669\ttotal: 339ms\tremaining: 1.98s\n",
      "146:\tlearn: 0.3075086\ttotal: 342ms\tremaining: 1.98s\n",
      "147:\tlearn: 0.3070519\ttotal: 344ms\tremaining: 1.98s\n",
      "148:\tlearn: 0.3069384\ttotal: 347ms\tremaining: 1.98s\n",
      "149:\tlearn: 0.3064254\ttotal: 349ms\tremaining: 1.98s\n",
      "150:\tlearn: 0.3059046\ttotal: 352ms\tremaining: 1.98s\n",
      "151:\tlearn: 0.3056013\ttotal: 354ms\tremaining: 1.97s\n",
      "152:\tlearn: 0.3051716\ttotal: 356ms\tremaining: 1.97s\n",
      "153:\tlearn: 0.3046773\ttotal: 358ms\tremaining: 1.97s\n",
      "154:\tlearn: 0.3041763\ttotal: 360ms\tremaining: 1.96s\n",
      "155:\tlearn: 0.3038807\ttotal: 362ms\tremaining: 1.96s\n",
      "156:\tlearn: 0.3034320\ttotal: 364ms\tremaining: 1.95s\n",
      "157:\tlearn: 0.3031890\ttotal: 366ms\tremaining: 1.95s\n",
      "158:\tlearn: 0.3026693\ttotal: 368ms\tremaining: 1.95s\n",
      "159:\tlearn: 0.3018984\ttotal: 370ms\tremaining: 1.94s\n",
      "160:\tlearn: 0.3016363\ttotal: 372ms\tremaining: 1.94s\n",
      "161:\tlearn: 0.3012267\ttotal: 374ms\tremaining: 1.94s\n",
      "162:\tlearn: 0.3009130\ttotal: 376ms\tremaining: 1.93s\n",
      "163:\tlearn: 0.3005006\ttotal: 378ms\tremaining: 1.93s\n",
      "164:\tlearn: 0.3000982\ttotal: 380ms\tremaining: 1.93s\n",
      "165:\tlearn: 0.2999570\ttotal: 382ms\tremaining: 1.92s\n",
      "166:\tlearn: 0.2995599\ttotal: 384ms\tremaining: 1.92s\n",
      "167:\tlearn: 0.2991455\ttotal: 386ms\tremaining: 1.91s\n",
      "168:\tlearn: 0.2984689\ttotal: 388ms\tremaining: 1.91s\n",
      "169:\tlearn: 0.2982394\ttotal: 391ms\tremaining: 1.91s\n",
      "170:\tlearn: 0.2980972\ttotal: 393ms\tremaining: 1.91s\n",
      "171:\tlearn: 0.2977900\ttotal: 396ms\tremaining: 1.91s\n",
      "172:\tlearn: 0.2973067\ttotal: 399ms\tremaining: 1.91s\n",
      "173:\tlearn: 0.2971283\ttotal: 402ms\tremaining: 1.91s\n",
      "174:\tlearn: 0.2969388\ttotal: 405ms\tremaining: 1.91s\n",
      "175:\tlearn: 0.2966035\ttotal: 408ms\tremaining: 1.91s\n",
      "176:\tlearn: 0.2961365\ttotal: 411ms\tremaining: 1.91s\n",
      "177:\tlearn: 0.2959748\ttotal: 413ms\tremaining: 1.91s\n",
      "178:\tlearn: 0.2957610\ttotal: 416ms\tremaining: 1.91s\n",
      "179:\tlearn: 0.2953715\ttotal: 419ms\tremaining: 1.91s\n",
      "180:\tlearn: 0.2947256\ttotal: 422ms\tremaining: 1.91s\n",
      "181:\tlearn: 0.2942158\ttotal: 425ms\tremaining: 1.91s\n",
      "182:\tlearn: 0.2938997\ttotal: 427ms\tremaining: 1.91s\n",
      "183:\tlearn: 0.2935299\ttotal: 429ms\tremaining: 1.9s\n",
      "184:\tlearn: 0.2928483\ttotal: 431ms\tremaining: 1.9s\n",
      "185:\tlearn: 0.2922549\ttotal: 433ms\tremaining: 1.89s\n",
      "186:\tlearn: 0.2916675\ttotal: 435ms\tremaining: 1.89s\n",
      "187:\tlearn: 0.2913392\ttotal: 437ms\tremaining: 1.89s\n",
      "188:\tlearn: 0.2910852\ttotal: 440ms\tremaining: 1.89s\n",
      "189:\tlearn: 0.2908170\ttotal: 442ms\tremaining: 1.88s\n",
      "190:\tlearn: 0.2903896\ttotal: 444ms\tremaining: 1.88s\n",
      "191:\tlearn: 0.2899567\ttotal: 446ms\tremaining: 1.88s\n",
      "192:\tlearn: 0.2894223\ttotal: 448ms\tremaining: 1.87s\n",
      "193:\tlearn: 0.2890637\ttotal: 450ms\tremaining: 1.87s\n",
      "194:\tlearn: 0.2885274\ttotal: 453ms\tremaining: 1.87s\n",
      "195:\tlearn: 0.2884608\ttotal: 455ms\tremaining: 1.86s\n",
      "196:\tlearn: 0.2884285\ttotal: 456ms\tremaining: 1.86s\n",
      "197:\tlearn: 0.2881722\ttotal: 458ms\tremaining: 1.86s\n",
      "198:\tlearn: 0.2875923\ttotal: 461ms\tremaining: 1.85s\n",
      "199:\tlearn: 0.2873227\ttotal: 463ms\tremaining: 1.85s\n",
      "200:\tlearn: 0.2868517\ttotal: 465ms\tremaining: 1.85s\n",
      "201:\tlearn: 0.2864027\ttotal: 468ms\tremaining: 1.85s\n",
      "202:\tlearn: 0.2858723\ttotal: 470ms\tremaining: 1.85s\n",
      "203:\tlearn: 0.2855641\ttotal: 473ms\tremaining: 1.84s\n",
      "204:\tlearn: 0.2851686\ttotal: 476ms\tremaining: 1.84s\n",
      "205:\tlearn: 0.2847744\ttotal: 478ms\tremaining: 1.84s\n",
      "206:\tlearn: 0.2845681\ttotal: 480ms\tremaining: 1.84s\n",
      "207:\tlearn: 0.2839950\ttotal: 482ms\tremaining: 1.83s\n",
      "208:\tlearn: 0.2835278\ttotal: 484ms\tremaining: 1.83s\n",
      "209:\tlearn: 0.2833441\ttotal: 486ms\tremaining: 1.83s\n",
      "210:\tlearn: 0.2829041\ttotal: 488ms\tremaining: 1.83s\n",
      "211:\tlearn: 0.2821406\ttotal: 490ms\tremaining: 1.82s\n",
      "212:\tlearn: 0.2817343\ttotal: 492ms\tremaining: 1.82s\n",
      "213:\tlearn: 0.2815793\ttotal: 494ms\tremaining: 1.81s\n",
      "214:\tlearn: 0.2811180\ttotal: 496ms\tremaining: 1.81s\n",
      "215:\tlearn: 0.2807455\ttotal: 498ms\tremaining: 1.81s\n",
      "216:\tlearn: 0.2803099\ttotal: 500ms\tremaining: 1.8s\n",
      "217:\tlearn: 0.2796626\ttotal: 502ms\tremaining: 1.8s\n",
      "218:\tlearn: 0.2791784\ttotal: 504ms\tremaining: 1.8s\n",
      "219:\tlearn: 0.2787910\ttotal: 510ms\tremaining: 1.81s\n",
      "220:\tlearn: 0.2785989\ttotal: 512ms\tremaining: 1.8s\n",
      "221:\tlearn: 0.2781456\ttotal: 515ms\tremaining: 1.8s\n",
      "222:\tlearn: 0.2777589\ttotal: 517ms\tremaining: 1.8s\n",
      "223:\tlearn: 0.2776765\ttotal: 519ms\tremaining: 1.8s\n",
      "224:\tlearn: 0.2773501\ttotal: 521ms\tremaining: 1.79s\n",
      "225:\tlearn: 0.2771181\ttotal: 523ms\tremaining: 1.79s\n",
      "226:\tlearn: 0.2766386\ttotal: 525ms\tremaining: 1.79s\n",
      "227:\tlearn: 0.2764408\ttotal: 527ms\tremaining: 1.78s\n",
      "228:\tlearn: 0.2762397\ttotal: 529ms\tremaining: 1.78s\n",
      "229:\tlearn: 0.2757837\ttotal: 531ms\tremaining: 1.78s\n",
      "230:\tlearn: 0.2754877\ttotal: 533ms\tremaining: 1.77s\n",
      "231:\tlearn: 0.2750890\ttotal: 535ms\tremaining: 1.77s\n",
      "232:\tlearn: 0.2750394\ttotal: 537ms\tremaining: 1.77s\n",
      "233:\tlearn: 0.2747572\ttotal: 539ms\tremaining: 1.76s\n",
      "234:\tlearn: 0.2743697\ttotal: 541ms\tremaining: 1.76s\n",
      "235:\tlearn: 0.2742288\ttotal: 543ms\tremaining: 1.76s\n",
      "236:\tlearn: 0.2736875\ttotal: 545ms\tremaining: 1.75s\n",
      "237:\tlearn: 0.2731824\ttotal: 547ms\tremaining: 1.75s\n",
      "238:\tlearn: 0.2728401\ttotal: 549ms\tremaining: 1.75s\n",
      "239:\tlearn: 0.2724643\ttotal: 551ms\tremaining: 1.75s\n",
      "240:\tlearn: 0.2720916\ttotal: 554ms\tremaining: 1.74s\n",
      "241:\tlearn: 0.2720063\ttotal: 556ms\tremaining: 1.74s\n",
      "242:\tlearn: 0.2714101\ttotal: 559ms\tremaining: 1.74s\n",
      "243:\tlearn: 0.2710573\ttotal: 562ms\tremaining: 1.74s\n",
      "244:\tlearn: 0.2706049\ttotal: 565ms\tremaining: 1.74s\n",
      "245:\tlearn: 0.2699988\ttotal: 568ms\tremaining: 1.74s\n",
      "246:\tlearn: 0.2696250\ttotal: 571ms\tremaining: 1.74s\n",
      "247:\tlearn: 0.2691201\ttotal: 574ms\tremaining: 1.74s\n",
      "248:\tlearn: 0.2685050\ttotal: 577ms\tremaining: 1.74s\n",
      "249:\tlearn: 0.2679557\ttotal: 580ms\tremaining: 1.74s\n",
      "250:\tlearn: 0.2675373\ttotal: 582ms\tremaining: 1.74s\n",
      "251:\tlearn: 0.2672691\ttotal: 586ms\tremaining: 1.74s\n",
      "252:\tlearn: 0.2670539\ttotal: 589ms\tremaining: 1.74s\n",
      "253:\tlearn: 0.2668593\ttotal: 592ms\tremaining: 1.74s\n",
      "254:\tlearn: 0.2663576\ttotal: 595ms\tremaining: 1.74s\n",
      "255:\tlearn: 0.2661054\ttotal: 607ms\tremaining: 1.76s\n",
      "256:\tlearn: 0.2657736\ttotal: 611ms\tremaining: 1.76s\n",
      "257:\tlearn: 0.2654314\ttotal: 614ms\tremaining: 1.77s\n",
      "258:\tlearn: 0.2650920\ttotal: 618ms\tremaining: 1.77s\n",
      "259:\tlearn: 0.2647729\ttotal: 621ms\tremaining: 1.77s\n",
      "260:\tlearn: 0.2645252\ttotal: 623ms\tremaining: 1.76s\n",
      "261:\tlearn: 0.2640730\ttotal: 627ms\tremaining: 1.77s\n",
      "262:\tlearn: 0.2637423\ttotal: 631ms\tremaining: 1.77s\n",
      "263:\tlearn: 0.2633930\ttotal: 634ms\tremaining: 1.77s\n",
      "264:\tlearn: 0.2629105\ttotal: 636ms\tremaining: 1.76s\n",
      "265:\tlearn: 0.2625252\ttotal: 639ms\tremaining: 1.76s\n",
      "266:\tlearn: 0.2624482\ttotal: 641ms\tremaining: 1.76s\n",
      "267:\tlearn: 0.2619134\ttotal: 644ms\tremaining: 1.76s\n",
      "268:\tlearn: 0.2613109\ttotal: 647ms\tremaining: 1.76s\n",
      "269:\tlearn: 0.2609815\ttotal: 650ms\tremaining: 1.76s\n",
      "270:\tlearn: 0.2605613\ttotal: 653ms\tremaining: 1.75s\n",
      "271:\tlearn: 0.2604039\ttotal: 655ms\tremaining: 1.75s\n",
      "272:\tlearn: 0.2600762\ttotal: 658ms\tremaining: 1.75s\n",
      "273:\tlearn: 0.2597756\ttotal: 661ms\tremaining: 1.75s\n",
      "274:\tlearn: 0.2592979\ttotal: 664ms\tremaining: 1.75s\n",
      "275:\tlearn: 0.2590410\ttotal: 667ms\tremaining: 1.75s\n",
      "276:\tlearn: 0.2586119\ttotal: 670ms\tremaining: 1.75s\n",
      "277:\tlearn: 0.2584074\ttotal: 673ms\tremaining: 1.75s\n",
      "278:\tlearn: 0.2581177\ttotal: 675ms\tremaining: 1.75s\n",
      "279:\tlearn: 0.2578923\ttotal: 678ms\tremaining: 1.74s\n",
      "280:\tlearn: 0.2573463\ttotal: 681ms\tremaining: 1.74s\n",
      "281:\tlearn: 0.2571802\ttotal: 684ms\tremaining: 1.74s\n",
      "282:\tlearn: 0.2566376\ttotal: 687ms\tremaining: 1.74s\n",
      "283:\tlearn: 0.2563601\ttotal: 690ms\tremaining: 1.74s\n",
      "284:\tlearn: 0.2558907\ttotal: 693ms\tremaining: 1.74s\n",
      "285:\tlearn: 0.2555432\ttotal: 699ms\tremaining: 1.75s\n",
      "286:\tlearn: 0.2552154\ttotal: 702ms\tremaining: 1.74s\n",
      "287:\tlearn: 0.2548343\ttotal: 704ms\tremaining: 1.74s\n",
      "288:\tlearn: 0.2546720\ttotal: 707ms\tremaining: 1.74s\n",
      "289:\tlearn: 0.2542380\ttotal: 710ms\tremaining: 1.74s\n",
      "290:\tlearn: 0.2540254\ttotal: 716ms\tremaining: 1.74s\n",
      "291:\tlearn: 0.2538067\ttotal: 718ms\tremaining: 1.74s\n",
      "292:\tlearn: 0.2535221\ttotal: 721ms\tremaining: 1.74s\n",
      "293:\tlearn: 0.2533220\ttotal: 724ms\tremaining: 1.74s\n",
      "294:\tlearn: 0.2530626\ttotal: 727ms\tremaining: 1.74s\n",
      "295:\tlearn: 0.2526246\ttotal: 729ms\tremaining: 1.73s\n",
      "296:\tlearn: 0.2520540\ttotal: 732ms\tremaining: 1.73s\n",
      "297:\tlearn: 0.2517014\ttotal: 735ms\tremaining: 1.73s\n",
      "298:\tlearn: 0.2513527\ttotal: 738ms\tremaining: 1.73s\n",
      "299:\tlearn: 0.2512631\ttotal: 740ms\tremaining: 1.73s\n",
      "300:\tlearn: 0.2510964\ttotal: 743ms\tremaining: 1.72s\n",
      "301:\tlearn: 0.2507873\ttotal: 745ms\tremaining: 1.72s\n",
      "302:\tlearn: 0.2506200\ttotal: 748ms\tremaining: 1.72s\n",
      "303:\tlearn: 0.2504888\ttotal: 750ms\tremaining: 1.72s\n",
      "304:\tlearn: 0.2502956\ttotal: 753ms\tremaining: 1.72s\n",
      "305:\tlearn: 0.2500259\ttotal: 756ms\tremaining: 1.71s\n",
      "306:\tlearn: 0.2496343\ttotal: 758ms\tremaining: 1.71s\n",
      "307:\tlearn: 0.2493649\ttotal: 761ms\tremaining: 1.71s\n",
      "308:\tlearn: 0.2491708\ttotal: 763ms\tremaining: 1.71s\n",
      "309:\tlearn: 0.2488311\ttotal: 765ms\tremaining: 1.7s\n",
      "310:\tlearn: 0.2485266\ttotal: 768ms\tremaining: 1.7s\n",
      "311:\tlearn: 0.2481543\ttotal: 770ms\tremaining: 1.7s\n",
      "312:\tlearn: 0.2478884\ttotal: 772ms\tremaining: 1.7s\n",
      "313:\tlearn: 0.2476140\ttotal: 775ms\tremaining: 1.69s\n",
      "314:\tlearn: 0.2474330\ttotal: 777ms\tremaining: 1.69s\n",
      "315:\tlearn: 0.2472694\ttotal: 779ms\tremaining: 1.69s\n",
      "316:\tlearn: 0.2469163\ttotal: 781ms\tremaining: 1.68s\n",
      "317:\tlearn: 0.2465853\ttotal: 783ms\tremaining: 1.68s\n",
      "318:\tlearn: 0.2461366\ttotal: 785ms\tremaining: 1.68s\n",
      "319:\tlearn: 0.2458011\ttotal: 795ms\tremaining: 1.69s\n",
      "320:\tlearn: 0.2456342\ttotal: 797ms\tremaining: 1.69s\n",
      "321:\tlearn: 0.2454415\ttotal: 799ms\tremaining: 1.68s\n",
      "322:\tlearn: 0.2449968\ttotal: 801ms\tremaining: 1.68s\n",
      "323:\tlearn: 0.2445045\ttotal: 803ms\tremaining: 1.68s\n",
      "324:\tlearn: 0.2442059\ttotal: 805ms\tremaining: 1.67s\n",
      "325:\tlearn: 0.2438902\ttotal: 807ms\tremaining: 1.67s\n",
      "326:\tlearn: 0.2435988\ttotal: 809ms\tremaining: 1.66s\n",
      "327:\tlearn: 0.2431227\ttotal: 811ms\tremaining: 1.66s\n",
      "328:\tlearn: 0.2430756\ttotal: 813ms\tremaining: 1.66s\n",
      "329:\tlearn: 0.2427812\ttotal: 815ms\tremaining: 1.65s\n",
      "330:\tlearn: 0.2425083\ttotal: 817ms\tremaining: 1.65s\n",
      "331:\tlearn: 0.2421148\ttotal: 819ms\tremaining: 1.65s\n",
      "332:\tlearn: 0.2420247\ttotal: 821ms\tremaining: 1.64s\n",
      "333:\tlearn: 0.2415023\ttotal: 822ms\tremaining: 1.64s\n",
      "334:\tlearn: 0.2411786\ttotal: 824ms\tremaining: 1.64s\n",
      "335:\tlearn: 0.2409123\ttotal: 826ms\tremaining: 1.63s\n",
      "336:\tlearn: 0.2407895\ttotal: 828ms\tremaining: 1.63s\n",
      "337:\tlearn: 0.2407103\ttotal: 830ms\tremaining: 1.63s\n",
      "338:\tlearn: 0.2404396\ttotal: 832ms\tremaining: 1.62s\n",
      "339:\tlearn: 0.2398170\ttotal: 834ms\tremaining: 1.62s\n",
      "340:\tlearn: 0.2396942\ttotal: 835ms\tremaining: 1.61s\n",
      "341:\tlearn: 0.2395632\ttotal: 837ms\tremaining: 1.61s\n",
      "342:\tlearn: 0.2392562\ttotal: 839ms\tremaining: 1.61s\n",
      "343:\tlearn: 0.2387260\ttotal: 841ms\tremaining: 1.6s\n",
      "344:\tlearn: 0.2382490\ttotal: 843ms\tremaining: 1.6s\n",
      "345:\tlearn: 0.2380381\ttotal: 845ms\tremaining: 1.6s\n",
      "346:\tlearn: 0.2379075\ttotal: 847ms\tremaining: 1.59s\n",
      "347:\tlearn: 0.2377896\ttotal: 849ms\tremaining: 1.59s\n",
      "348:\tlearn: 0.2374832\ttotal: 850ms\tremaining: 1.59s\n",
      "349:\tlearn: 0.2372018\ttotal: 852ms\tremaining: 1.58s\n",
      "350:\tlearn: 0.2369068\ttotal: 854ms\tremaining: 1.58s\n",
      "351:\tlearn: 0.2367847\ttotal: 856ms\tremaining: 1.57s\n",
      "352:\tlearn: 0.2364917\ttotal: 858ms\tremaining: 1.57s\n",
      "353:\tlearn: 0.2362041\ttotal: 860ms\tremaining: 1.57s\n",
      "354:\tlearn: 0.2360646\ttotal: 861ms\tremaining: 1.56s\n",
      "355:\tlearn: 0.2358234\ttotal: 863ms\tremaining: 1.56s\n",
      "356:\tlearn: 0.2353920\ttotal: 865ms\tremaining: 1.56s\n",
      "357:\tlearn: 0.2350173\ttotal: 867ms\tremaining: 1.55s\n",
      "358:\tlearn: 0.2348161\ttotal: 869ms\tremaining: 1.55s\n",
      "359:\tlearn: 0.2347275\ttotal: 871ms\tremaining: 1.55s\n",
      "360:\tlearn: 0.2343902\ttotal: 873ms\tremaining: 1.54s\n",
      "361:\tlearn: 0.2342472\ttotal: 875ms\tremaining: 1.54s\n",
      "362:\tlearn: 0.2341758\ttotal: 877ms\tremaining: 1.54s\n",
      "363:\tlearn: 0.2339215\ttotal: 878ms\tremaining: 1.53s\n",
      "364:\tlearn: 0.2336431\ttotal: 881ms\tremaining: 1.53s\n",
      "365:\tlearn: 0.2333452\ttotal: 882ms\tremaining: 1.53s\n",
      "366:\tlearn: 0.2330501\ttotal: 884ms\tremaining: 1.52s\n",
      "367:\tlearn: 0.2329188\ttotal: 890ms\tremaining: 1.53s\n",
      "368:\tlearn: 0.2325275\ttotal: 892ms\tremaining: 1.52s\n",
      "369:\tlearn: 0.2322672\ttotal: 893ms\tremaining: 1.52s\n",
      "370:\tlearn: 0.2320284\ttotal: 895ms\tremaining: 1.52s\n",
      "371:\tlearn: 0.2319340\ttotal: 897ms\tremaining: 1.51s\n",
      "372:\tlearn: 0.2318527\ttotal: 899ms\tremaining: 1.51s\n",
      "373:\tlearn: 0.2314345\ttotal: 902ms\tremaining: 1.51s\n",
      "374:\tlearn: 0.2311666\ttotal: 904ms\tremaining: 1.51s\n",
      "375:\tlearn: 0.2310589\ttotal: 906ms\tremaining: 1.5s\n",
      "376:\tlearn: 0.2308664\ttotal: 908ms\tremaining: 1.5s\n",
      "377:\tlearn: 0.2306072\ttotal: 909ms\tremaining: 1.5s\n",
      "378:\tlearn: 0.2300727\ttotal: 911ms\tremaining: 1.49s\n",
      "379:\tlearn: 0.2298305\ttotal: 913ms\tremaining: 1.49s\n",
      "380:\tlearn: 0.2295571\ttotal: 915ms\tremaining: 1.49s\n",
      "381:\tlearn: 0.2293286\ttotal: 917ms\tremaining: 1.48s\n",
      "382:\tlearn: 0.2289901\ttotal: 919ms\tremaining: 1.48s\n",
      "383:\tlearn: 0.2287491\ttotal: 920ms\tremaining: 1.48s\n",
      "384:\tlearn: 0.2284577\ttotal: 922ms\tremaining: 1.47s\n",
      "385:\tlearn: 0.2282884\ttotal: 924ms\tremaining: 1.47s\n",
      "386:\tlearn: 0.2277731\ttotal: 926ms\tremaining: 1.47s\n",
      "387:\tlearn: 0.2275516\ttotal: 928ms\tremaining: 1.46s\n",
      "388:\tlearn: 0.2273860\ttotal: 930ms\tremaining: 1.46s\n",
      "389:\tlearn: 0.2270805\ttotal: 932ms\tremaining: 1.46s\n",
      "390:\tlearn: 0.2269683\ttotal: 933ms\tremaining: 1.45s\n",
      "391:\tlearn: 0.2267144\ttotal: 935ms\tremaining: 1.45s\n",
      "392:\tlearn: 0.2265595\ttotal: 937ms\tremaining: 1.45s\n",
      "393:\tlearn: 0.2261481\ttotal: 939ms\tremaining: 1.44s\n",
      "394:\tlearn: 0.2256125\ttotal: 941ms\tremaining: 1.44s\n",
      "395:\tlearn: 0.2253952\ttotal: 943ms\tremaining: 1.44s\n",
      "396:\tlearn: 0.2251275\ttotal: 945ms\tremaining: 1.43s\n",
      "397:\tlearn: 0.2248264\ttotal: 946ms\tremaining: 1.43s\n",
      "398:\tlearn: 0.2243849\ttotal: 948ms\tremaining: 1.43s\n",
      "399:\tlearn: 0.2241035\ttotal: 950ms\tremaining: 1.43s\n",
      "400:\tlearn: 0.2240322\ttotal: 952ms\tremaining: 1.42s\n",
      "401:\tlearn: 0.2236767\ttotal: 955ms\tremaining: 1.42s\n",
      "402:\tlearn: 0.2235986\ttotal: 957ms\tremaining: 1.42s\n",
      "403:\tlearn: 0.2232143\ttotal: 960ms\tremaining: 1.42s\n",
      "404:\tlearn: 0.2231742\ttotal: 962ms\tremaining: 1.41s\n",
      "405:\tlearn: 0.2227291\ttotal: 964ms\tremaining: 1.41s\n",
      "406:\tlearn: 0.2222226\ttotal: 966ms\tremaining: 1.41s\n",
      "407:\tlearn: 0.2218854\ttotal: 968ms\tremaining: 1.4s\n",
      "408:\tlearn: 0.2216233\ttotal: 971ms\tremaining: 1.4s\n",
      "409:\tlearn: 0.2213677\ttotal: 973ms\tremaining: 1.4s\n",
      "410:\tlearn: 0.2210629\ttotal: 976ms\tremaining: 1.4s\n",
      "411:\tlearn: 0.2208217\ttotal: 988ms\tremaining: 1.41s\n",
      "412:\tlearn: 0.2204220\ttotal: 990ms\tremaining: 1.41s\n",
      "413:\tlearn: 0.2202372\ttotal: 992ms\tremaining: 1.4s\n",
      "414:\tlearn: 0.2201016\ttotal: 994ms\tremaining: 1.4s\n",
      "415:\tlearn: 0.2199831\ttotal: 996ms\tremaining: 1.4s\n",
      "416:\tlearn: 0.2198273\ttotal: 998ms\tremaining: 1.4s\n",
      "417:\tlearn: 0.2192942\ttotal: 1s\tremaining: 1.39s\n",
      "418:\tlearn: 0.2190399\ttotal: 1s\tremaining: 1.39s\n",
      "419:\tlearn: 0.2188533\ttotal: 1s\tremaining: 1.39s\n",
      "420:\tlearn: 0.2187500\ttotal: 1.01s\tremaining: 1.38s\n",
      "421:\tlearn: 0.2186605\ttotal: 1.01s\tremaining: 1.38s\n",
      "422:\tlearn: 0.2185039\ttotal: 1.01s\tremaining: 1.38s\n",
      "423:\tlearn: 0.2183775\ttotal: 1.01s\tremaining: 1.38s\n",
      "424:\tlearn: 0.2181070\ttotal: 1.01s\tremaining: 1.37s\n",
      "425:\tlearn: 0.2176927\ttotal: 1.02s\tremaining: 1.37s\n",
      "426:\tlearn: 0.2174941\ttotal: 1.02s\tremaining: 1.37s\n",
      "427:\tlearn: 0.2173730\ttotal: 1.02s\tremaining: 1.37s\n",
      "428:\tlearn: 0.2171049\ttotal: 1.02s\tremaining: 1.36s\n",
      "429:\tlearn: 0.2168148\ttotal: 1.03s\tremaining: 1.36s\n",
      "430:\tlearn: 0.2164798\ttotal: 1.03s\tremaining: 1.36s\n",
      "431:\tlearn: 0.2161530\ttotal: 1.03s\tremaining: 1.36s\n",
      "432:\tlearn: 0.2160478\ttotal: 1.03s\tremaining: 1.35s\n",
      "433:\tlearn: 0.2157467\ttotal: 1.04s\tremaining: 1.35s\n",
      "434:\tlearn: 0.2154985\ttotal: 1.04s\tremaining: 1.35s\n",
      "435:\tlearn: 0.2154274\ttotal: 1.04s\tremaining: 1.35s\n",
      "436:\tlearn: 0.2152069\ttotal: 1.04s\tremaining: 1.35s\n",
      "437:\tlearn: 0.2151730\ttotal: 1.05s\tremaining: 1.34s\n",
      "438:\tlearn: 0.2147767\ttotal: 1.05s\tremaining: 1.34s\n",
      "439:\tlearn: 0.2145295\ttotal: 1.05s\tremaining: 1.34s\n",
      "440:\tlearn: 0.2140785\ttotal: 1.06s\tremaining: 1.34s\n",
      "441:\tlearn: 0.2140053\ttotal: 1.06s\tremaining: 1.34s\n",
      "442:\tlearn: 0.2139514\ttotal: 1.06s\tremaining: 1.33s\n",
      "443:\tlearn: 0.2137714\ttotal: 1.06s\tremaining: 1.33s\n",
      "444:\tlearn: 0.2134949\ttotal: 1.07s\tremaining: 1.33s\n",
      "445:\tlearn: 0.2132933\ttotal: 1.07s\tremaining: 1.33s\n",
      "446:\tlearn: 0.2131820\ttotal: 1.07s\tremaining: 1.33s\n",
      "447:\tlearn: 0.2130908\ttotal: 1.07s\tremaining: 1.32s\n",
      "448:\tlearn: 0.2127169\ttotal: 1.08s\tremaining: 1.32s\n",
      "449:\tlearn: 0.2123049\ttotal: 1.08s\tremaining: 1.32s\n",
      "450:\tlearn: 0.2121890\ttotal: 1.08s\tremaining: 1.32s\n",
      "451:\tlearn: 0.2118930\ttotal: 1.08s\tremaining: 1.32s\n",
      "452:\tlearn: 0.2114929\ttotal: 1.09s\tremaining: 1.31s\n",
      "453:\tlearn: 0.2111051\ttotal: 1.09s\tremaining: 1.31s\n",
      "454:\tlearn: 0.2108051\ttotal: 1.09s\tremaining: 1.31s\n",
      "455:\tlearn: 0.2107098\ttotal: 1.1s\tremaining: 1.31s\n",
      "456:\tlearn: 0.2105105\ttotal: 1.1s\tremaining: 1.31s\n",
      "457:\tlearn: 0.2104810\ttotal: 1.1s\tremaining: 1.3s\n",
      "458:\tlearn: 0.2102780\ttotal: 1.1s\tremaining: 1.3s\n",
      "459:\tlearn: 0.2101040\ttotal: 1.11s\tremaining: 1.3s\n",
      "460:\tlearn: 0.2100160\ttotal: 1.11s\tremaining: 1.3s\n",
      "461:\tlearn: 0.2098180\ttotal: 1.11s\tremaining: 1.3s\n",
      "462:\tlearn: 0.2096278\ttotal: 1.12s\tremaining: 1.29s\n",
      "463:\tlearn: 0.2094529\ttotal: 1.12s\tremaining: 1.29s\n",
      "464:\tlearn: 0.2093822\ttotal: 1.12s\tremaining: 1.29s\n",
      "465:\tlearn: 0.2091734\ttotal: 1.12s\tremaining: 1.29s\n",
      "466:\tlearn: 0.2089202\ttotal: 1.13s\tremaining: 1.29s\n",
      "467:\tlearn: 0.2088580\ttotal: 1.13s\tremaining: 1.28s\n",
      "468:\tlearn: 0.2084230\ttotal: 1.13s\tremaining: 1.28s\n",
      "469:\tlearn: 0.2082301\ttotal: 1.13s\tremaining: 1.28s\n",
      "470:\tlearn: 0.2080267\ttotal: 1.14s\tremaining: 1.28s\n",
      "471:\tlearn: 0.2078883\ttotal: 1.14s\tremaining: 1.27s\n",
      "472:\tlearn: 0.2074468\ttotal: 1.14s\tremaining: 1.27s\n",
      "473:\tlearn: 0.2071962\ttotal: 1.15s\tremaining: 1.27s\n",
      "474:\tlearn: 0.2068775\ttotal: 1.15s\tremaining: 1.27s\n",
      "475:\tlearn: 0.2066323\ttotal: 1.15s\tremaining: 1.27s\n",
      "476:\tlearn: 0.2061879\ttotal: 1.15s\tremaining: 1.26s\n",
      "477:\tlearn: 0.2060111\ttotal: 1.16s\tremaining: 1.26s\n",
      "478:\tlearn: 0.2058296\ttotal: 1.16s\tremaining: 1.26s\n",
      "479:\tlearn: 0.2057647\ttotal: 1.16s\tremaining: 1.26s\n",
      "480:\tlearn: 0.2055785\ttotal: 1.17s\tremaining: 1.26s\n",
      "481:\tlearn: 0.2054017\ttotal: 1.18s\tremaining: 1.27s\n",
      "482:\tlearn: 0.2052249\ttotal: 1.18s\tremaining: 1.26s\n",
      "483:\tlearn: 0.2048203\ttotal: 1.18s\tremaining: 1.26s\n",
      "484:\tlearn: 0.2046639\ttotal: 1.18s\tremaining: 1.26s\n",
      "485:\tlearn: 0.2045002\ttotal: 1.19s\tremaining: 1.25s\n",
      "486:\tlearn: 0.2043649\ttotal: 1.19s\tremaining: 1.25s\n",
      "487:\tlearn: 0.2042879\ttotal: 1.19s\tremaining: 1.25s\n",
      "488:\tlearn: 0.2040834\ttotal: 1.19s\tremaining: 1.25s\n",
      "489:\tlearn: 0.2039033\ttotal: 1.19s\tremaining: 1.24s\n",
      "490:\tlearn: 0.2037577\ttotal: 1.2s\tremaining: 1.24s\n",
      "491:\tlearn: 0.2034277\ttotal: 1.2s\tremaining: 1.24s\n",
      "492:\tlearn: 0.2031624\ttotal: 1.2s\tremaining: 1.23s\n",
      "493:\tlearn: 0.2031411\ttotal: 1.2s\tremaining: 1.23s\n",
      "494:\tlearn: 0.2029729\ttotal: 1.2s\tremaining: 1.23s\n",
      "495:\tlearn: 0.2028104\ttotal: 1.21s\tremaining: 1.23s\n",
      "496:\tlearn: 0.2025781\ttotal: 1.21s\tremaining: 1.22s\n",
      "497:\tlearn: 0.2023600\ttotal: 1.21s\tremaining: 1.22s\n",
      "498:\tlearn: 0.2023224\ttotal: 1.21s\tremaining: 1.22s\n",
      "499:\tlearn: 0.2020439\ttotal: 1.21s\tremaining: 1.21s\n",
      "500:\tlearn: 0.2018340\ttotal: 1.22s\tremaining: 1.21s\n",
      "501:\tlearn: 0.2015188\ttotal: 1.22s\tremaining: 1.21s\n",
      "502:\tlearn: 0.2012736\ttotal: 1.22s\tremaining: 1.21s\n",
      "503:\tlearn: 0.2009730\ttotal: 1.22s\tremaining: 1.2s\n",
      "504:\tlearn: 0.2007316\ttotal: 1.22s\tremaining: 1.2s\n",
      "505:\tlearn: 0.2004666\ttotal: 1.23s\tremaining: 1.2s\n",
      "506:\tlearn: 0.2001832\ttotal: 1.23s\tremaining: 1.19s\n",
      "507:\tlearn: 0.1999819\ttotal: 1.23s\tremaining: 1.19s\n",
      "508:\tlearn: 0.1997826\ttotal: 1.23s\tremaining: 1.19s\n",
      "509:\tlearn: 0.1995823\ttotal: 1.23s\tremaining: 1.19s\n",
      "510:\tlearn: 0.1993227\ttotal: 1.24s\tremaining: 1.18s\n",
      "511:\tlearn: 0.1992676\ttotal: 1.24s\tremaining: 1.18s\n",
      "512:\tlearn: 0.1991495\ttotal: 1.24s\tremaining: 1.18s\n",
      "513:\tlearn: 0.1990333\ttotal: 1.24s\tremaining: 1.17s\n",
      "514:\tlearn: 0.1986898\ttotal: 1.24s\tremaining: 1.17s\n",
      "515:\tlearn: 0.1984405\ttotal: 1.25s\tremaining: 1.17s\n",
      "516:\tlearn: 0.1983527\ttotal: 1.25s\tremaining: 1.16s\n",
      "517:\tlearn: 0.1982243\ttotal: 1.25s\tremaining: 1.16s\n",
      "518:\tlearn: 0.1981337\ttotal: 1.25s\tremaining: 1.16s\n",
      "519:\tlearn: 0.1978042\ttotal: 1.25s\tremaining: 1.16s\n",
      "520:\tlearn: 0.1976100\ttotal: 1.25s\tremaining: 1.15s\n",
      "521:\tlearn: 0.1974433\ttotal: 1.26s\tremaining: 1.15s\n",
      "522:\tlearn: 0.1973993\ttotal: 1.26s\tremaining: 1.15s\n",
      "523:\tlearn: 0.1973681\ttotal: 1.26s\tremaining: 1.15s\n",
      "524:\tlearn: 0.1971354\ttotal: 1.26s\tremaining: 1.14s\n",
      "525:\tlearn: 0.1969663\ttotal: 1.26s\tremaining: 1.14s\n",
      "526:\tlearn: 0.1967277\ttotal: 1.27s\tremaining: 1.14s\n",
      "527:\tlearn: 0.1965456\ttotal: 1.27s\tremaining: 1.13s\n",
      "528:\tlearn: 0.1962927\ttotal: 1.27s\tremaining: 1.13s\n",
      "529:\tlearn: 0.1961959\ttotal: 1.28s\tremaining: 1.13s\n",
      "530:\tlearn: 0.1958326\ttotal: 1.28s\tremaining: 1.13s\n",
      "531:\tlearn: 0.1956907\ttotal: 1.28s\tremaining: 1.13s\n",
      "532:\tlearn: 0.1955722\ttotal: 1.28s\tremaining: 1.12s\n",
      "533:\tlearn: 0.1954199\ttotal: 1.28s\tremaining: 1.12s\n",
      "534:\tlearn: 0.1950940\ttotal: 1.29s\tremaining: 1.12s\n",
      "535:\tlearn: 0.1947871\ttotal: 1.29s\tremaining: 1.11s\n",
      "536:\tlearn: 0.1947783\ttotal: 1.29s\tremaining: 1.11s\n",
      "537:\tlearn: 0.1945761\ttotal: 1.29s\tremaining: 1.11s\n",
      "538:\tlearn: 0.1941113\ttotal: 1.29s\tremaining: 1.11s\n",
      "539:\tlearn: 0.1939878\ttotal: 1.3s\tremaining: 1.1s\n",
      "540:\tlearn: 0.1937888\ttotal: 1.3s\tremaining: 1.1s\n",
      "541:\tlearn: 0.1936538\ttotal: 1.3s\tremaining: 1.1s\n",
      "542:\tlearn: 0.1933735\ttotal: 1.3s\tremaining: 1.1s\n",
      "543:\tlearn: 0.1932716\ttotal: 1.31s\tremaining: 1.09s\n",
      "544:\tlearn: 0.1930195\ttotal: 1.31s\tremaining: 1.09s\n",
      "545:\tlearn: 0.1927641\ttotal: 1.31s\tremaining: 1.09s\n",
      "546:\tlearn: 0.1926051\ttotal: 1.31s\tremaining: 1.09s\n",
      "547:\tlearn: 0.1924458\ttotal: 1.31s\tremaining: 1.08s\n",
      "548:\tlearn: 0.1922044\ttotal: 1.32s\tremaining: 1.08s\n",
      "549:\tlearn: 0.1920057\ttotal: 1.32s\tremaining: 1.08s\n",
      "550:\tlearn: 0.1918637\ttotal: 1.32s\tremaining: 1.08s\n",
      "551:\tlearn: 0.1916363\ttotal: 1.32s\tremaining: 1.07s\n",
      "552:\tlearn: 0.1915124\ttotal: 1.33s\tremaining: 1.07s\n",
      "553:\tlearn: 0.1908421\ttotal: 1.33s\tremaining: 1.07s\n",
      "554:\tlearn: 0.1905958\ttotal: 1.33s\tremaining: 1.07s\n",
      "555:\tlearn: 0.1904719\ttotal: 1.33s\tremaining: 1.06s\n",
      "556:\tlearn: 0.1901498\ttotal: 1.33s\tremaining: 1.06s\n",
      "557:\tlearn: 0.1899186\ttotal: 1.34s\tremaining: 1.06s\n",
      "558:\tlearn: 0.1897700\ttotal: 1.34s\tremaining: 1.06s\n",
      "559:\tlearn: 0.1895355\ttotal: 1.34s\tremaining: 1.05s\n",
      "560:\tlearn: 0.1892808\ttotal: 1.34s\tremaining: 1.05s\n",
      "561:\tlearn: 0.1892563\ttotal: 1.34s\tremaining: 1.05s\n",
      "562:\tlearn: 0.1891179\ttotal: 1.35s\tremaining: 1.04s\n",
      "563:\tlearn: 0.1889025\ttotal: 1.35s\tremaining: 1.04s\n",
      "564:\tlearn: 0.1885729\ttotal: 1.35s\tremaining: 1.04s\n",
      "565:\tlearn: 0.1884686\ttotal: 1.35s\tremaining: 1.04s\n",
      "566:\tlearn: 0.1881048\ttotal: 1.35s\tremaining: 1.03s\n",
      "567:\tlearn: 0.1880649\ttotal: 1.37s\tremaining: 1.04s\n",
      "568:\tlearn: 0.1879372\ttotal: 1.37s\tremaining: 1.04s\n",
      "569:\tlearn: 0.1876880\ttotal: 1.37s\tremaining: 1.04s\n",
      "570:\tlearn: 0.1874716\ttotal: 1.38s\tremaining: 1.03s\n",
      "571:\tlearn: 0.1873418\ttotal: 1.38s\tremaining: 1.03s\n",
      "572:\tlearn: 0.1872189\ttotal: 1.38s\tremaining: 1.03s\n",
      "573:\tlearn: 0.1869984\ttotal: 1.38s\tremaining: 1.02s\n",
      "574:\tlearn: 0.1868281\ttotal: 1.38s\tremaining: 1.02s\n",
      "575:\tlearn: 0.1866688\ttotal: 1.39s\tremaining: 1.02s\n",
      "576:\tlearn: 0.1865659\ttotal: 1.39s\tremaining: 1.02s\n",
      "577:\tlearn: 0.1859887\ttotal: 1.39s\tremaining: 1.01s\n",
      "578:\tlearn: 0.1857112\ttotal: 1.39s\tremaining: 1.01s\n",
      "579:\tlearn: 0.1853436\ttotal: 1.39s\tremaining: 1.01s\n",
      "580:\tlearn: 0.1852381\ttotal: 1.4s\tremaining: 1.01s\n",
      "581:\tlearn: 0.1850412\ttotal: 1.4s\tremaining: 1s\n",
      "582:\tlearn: 0.1848234\ttotal: 1.4s\tremaining: 1s\n",
      "583:\tlearn: 0.1845247\ttotal: 1.4s\tremaining: 998ms\n",
      "584:\tlearn: 0.1843654\ttotal: 1.4s\tremaining: 995ms\n",
      "585:\tlearn: 0.1841850\ttotal: 1.41s\tremaining: 993ms\n",
      "586:\tlearn: 0.1839834\ttotal: 1.41s\tremaining: 990ms\n",
      "587:\tlearn: 0.1836242\ttotal: 1.41s\tremaining: 987ms\n",
      "588:\tlearn: 0.1833703\ttotal: 1.41s\tremaining: 985ms\n",
      "589:\tlearn: 0.1829869\ttotal: 1.41s\tremaining: 982ms\n",
      "590:\tlearn: 0.1828208\ttotal: 1.42s\tremaining: 979ms\n",
      "591:\tlearn: 0.1826445\ttotal: 1.42s\tremaining: 977ms\n",
      "592:\tlearn: 0.1824552\ttotal: 1.42s\tremaining: 974ms\n",
      "593:\tlearn: 0.1822642\ttotal: 1.42s\tremaining: 972ms\n",
      "594:\tlearn: 0.1821374\ttotal: 1.42s\tremaining: 969ms\n",
      "595:\tlearn: 0.1820231\ttotal: 1.43s\tremaining: 966ms\n",
      "596:\tlearn: 0.1817878\ttotal: 1.43s\tremaining: 964ms\n",
      "597:\tlearn: 0.1816241\ttotal: 1.43s\tremaining: 961ms\n",
      "598:\tlearn: 0.1814454\ttotal: 1.43s\tremaining: 958ms\n",
      "599:\tlearn: 0.1811830\ttotal: 1.43s\tremaining: 955ms\n",
      "600:\tlearn: 0.1810868\ttotal: 1.44s\tremaining: 953ms\n",
      "601:\tlearn: 0.1809103\ttotal: 1.44s\tremaining: 950ms\n",
      "602:\tlearn: 0.1807123\ttotal: 1.44s\tremaining: 947ms\n",
      "603:\tlearn: 0.1805396\ttotal: 1.44s\tremaining: 945ms\n",
      "604:\tlearn: 0.1802045\ttotal: 1.44s\tremaining: 942ms\n",
      "605:\tlearn: 0.1800900\ttotal: 1.44s\tremaining: 939ms\n",
      "606:\tlearn: 0.1798862\ttotal: 1.45s\tremaining: 937ms\n",
      "607:\tlearn: 0.1796846\ttotal: 1.45s\tremaining: 934ms\n",
      "608:\tlearn: 0.1795444\ttotal: 1.45s\tremaining: 931ms\n",
      "609:\tlearn: 0.1794763\ttotal: 1.45s\tremaining: 928ms\n",
      "610:\tlearn: 0.1792488\ttotal: 1.45s\tremaining: 926ms\n",
      "611:\tlearn: 0.1789837\ttotal: 1.46s\tremaining: 923ms\n",
      "612:\tlearn: 0.1787865\ttotal: 1.46s\tremaining: 920ms\n",
      "613:\tlearn: 0.1785221\ttotal: 1.46s\tremaining: 918ms\n",
      "614:\tlearn: 0.1784141\ttotal: 1.47s\tremaining: 917ms\n",
      "615:\tlearn: 0.1782578\ttotal: 1.47s\tremaining: 915ms\n",
      "616:\tlearn: 0.1780698\ttotal: 1.47s\tremaining: 912ms\n",
      "617:\tlearn: 0.1777648\ttotal: 1.47s\tremaining: 909ms\n",
      "618:\tlearn: 0.1776058\ttotal: 1.47s\tremaining: 907ms\n",
      "619:\tlearn: 0.1775633\ttotal: 1.48s\tremaining: 904ms\n",
      "620:\tlearn: 0.1773951\ttotal: 1.48s\tremaining: 901ms\n",
      "621:\tlearn: 0.1773043\ttotal: 1.48s\tremaining: 899ms\n",
      "622:\tlearn: 0.1772358\ttotal: 1.48s\tremaining: 896ms\n",
      "623:\tlearn: 0.1770895\ttotal: 1.48s\tremaining: 894ms\n",
      "624:\tlearn: 0.1769169\ttotal: 1.49s\tremaining: 892ms\n",
      "625:\tlearn: 0.1768798\ttotal: 1.49s\tremaining: 889ms\n",
      "626:\tlearn: 0.1765359\ttotal: 1.49s\tremaining: 886ms\n",
      "627:\tlearn: 0.1764080\ttotal: 1.49s\tremaining: 884ms\n",
      "628:\tlearn: 0.1762364\ttotal: 1.49s\tremaining: 881ms\n",
      "629:\tlearn: 0.1759555\ttotal: 1.5s\tremaining: 879ms\n",
      "630:\tlearn: 0.1758054\ttotal: 1.5s\tremaining: 876ms\n",
      "631:\tlearn: 0.1756767\ttotal: 1.5s\tremaining: 873ms\n",
      "632:\tlearn: 0.1755309\ttotal: 1.5s\tremaining: 871ms\n",
      "633:\tlearn: 0.1753390\ttotal: 1.5s\tremaining: 868ms\n",
      "634:\tlearn: 0.1751090\ttotal: 1.51s\tremaining: 866ms\n",
      "635:\tlearn: 0.1747724\ttotal: 1.51s\tremaining: 863ms\n",
      "636:\tlearn: 0.1746503\ttotal: 1.51s\tremaining: 861ms\n",
      "637:\tlearn: 0.1744179\ttotal: 1.51s\tremaining: 858ms\n",
      "638:\tlearn: 0.1741170\ttotal: 1.51s\tremaining: 855ms\n",
      "639:\tlearn: 0.1740486\ttotal: 1.52s\tremaining: 853ms\n",
      "640:\tlearn: 0.1738919\ttotal: 1.52s\tremaining: 850ms\n",
      "641:\tlearn: 0.1736779\ttotal: 1.52s\tremaining: 848ms\n",
      "642:\tlearn: 0.1734653\ttotal: 1.52s\tremaining: 845ms\n",
      "643:\tlearn: 0.1732336\ttotal: 1.52s\tremaining: 842ms\n",
      "644:\tlearn: 0.1731707\ttotal: 1.52s\tremaining: 840ms\n",
      "645:\tlearn: 0.1730309\ttotal: 1.53s\tremaining: 837ms\n",
      "646:\tlearn: 0.1728330\ttotal: 1.53s\tremaining: 834ms\n",
      "647:\tlearn: 0.1724823\ttotal: 1.53s\tremaining: 832ms\n",
      "648:\tlearn: 0.1722289\ttotal: 1.53s\tremaining: 829ms\n",
      "649:\tlearn: 0.1719093\ttotal: 1.53s\tremaining: 827ms\n",
      "650:\tlearn: 0.1717248\ttotal: 1.54s\tremaining: 824ms\n",
      "651:\tlearn: 0.1715581\ttotal: 1.54s\tremaining: 821ms\n",
      "652:\tlearn: 0.1713244\ttotal: 1.54s\tremaining: 819ms\n",
      "653:\tlearn: 0.1711214\ttotal: 1.54s\tremaining: 816ms\n",
      "654:\tlearn: 0.1709012\ttotal: 1.54s\tremaining: 814ms\n",
      "655:\tlearn: 0.1707134\ttotal: 1.55s\tremaining: 811ms\n",
      "656:\tlearn: 0.1705135\ttotal: 1.55s\tremaining: 808ms\n",
      "657:\tlearn: 0.1704521\ttotal: 1.55s\tremaining: 806ms\n",
      "658:\tlearn: 0.1702762\ttotal: 1.55s\tremaining: 804ms\n",
      "659:\tlearn: 0.1700411\ttotal: 1.56s\tremaining: 805ms\n",
      "660:\tlearn: 0.1698387\ttotal: 1.56s\tremaining: 802ms\n",
      "661:\tlearn: 0.1694494\ttotal: 1.57s\tremaining: 800ms\n",
      "662:\tlearn: 0.1693238\ttotal: 1.57s\tremaining: 797ms\n",
      "663:\tlearn: 0.1692056\ttotal: 1.57s\tremaining: 795ms\n",
      "664:\tlearn: 0.1690647\ttotal: 1.57s\tremaining: 792ms\n",
      "665:\tlearn: 0.1687656\ttotal: 1.57s\tremaining: 790ms\n",
      "666:\tlearn: 0.1686549\ttotal: 1.58s\tremaining: 787ms\n",
      "667:\tlearn: 0.1685571\ttotal: 1.58s\tremaining: 784ms\n",
      "668:\tlearn: 0.1685081\ttotal: 1.58s\tremaining: 782ms\n",
      "669:\tlearn: 0.1683046\ttotal: 1.58s\tremaining: 779ms\n",
      "670:\tlearn: 0.1681812\ttotal: 1.58s\tremaining: 777ms\n",
      "671:\tlearn: 0.1680691\ttotal: 1.58s\tremaining: 774ms\n",
      "672:\tlearn: 0.1679841\ttotal: 1.59s\tremaining: 771ms\n",
      "673:\tlearn: 0.1677513\ttotal: 1.59s\tremaining: 769ms\n",
      "674:\tlearn: 0.1676059\ttotal: 1.59s\tremaining: 766ms\n",
      "675:\tlearn: 0.1673081\ttotal: 1.59s\tremaining: 764ms\n",
      "676:\tlearn: 0.1672958\ttotal: 1.59s\tremaining: 761ms\n",
      "677:\tlearn: 0.1670361\ttotal: 1.6s\tremaining: 759ms\n",
      "678:\tlearn: 0.1668433\ttotal: 1.6s\tremaining: 756ms\n",
      "679:\tlearn: 0.1667189\ttotal: 1.6s\tremaining: 754ms\n",
      "680:\tlearn: 0.1664895\ttotal: 1.6s\tremaining: 751ms\n",
      "681:\tlearn: 0.1663085\ttotal: 1.6s\tremaining: 749ms\n",
      "682:\tlearn: 0.1661405\ttotal: 1.61s\tremaining: 746ms\n",
      "683:\tlearn: 0.1659332\ttotal: 1.61s\tremaining: 744ms\n",
      "684:\tlearn: 0.1657854\ttotal: 1.61s\tremaining: 741ms\n",
      "685:\tlearn: 0.1656847\ttotal: 1.61s\tremaining: 739ms\n",
      "686:\tlearn: 0.1655955\ttotal: 1.62s\tremaining: 737ms\n",
      "687:\tlearn: 0.1653593\ttotal: 1.62s\tremaining: 734ms\n",
      "688:\tlearn: 0.1651542\ttotal: 1.62s\tremaining: 732ms\n",
      "689:\tlearn: 0.1649732\ttotal: 1.62s\tremaining: 729ms\n",
      "690:\tlearn: 0.1647180\ttotal: 1.63s\tremaining: 727ms\n",
      "691:\tlearn: 0.1645358\ttotal: 1.63s\tremaining: 724ms\n",
      "692:\tlearn: 0.1643589\ttotal: 1.63s\tremaining: 722ms\n",
      "693:\tlearn: 0.1641731\ttotal: 1.63s\tremaining: 719ms\n",
      "694:\tlearn: 0.1638608\ttotal: 1.63s\tremaining: 717ms\n",
      "695:\tlearn: 0.1637254\ttotal: 1.64s\tremaining: 714ms\n",
      "696:\tlearn: 0.1635619\ttotal: 1.64s\tremaining: 712ms\n",
      "697:\tlearn: 0.1634046\ttotal: 1.64s\tremaining: 709ms\n",
      "698:\tlearn: 0.1632494\ttotal: 1.64s\tremaining: 707ms\n",
      "699:\tlearn: 0.1631524\ttotal: 1.64s\tremaining: 704ms\n",
      "700:\tlearn: 0.1629485\ttotal: 1.65s\tremaining: 702ms\n",
      "701:\tlearn: 0.1626441\ttotal: 1.65s\tremaining: 699ms\n",
      "702:\tlearn: 0.1625066\ttotal: 1.65s\tremaining: 697ms\n",
      "703:\tlearn: 0.1620901\ttotal: 1.65s\tremaining: 694ms\n",
      "704:\tlearn: 0.1619834\ttotal: 1.65s\tremaining: 692ms\n",
      "705:\tlearn: 0.1618380\ttotal: 1.66s\tremaining: 691ms\n",
      "706:\tlearn: 0.1617241\ttotal: 1.66s\tremaining: 688ms\n",
      "707:\tlearn: 0.1616193\ttotal: 1.66s\tremaining: 686ms\n",
      "708:\tlearn: 0.1615840\ttotal: 1.66s\tremaining: 683ms\n",
      "709:\tlearn: 0.1615038\ttotal: 1.67s\tremaining: 681ms\n",
      "710:\tlearn: 0.1611332\ttotal: 1.67s\tremaining: 678ms\n",
      "711:\tlearn: 0.1610756\ttotal: 1.67s\tremaining: 676ms\n",
      "712:\tlearn: 0.1609960\ttotal: 1.67s\tremaining: 673ms\n",
      "713:\tlearn: 0.1609506\ttotal: 1.67s\tremaining: 671ms\n",
      "714:\tlearn: 0.1606718\ttotal: 1.68s\tremaining: 669ms\n",
      "715:\tlearn: 0.1603854\ttotal: 1.68s\tremaining: 666ms\n",
      "716:\tlearn: 0.1602886\ttotal: 1.68s\tremaining: 664ms\n",
      "717:\tlearn: 0.1601622\ttotal: 1.68s\tremaining: 661ms\n",
      "718:\tlearn: 0.1600434\ttotal: 1.69s\tremaining: 659ms\n",
      "719:\tlearn: 0.1598564\ttotal: 1.69s\tremaining: 656ms\n",
      "720:\tlearn: 0.1597214\ttotal: 1.69s\tremaining: 654ms\n",
      "721:\tlearn: 0.1595515\ttotal: 1.69s\tremaining: 651ms\n",
      "722:\tlearn: 0.1593996\ttotal: 1.69s\tremaining: 649ms\n",
      "723:\tlearn: 0.1593282\ttotal: 1.7s\tremaining: 646ms\n",
      "724:\tlearn: 0.1591554\ttotal: 1.7s\tremaining: 644ms\n",
      "725:\tlearn: 0.1590480\ttotal: 1.7s\tremaining: 641ms\n",
      "726:\tlearn: 0.1588350\ttotal: 1.7s\tremaining: 639ms\n",
      "727:\tlearn: 0.1587600\ttotal: 1.7s\tremaining: 637ms\n",
      "728:\tlearn: 0.1585769\ttotal: 1.71s\tremaining: 634ms\n",
      "729:\tlearn: 0.1584680\ttotal: 1.71s\tremaining: 632ms\n",
      "730:\tlearn: 0.1582948\ttotal: 1.71s\tremaining: 629ms\n",
      "731:\tlearn: 0.1580799\ttotal: 1.71s\tremaining: 627ms\n",
      "732:\tlearn: 0.1578649\ttotal: 1.71s\tremaining: 624ms\n",
      "733:\tlearn: 0.1577244\ttotal: 1.72s\tremaining: 622ms\n",
      "734:\tlearn: 0.1574842\ttotal: 1.72s\tremaining: 620ms\n",
      "735:\tlearn: 0.1573947\ttotal: 1.72s\tremaining: 617ms\n",
      "736:\tlearn: 0.1572061\ttotal: 1.72s\tremaining: 615ms\n",
      "737:\tlearn: 0.1571620\ttotal: 1.72s\tremaining: 612ms\n",
      "738:\tlearn: 0.1569498\ttotal: 1.73s\tremaining: 610ms\n",
      "739:\tlearn: 0.1568436\ttotal: 1.73s\tremaining: 607ms\n",
      "740:\tlearn: 0.1568031\ttotal: 1.73s\tremaining: 605ms\n",
      "741:\tlearn: 0.1565737\ttotal: 1.73s\tremaining: 602ms\n",
      "742:\tlearn: 0.1565106\ttotal: 1.73s\tremaining: 600ms\n",
      "743:\tlearn: 0.1563257\ttotal: 1.74s\tremaining: 598ms\n",
      "744:\tlearn: 0.1562016\ttotal: 1.74s\tremaining: 595ms\n",
      "745:\tlearn: 0.1560345\ttotal: 1.74s\tremaining: 593ms\n",
      "746:\tlearn: 0.1559005\ttotal: 1.74s\tremaining: 591ms\n",
      "747:\tlearn: 0.1556591\ttotal: 1.75s\tremaining: 591ms\n",
      "748:\tlearn: 0.1556007\ttotal: 1.76s\tremaining: 589ms\n",
      "749:\tlearn: 0.1552986\ttotal: 1.76s\tremaining: 586ms\n",
      "750:\tlearn: 0.1551496\ttotal: 1.76s\tremaining: 584ms\n",
      "751:\tlearn: 0.1549037\ttotal: 1.76s\tremaining: 582ms\n",
      "752:\tlearn: 0.1548738\ttotal: 1.77s\tremaining: 579ms\n",
      "753:\tlearn: 0.1548535\ttotal: 1.77s\tremaining: 577ms\n",
      "754:\tlearn: 0.1547931\ttotal: 1.77s\tremaining: 575ms\n",
      "755:\tlearn: 0.1546302\ttotal: 1.77s\tremaining: 573ms\n",
      "756:\tlearn: 0.1545376\ttotal: 1.78s\tremaining: 571ms\n",
      "757:\tlearn: 0.1543798\ttotal: 1.78s\tremaining: 568ms\n",
      "758:\tlearn: 0.1543397\ttotal: 1.78s\tremaining: 566ms\n",
      "759:\tlearn: 0.1541148\ttotal: 1.78s\tremaining: 564ms\n",
      "760:\tlearn: 0.1539907\ttotal: 1.79s\tremaining: 561ms\n",
      "761:\tlearn: 0.1538333\ttotal: 1.79s\tremaining: 559ms\n",
      "762:\tlearn: 0.1537760\ttotal: 1.79s\tremaining: 557ms\n",
      "763:\tlearn: 0.1537266\ttotal: 1.79s\tremaining: 554ms\n",
      "764:\tlearn: 0.1534763\ttotal: 1.8s\tremaining: 552ms\n",
      "765:\tlearn: 0.1534197\ttotal: 1.8s\tremaining: 549ms\n",
      "766:\tlearn: 0.1533130\ttotal: 1.8s\tremaining: 547ms\n",
      "767:\tlearn: 0.1532397\ttotal: 1.8s\tremaining: 545ms\n",
      "768:\tlearn: 0.1531740\ttotal: 1.81s\tremaining: 543ms\n",
      "769:\tlearn: 0.1531098\ttotal: 1.81s\tremaining: 540ms\n",
      "770:\tlearn: 0.1530670\ttotal: 1.81s\tremaining: 538ms\n",
      "771:\tlearn: 0.1530562\ttotal: 1.81s\tremaining: 535ms\n",
      "772:\tlearn: 0.1529331\ttotal: 1.81s\tremaining: 533ms\n",
      "773:\tlearn: 0.1527737\ttotal: 1.82s\tremaining: 531ms\n",
      "774:\tlearn: 0.1526892\ttotal: 1.82s\tremaining: 529ms\n",
      "775:\tlearn: 0.1526230\ttotal: 1.82s\tremaining: 526ms\n",
      "776:\tlearn: 0.1525096\ttotal: 1.82s\tremaining: 524ms\n",
      "777:\tlearn: 0.1524407\ttotal: 1.83s\tremaining: 521ms\n",
      "778:\tlearn: 0.1523317\ttotal: 1.83s\tremaining: 519ms\n",
      "779:\tlearn: 0.1523042\ttotal: 1.83s\tremaining: 517ms\n",
      "780:\tlearn: 0.1522030\ttotal: 1.83s\tremaining: 514ms\n",
      "781:\tlearn: 0.1520476\ttotal: 1.83s\tremaining: 512ms\n",
      "782:\tlearn: 0.1519130\ttotal: 1.84s\tremaining: 509ms\n",
      "783:\tlearn: 0.1518216\ttotal: 1.84s\tremaining: 507ms\n",
      "784:\tlearn: 0.1517122\ttotal: 1.85s\tremaining: 507ms\n",
      "785:\tlearn: 0.1515400\ttotal: 1.85s\tremaining: 504ms\n",
      "786:\tlearn: 0.1513415\ttotal: 1.85s\tremaining: 502ms\n",
      "787:\tlearn: 0.1511697\ttotal: 1.85s\tremaining: 499ms\n",
      "788:\tlearn: 0.1511357\ttotal: 1.86s\tremaining: 497ms\n",
      "789:\tlearn: 0.1510057\ttotal: 1.86s\tremaining: 494ms\n",
      "790:\tlearn: 0.1507599\ttotal: 1.86s\tremaining: 492ms\n",
      "791:\tlearn: 0.1506000\ttotal: 1.86s\tremaining: 489ms\n",
      "792:\tlearn: 0.1503888\ttotal: 1.86s\tremaining: 487ms\n",
      "793:\tlearn: 0.1502352\ttotal: 1.87s\tremaining: 485ms\n",
      "794:\tlearn: 0.1500868\ttotal: 1.87s\tremaining: 482ms\n",
      "795:\tlearn: 0.1499995\ttotal: 1.87s\tremaining: 480ms\n",
      "796:\tlearn: 0.1498682\ttotal: 1.87s\tremaining: 477ms\n",
      "797:\tlearn: 0.1497722\ttotal: 1.88s\tremaining: 475ms\n",
      "798:\tlearn: 0.1496201\ttotal: 1.88s\tremaining: 473ms\n",
      "799:\tlearn: 0.1494398\ttotal: 1.88s\tremaining: 470ms\n",
      "800:\tlearn: 0.1493334\ttotal: 1.88s\tremaining: 468ms\n",
      "801:\tlearn: 0.1491498\ttotal: 1.88s\tremaining: 465ms\n",
      "802:\tlearn: 0.1489404\ttotal: 1.89s\tremaining: 463ms\n",
      "803:\tlearn: 0.1488919\ttotal: 1.89s\tremaining: 460ms\n",
      "804:\tlearn: 0.1487473\ttotal: 1.89s\tremaining: 458ms\n",
      "805:\tlearn: 0.1486355\ttotal: 1.89s\tremaining: 456ms\n",
      "806:\tlearn: 0.1485549\ttotal: 1.89s\tremaining: 453ms\n",
      "807:\tlearn: 0.1483386\ttotal: 1.9s\tremaining: 451ms\n",
      "808:\tlearn: 0.1482030\ttotal: 1.9s\tremaining: 448ms\n",
      "809:\tlearn: 0.1481794\ttotal: 1.9s\tremaining: 446ms\n",
      "810:\tlearn: 0.1481092\ttotal: 1.9s\tremaining: 443ms\n",
      "811:\tlearn: 0.1479338\ttotal: 1.9s\tremaining: 441ms\n",
      "812:\tlearn: 0.1477630\ttotal: 1.91s\tremaining: 438ms\n",
      "813:\tlearn: 0.1475408\ttotal: 1.91s\tremaining: 436ms\n",
      "814:\tlearn: 0.1474774\ttotal: 1.91s\tremaining: 434ms\n",
      "815:\tlearn: 0.1473012\ttotal: 1.91s\tremaining: 431ms\n",
      "816:\tlearn: 0.1471517\ttotal: 1.91s\tremaining: 429ms\n",
      "817:\tlearn: 0.1471102\ttotal: 1.92s\tremaining: 426ms\n",
      "818:\tlearn: 0.1469591\ttotal: 1.92s\tremaining: 424ms\n",
      "819:\tlearn: 0.1468269\ttotal: 1.92s\tremaining: 422ms\n",
      "820:\tlearn: 0.1466901\ttotal: 1.92s\tremaining: 419ms\n",
      "821:\tlearn: 0.1464033\ttotal: 1.92s\tremaining: 417ms\n",
      "822:\tlearn: 0.1463223\ttotal: 1.93s\tremaining: 414ms\n",
      "823:\tlearn: 0.1462536\ttotal: 1.93s\tremaining: 412ms\n",
      "824:\tlearn: 0.1462037\ttotal: 1.93s\tremaining: 409ms\n",
      "825:\tlearn: 0.1461156\ttotal: 1.93s\tremaining: 407ms\n",
      "826:\tlearn: 0.1459890\ttotal: 1.93s\tremaining: 405ms\n",
      "827:\tlearn: 0.1457194\ttotal: 1.94s\tremaining: 404ms\n",
      "828:\tlearn: 0.1455912\ttotal: 1.95s\tremaining: 402ms\n",
      "829:\tlearn: 0.1454491\ttotal: 1.95s\tremaining: 399ms\n",
      "830:\tlearn: 0.1453954\ttotal: 1.95s\tremaining: 397ms\n",
      "831:\tlearn: 0.1453450\ttotal: 1.95s\tremaining: 394ms\n",
      "832:\tlearn: 0.1453300\ttotal: 1.96s\tremaining: 392ms\n",
      "833:\tlearn: 0.1452809\ttotal: 1.96s\tremaining: 390ms\n",
      "834:\tlearn: 0.1451090\ttotal: 1.96s\tremaining: 387ms\n",
      "835:\tlearn: 0.1450134\ttotal: 1.96s\tremaining: 385ms\n",
      "836:\tlearn: 0.1448239\ttotal: 1.96s\tremaining: 382ms\n",
      "837:\tlearn: 0.1446618\ttotal: 1.97s\tremaining: 380ms\n",
      "838:\tlearn: 0.1442913\ttotal: 1.97s\tremaining: 377ms\n",
      "839:\tlearn: 0.1441887\ttotal: 1.97s\tremaining: 375ms\n",
      "840:\tlearn: 0.1440340\ttotal: 1.97s\tremaining: 373ms\n",
      "841:\tlearn: 0.1439600\ttotal: 1.97s\tremaining: 370ms\n",
      "842:\tlearn: 0.1439041\ttotal: 1.98s\tremaining: 368ms\n",
      "843:\tlearn: 0.1437203\ttotal: 1.98s\tremaining: 366ms\n",
      "844:\tlearn: 0.1435514\ttotal: 1.98s\tremaining: 363ms\n",
      "845:\tlearn: 0.1434190\ttotal: 1.98s\tremaining: 361ms\n",
      "846:\tlearn: 0.1432642\ttotal: 1.98s\tremaining: 358ms\n",
      "847:\tlearn: 0.1431978\ttotal: 1.99s\tremaining: 356ms\n",
      "848:\tlearn: 0.1430864\ttotal: 1.99s\tremaining: 354ms\n",
      "849:\tlearn: 0.1430408\ttotal: 1.99s\tremaining: 351ms\n",
      "850:\tlearn: 0.1428953\ttotal: 1.99s\tremaining: 349ms\n",
      "851:\tlearn: 0.1428113\ttotal: 1.99s\tremaining: 346ms\n",
      "852:\tlearn: 0.1427453\ttotal: 2s\tremaining: 344ms\n",
      "853:\tlearn: 0.1425970\ttotal: 2s\tremaining: 342ms\n",
      "854:\tlearn: 0.1424735\ttotal: 2s\tremaining: 339ms\n",
      "855:\tlearn: 0.1423921\ttotal: 2s\tremaining: 337ms\n",
      "856:\tlearn: 0.1420158\ttotal: 2s\tremaining: 334ms\n",
      "857:\tlearn: 0.1418540\ttotal: 2.01s\tremaining: 332ms\n",
      "858:\tlearn: 0.1417554\ttotal: 2.01s\tremaining: 330ms\n",
      "859:\tlearn: 0.1416851\ttotal: 2.01s\tremaining: 327ms\n",
      "860:\tlearn: 0.1414977\ttotal: 2.01s\tremaining: 325ms\n",
      "861:\tlearn: 0.1413954\ttotal: 2.01s\tremaining: 322ms\n",
      "862:\tlearn: 0.1412129\ttotal: 2.02s\tremaining: 320ms\n",
      "863:\tlearn: 0.1411373\ttotal: 2.02s\tremaining: 318ms\n",
      "864:\tlearn: 0.1410175\ttotal: 2.02s\tremaining: 315ms\n",
      "865:\tlearn: 0.1409945\ttotal: 2.02s\tremaining: 313ms\n",
      "866:\tlearn: 0.1409453\ttotal: 2.02s\tremaining: 311ms\n",
      "867:\tlearn: 0.1407795\ttotal: 2.03s\tremaining: 308ms\n",
      "868:\tlearn: 0.1406497\ttotal: 2.03s\tremaining: 306ms\n",
      "869:\tlearn: 0.1404648\ttotal: 2.03s\tremaining: 303ms\n",
      "870:\tlearn: 0.1404325\ttotal: 2.04s\tremaining: 302ms\n",
      "871:\tlearn: 0.1403300\ttotal: 2.04s\tremaining: 300ms\n",
      "872:\tlearn: 0.1402275\ttotal: 2.05s\tremaining: 298ms\n",
      "873:\tlearn: 0.1401522\ttotal: 2.05s\tremaining: 295ms\n",
      "874:\tlearn: 0.1401217\ttotal: 2.05s\tremaining: 293ms\n",
      "875:\tlearn: 0.1400353\ttotal: 2.05s\tremaining: 290ms\n",
      "876:\tlearn: 0.1398332\ttotal: 2.05s\tremaining: 288ms\n",
      "877:\tlearn: 0.1396749\ttotal: 2.06s\tremaining: 286ms\n",
      "878:\tlearn: 0.1395900\ttotal: 2.06s\tremaining: 283ms\n",
      "879:\tlearn: 0.1393975\ttotal: 2.06s\tremaining: 281ms\n",
      "880:\tlearn: 0.1392725\ttotal: 2.06s\tremaining: 278ms\n",
      "881:\tlearn: 0.1391285\ttotal: 2.06s\tremaining: 276ms\n",
      "882:\tlearn: 0.1389477\ttotal: 2.07s\tremaining: 274ms\n",
      "883:\tlearn: 0.1387252\ttotal: 2.07s\tremaining: 271ms\n",
      "884:\tlearn: 0.1385819\ttotal: 2.07s\tremaining: 269ms\n",
      "885:\tlearn: 0.1383901\ttotal: 2.07s\tremaining: 267ms\n",
      "886:\tlearn: 0.1383145\ttotal: 2.07s\tremaining: 264ms\n",
      "887:\tlearn: 0.1381829\ttotal: 2.08s\tremaining: 262ms\n",
      "888:\tlearn: 0.1380118\ttotal: 2.08s\tremaining: 259ms\n",
      "889:\tlearn: 0.1378959\ttotal: 2.08s\tremaining: 257ms\n",
      "890:\tlearn: 0.1377534\ttotal: 2.08s\tremaining: 255ms\n",
      "891:\tlearn: 0.1376985\ttotal: 2.08s\tremaining: 252ms\n",
      "892:\tlearn: 0.1375182\ttotal: 2.09s\tremaining: 250ms\n",
      "893:\tlearn: 0.1374530\ttotal: 2.09s\tremaining: 248ms\n",
      "894:\tlearn: 0.1373351\ttotal: 2.09s\tremaining: 245ms\n",
      "895:\tlearn: 0.1372858\ttotal: 2.09s\tremaining: 243ms\n",
      "896:\tlearn: 0.1371328\ttotal: 2.09s\tremaining: 240ms\n",
      "897:\tlearn: 0.1370250\ttotal: 2.1s\tremaining: 238ms\n",
      "898:\tlearn: 0.1368987\ttotal: 2.1s\tremaining: 236ms\n",
      "899:\tlearn: 0.1367894\ttotal: 2.1s\tremaining: 233ms\n",
      "900:\tlearn: 0.1366776\ttotal: 2.1s\tremaining: 231ms\n",
      "901:\tlearn: 0.1366574\ttotal: 2.1s\tremaining: 229ms\n",
      "902:\tlearn: 0.1366363\ttotal: 2.11s\tremaining: 226ms\n",
      "903:\tlearn: 0.1365428\ttotal: 2.11s\tremaining: 224ms\n",
      "904:\tlearn: 0.1365325\ttotal: 2.11s\tremaining: 222ms\n",
      "905:\tlearn: 0.1364381\ttotal: 2.11s\tremaining: 219ms\n",
      "906:\tlearn: 0.1362630\ttotal: 2.12s\tremaining: 217ms\n",
      "907:\tlearn: 0.1361046\ttotal: 2.12s\tremaining: 215ms\n",
      "908:\tlearn: 0.1359403\ttotal: 2.12s\tremaining: 212ms\n",
      "909:\tlearn: 0.1357210\ttotal: 2.12s\tremaining: 210ms\n",
      "910:\tlearn: 0.1356359\ttotal: 2.13s\tremaining: 208ms\n",
      "911:\tlearn: 0.1355228\ttotal: 2.13s\tremaining: 205ms\n",
      "912:\tlearn: 0.1354431\ttotal: 2.13s\tremaining: 203ms\n",
      "913:\tlearn: 0.1353353\ttotal: 2.14s\tremaining: 201ms\n",
      "914:\tlearn: 0.1352076\ttotal: 2.14s\tremaining: 199ms\n",
      "915:\tlearn: 0.1350632\ttotal: 2.14s\tremaining: 197ms\n",
      "916:\tlearn: 0.1349782\ttotal: 2.15s\tremaining: 194ms\n",
      "917:\tlearn: 0.1348103\ttotal: 2.15s\tremaining: 192ms\n",
      "918:\tlearn: 0.1346599\ttotal: 2.15s\tremaining: 189ms\n",
      "919:\tlearn: 0.1345684\ttotal: 2.15s\tremaining: 187ms\n",
      "920:\tlearn: 0.1344781\ttotal: 2.15s\tremaining: 185ms\n",
      "921:\tlearn: 0.1343609\ttotal: 2.15s\tremaining: 182ms\n",
      "922:\tlearn: 0.1342503\ttotal: 2.16s\tremaining: 180ms\n",
      "923:\tlearn: 0.1341260\ttotal: 2.16s\tremaining: 178ms\n",
      "924:\tlearn: 0.1339987\ttotal: 2.16s\tremaining: 175ms\n",
      "925:\tlearn: 0.1337881\ttotal: 2.17s\tremaining: 173ms\n",
      "926:\tlearn: 0.1337193\ttotal: 2.17s\tremaining: 171ms\n",
      "927:\tlearn: 0.1336748\ttotal: 2.17s\tremaining: 169ms\n",
      "928:\tlearn: 0.1335516\ttotal: 2.17s\tremaining: 166ms\n",
      "929:\tlearn: 0.1335077\ttotal: 2.18s\tremaining: 164ms\n",
      "930:\tlearn: 0.1334274\ttotal: 2.18s\tremaining: 162ms\n",
      "931:\tlearn: 0.1333261\ttotal: 2.18s\tremaining: 159ms\n",
      "932:\tlearn: 0.1331548\ttotal: 2.19s\tremaining: 157ms\n",
      "933:\tlearn: 0.1330519\ttotal: 2.19s\tremaining: 155ms\n",
      "934:\tlearn: 0.1329452\ttotal: 2.19s\tremaining: 152ms\n",
      "935:\tlearn: 0.1328243\ttotal: 2.19s\tremaining: 150ms\n",
      "936:\tlearn: 0.1327359\ttotal: 2.2s\tremaining: 148ms\n",
      "937:\tlearn: 0.1326705\ttotal: 2.2s\tremaining: 145ms\n",
      "938:\tlearn: 0.1324930\ttotal: 2.2s\tremaining: 143ms\n",
      "939:\tlearn: 0.1323775\ttotal: 2.2s\tremaining: 141ms\n",
      "940:\tlearn: 0.1322562\ttotal: 2.21s\tremaining: 138ms\n",
      "941:\tlearn: 0.1320640\ttotal: 2.21s\tremaining: 136ms\n",
      "942:\tlearn: 0.1319268\ttotal: 2.21s\tremaining: 134ms\n",
      "943:\tlearn: 0.1318131\ttotal: 2.21s\tremaining: 131ms\n",
      "944:\tlearn: 0.1317456\ttotal: 2.22s\tremaining: 129ms\n",
      "945:\tlearn: 0.1316551\ttotal: 2.22s\tremaining: 127ms\n",
      "946:\tlearn: 0.1315729\ttotal: 2.22s\tremaining: 124ms\n",
      "947:\tlearn: 0.1314125\ttotal: 2.23s\tremaining: 123ms\n",
      "948:\tlearn: 0.1312875\ttotal: 2.24s\tremaining: 120ms\n",
      "949:\tlearn: 0.1312052\ttotal: 2.24s\tremaining: 118ms\n",
      "950:\tlearn: 0.1311327\ttotal: 2.24s\tremaining: 116ms\n",
      "951:\tlearn: 0.1310009\ttotal: 2.25s\tremaining: 113ms\n",
      "952:\tlearn: 0.1308264\ttotal: 2.25s\tremaining: 111ms\n",
      "953:\tlearn: 0.1307580\ttotal: 2.25s\tremaining: 109ms\n",
      "954:\tlearn: 0.1306937\ttotal: 2.25s\tremaining: 106ms\n",
      "955:\tlearn: 0.1306156\ttotal: 2.25s\tremaining: 104ms\n",
      "956:\tlearn: 0.1305753\ttotal: 2.26s\tremaining: 101ms\n",
      "957:\tlearn: 0.1304655\ttotal: 2.26s\tremaining: 99.2ms\n",
      "958:\tlearn: 0.1303444\ttotal: 2.26s\tremaining: 96.8ms\n",
      "959:\tlearn: 0.1302904\ttotal: 2.27s\tremaining: 94.5ms\n",
      "960:\tlearn: 0.1301582\ttotal: 2.27s\tremaining: 92.1ms\n",
      "961:\tlearn: 0.1300683\ttotal: 2.27s\tremaining: 89.8ms\n",
      "962:\tlearn: 0.1298923\ttotal: 2.27s\tremaining: 87.4ms\n",
      "963:\tlearn: 0.1297237\ttotal: 2.28s\tremaining: 85.1ms\n",
      "964:\tlearn: 0.1296765\ttotal: 2.28s\tremaining: 82.7ms\n",
      "965:\tlearn: 0.1296373\ttotal: 2.28s\tremaining: 80.3ms\n",
      "966:\tlearn: 0.1295612\ttotal: 2.28s\tremaining: 77.9ms\n",
      "967:\tlearn: 0.1295184\ttotal: 2.29s\tremaining: 75.6ms\n",
      "968:\tlearn: 0.1293971\ttotal: 2.29s\tremaining: 73.2ms\n",
      "969:\tlearn: 0.1293168\ttotal: 2.29s\tremaining: 70.9ms\n",
      "970:\tlearn: 0.1292218\ttotal: 2.29s\tremaining: 68.5ms\n",
      "971:\tlearn: 0.1291080\ttotal: 2.3s\tremaining: 66.2ms\n",
      "972:\tlearn: 0.1290704\ttotal: 2.3s\tremaining: 63.8ms\n",
      "973:\tlearn: 0.1290299\ttotal: 2.3s\tremaining: 61.5ms\n",
      "974:\tlearn: 0.1289822\ttotal: 2.31s\tremaining: 59.1ms\n",
      "975:\tlearn: 0.1288921\ttotal: 2.31s\tremaining: 56.8ms\n",
      "976:\tlearn: 0.1287255\ttotal: 2.31s\tremaining: 54.4ms\n",
      "977:\tlearn: 0.1286336\ttotal: 2.31s\tremaining: 52.1ms\n",
      "978:\tlearn: 0.1285434\ttotal: 2.32s\tremaining: 49.7ms\n",
      "979:\tlearn: 0.1284244\ttotal: 2.33s\tremaining: 47.5ms\n",
      "980:\tlearn: 0.1283220\ttotal: 2.33s\tremaining: 45.2ms\n",
      "981:\tlearn: 0.1281915\ttotal: 2.33s\tremaining: 42.8ms\n",
      "982:\tlearn: 0.1279609\ttotal: 2.34s\tremaining: 40.4ms\n",
      "983:\tlearn: 0.1279008\ttotal: 2.34s\tremaining: 38.1ms\n",
      "984:\tlearn: 0.1276786\ttotal: 2.34s\tremaining: 35.7ms\n",
      "985:\tlearn: 0.1276016\ttotal: 2.35s\tremaining: 33.3ms\n",
      "986:\tlearn: 0.1275426\ttotal: 2.35s\tremaining: 31ms\n",
      "987:\tlearn: 0.1274828\ttotal: 2.35s\tremaining: 28.6ms\n",
      "988:\tlearn: 0.1274266\ttotal: 2.36s\tremaining: 26.2ms\n",
      "989:\tlearn: 0.1273296\ttotal: 2.36s\tremaining: 23.8ms\n",
      "990:\tlearn: 0.1272108\ttotal: 2.36s\tremaining: 21.5ms\n",
      "991:\tlearn: 0.1270536\ttotal: 2.37s\tremaining: 19.1ms\n",
      "992:\tlearn: 0.1268794\ttotal: 2.37s\tremaining: 16.7ms\n",
      "993:\tlearn: 0.1267514\ttotal: 2.37s\tremaining: 14.3ms\n",
      "994:\tlearn: 0.1266843\ttotal: 2.37s\tremaining: 11.9ms\n",
      "995:\tlearn: 0.1266126\ttotal: 2.38s\tremaining: 9.55ms\n",
      "996:\tlearn: 0.1264076\ttotal: 2.38s\tremaining: 7.17ms\n",
      "997:\tlearn: 0.1263578\ttotal: 2.38s\tremaining: 4.78ms\n",
      "998:\tlearn: 0.1262565\ttotal: 2.39s\tremaining: 2.39ms\n",
      "999:\tlearn: 0.1262189\ttotal: 2.39s\tremaining: 0us\n",
      "          train  test\n",
      "Accuracy   0.98  0.77\n",
      "ROC AUC    1.00  0.80\n",
      "CPU times: user 2.44 s, sys: 99.1 ms, total: 2.54 s\n",
      "Wall time: 2.68 s\n"
     ]
    }
   ],
   "source": [
    "%%time\n",
    "cb_tuning_model = CatBoostClassifier(learning_rate=0.2, l2_leaf_reg=5, depth=5, loss_function='Logloss',\n",
    "                        random_seed=42)\n",
    "cb_tuning_model.fit(x_train_std, y_train)\n",
    "\n",
    "cb_tuning_result = evaluate_model(cb_tuning_model, x_train_std, y_train, x_test_std, y_test)"
   ]
  },
  {
   "cell_type": "markdown",
   "metadata": {},
   "source": [
    "# 7.8.2 Catboost Classifier + Upsample <a id='catboost_classifier'></a>"
   ]
  },
  {
   "cell_type": "code",
   "execution_count": 98,
   "metadata": {},
   "outputs": [
    {
     "name": "stdout",
     "output_type": "stream",
     "text": [
      "          train  test\n",
      "Accuracy   0.91  0.73\n",
      "ROC AUC    0.96  0.83\n",
      "CPU times: user 3.68 s, sys: 38.8 ms, total: 3.72 s\n",
      "Wall time: 3.83 s\n"
     ]
    }
   ],
   "source": [
    "%%time\n",
    "cb_tuning_upsample = CatBoostClassifier(random_state=12345, verbose=0)\n",
    "cb_tuning_upsample.fit(features_upsampled, target_upsampled)\n",
    "\n",
    "cb_tuning_upsample = evaluate_model(cb_tuning_upsample, features_upsampled, target_upsampled, x_test_std, y_test)"
   ]
  },
  {
   "cell_type": "markdown",
   "metadata": {},
   "source": [
    "# 7.8.3 Catboost Classifier + Downsample <a id='catboost_classifier'></a>"
   ]
  },
  {
   "cell_type": "code",
   "execution_count": 99,
   "metadata": {},
   "outputs": [
    {
     "name": "stdout",
     "output_type": "stream",
     "text": [
      "          train  test\n",
      "Accuracy   0.89  0.68\n",
      "ROC AUC    0.95  0.83\n",
      "CPU times: user 1.95 s, sys: 9.54 ms, total: 1.96 s\n",
      "Wall time: 2.07 s\n"
     ]
    }
   ],
   "source": [
    "%%time\n",
    "cb_tuning_downsample = CatBoostClassifier(random_state=12345, verbose=0)\n",
    "cb_tuning_downsample.fit(features_downsampled, target_downsampled)\n",
    "\n",
    "cb_tuning_downsample = evaluate_model(cb_tuning_downsample, features_downsampled, target_downsampled, x_test_std, y_test)"
   ]
  },
  {
   "cell_type": "markdown",
   "metadata": {},
   "source": [
    "# 8. Model Summary <a id='model_summary'></a>"
   ]
  },
  {
   "cell_type": "code",
   "execution_count": 123,
   "metadata": {},
   "outputs": [],
   "source": [
    "model = ['Dummy Classifier', 'LR', 'LR + Upsample', 'LR + Downsample', 'RF', 'RF + Tuning', 'RF + Upsample', 'RF + Downsample', 'XGB', 'XGB + Tuning', 'XGB + Upsample', 'XGB + Downsample', 'LGBM', 'LGBM + Tuning', 'LGBM + Upsample', 'LGBM + Downsample', 'Catboost', 'Catboost + Tuning','Catboost + Upsample', 'Catboost + Downsample' ]\n",
    "accuracy_train = ['26%', '80%', '77%', '78%', '100%', '87%', '90%', '90%', '93%', '94%', '95%', '98%', '88%', '85%', '85%', '87%', '88%', '98%', '91%', '89%']                                                                                                                                                                                                  \n",
    "accuracy_test = ['27%',  '79%', '69%', '67%', '78%', '79%', '73%', '66%', '77%', '77%', '74%', '67%', '79%', '79%', '72%', '68%', '79%', '77%', '73%', '68%']\n",
    "auc_roc_train = ['50%', '84%', '84%', '83%', '100%', '94%', '95%', '96%', '98%', '98%', '99%', '100%', '95%', '91%', '91%', '93%', '94%', '100%', '96%', '95%']\n",
    "auc_roc_test = ['50%', '83%', '83%', '83%', '82%', '84%', '84%', '83%', '81%', '82%', '82%', '81%', '83%', '83%', '83%', '82%', '83%', '80%', '83%', '83%']\n",
    "total_time = ['50.5 ms', '207 ms', '347 ms','192 ms', '1.01 ms', '496 ms', '652 ms', '264 ms', '3.53 s', '17.6 s', '19.4 s', '9.11', '1.59 s', '1.11', '2.69 s', '823 ms', '3.04 s', '2.68 s', '3.83 s', '2.07 s']"
   ]
  },
  {
   "cell_type": "code",
   "execution_count": 124,
   "metadata": {},
   "outputs": [
    {
     "data": {
      "text/html": [
       "<div>\n",
       "<style scoped>\n",
       "    .dataframe tbody tr th:only-of-type {\n",
       "        vertical-align: middle;\n",
       "    }\n",
       "\n",
       "    .dataframe tbody tr th {\n",
       "        vertical-align: top;\n",
       "    }\n",
       "\n",
       "    .dataframe thead th {\n",
       "        text-align: right;\n",
       "    }\n",
       "</style>\n",
       "<table border=\"1\" class=\"dataframe\">\n",
       "  <thead>\n",
       "    <tr style=\"text-align: right;\">\n",
       "      <th></th>\n",
       "      <th>model</th>\n",
       "      <th>accuracy_train</th>\n",
       "      <th>accuracy_test</th>\n",
       "      <th>auc_roc_train</th>\n",
       "      <th>auc_roc_test</th>\n",
       "      <th>total_time</th>\n",
       "    </tr>\n",
       "  </thead>\n",
       "  <tbody>\n",
       "    <tr>\n",
       "      <th>0</th>\n",
       "      <td>Dummy Classifier</td>\n",
       "      <td>26%</td>\n",
       "      <td>27%</td>\n",
       "      <td>50%</td>\n",
       "      <td>50%</td>\n",
       "      <td>50.5 ms</td>\n",
       "    </tr>\n",
       "    <tr>\n",
       "      <th>1</th>\n",
       "      <td>LR</td>\n",
       "      <td>80%</td>\n",
       "      <td>79%</td>\n",
       "      <td>84%</td>\n",
       "      <td>83%</td>\n",
       "      <td>207 ms</td>\n",
       "    </tr>\n",
       "    <tr>\n",
       "      <th>2</th>\n",
       "      <td>LR + Upsample</td>\n",
       "      <td>77%</td>\n",
       "      <td>69%</td>\n",
       "      <td>84%</td>\n",
       "      <td>83%</td>\n",
       "      <td>347 ms</td>\n",
       "    </tr>\n",
       "    <tr>\n",
       "      <th>3</th>\n",
       "      <td>LR + Downsample</td>\n",
       "      <td>78%</td>\n",
       "      <td>67%</td>\n",
       "      <td>83%</td>\n",
       "      <td>83%</td>\n",
       "      <td>192 ms</td>\n",
       "    </tr>\n",
       "    <tr>\n",
       "      <th>4</th>\n",
       "      <td>RF</td>\n",
       "      <td>100%</td>\n",
       "      <td>78%</td>\n",
       "      <td>100%</td>\n",
       "      <td>82%</td>\n",
       "      <td>1.01 ms</td>\n",
       "    </tr>\n",
       "    <tr>\n",
       "      <th>5</th>\n",
       "      <td>RF + Tuning</td>\n",
       "      <td>87%</td>\n",
       "      <td>79%</td>\n",
       "      <td>94%</td>\n",
       "      <td>84%</td>\n",
       "      <td>496 ms</td>\n",
       "    </tr>\n",
       "    <tr>\n",
       "      <th>6</th>\n",
       "      <td>RF + Upsample</td>\n",
       "      <td>90%</td>\n",
       "      <td>73%</td>\n",
       "      <td>95%</td>\n",
       "      <td>84%</td>\n",
       "      <td>652 ms</td>\n",
       "    </tr>\n",
       "    <tr>\n",
       "      <th>7</th>\n",
       "      <td>RF + Downsample</td>\n",
       "      <td>90%</td>\n",
       "      <td>66%</td>\n",
       "      <td>96%</td>\n",
       "      <td>83%</td>\n",
       "      <td>264 ms</td>\n",
       "    </tr>\n",
       "    <tr>\n",
       "      <th>8</th>\n",
       "      <td>XGB</td>\n",
       "      <td>93%</td>\n",
       "      <td>77%</td>\n",
       "      <td>98%</td>\n",
       "      <td>81%</td>\n",
       "      <td>3.53 s</td>\n",
       "    </tr>\n",
       "    <tr>\n",
       "      <th>9</th>\n",
       "      <td>XGB + Tuning</td>\n",
       "      <td>94%</td>\n",
       "      <td>77%</td>\n",
       "      <td>98%</td>\n",
       "      <td>82%</td>\n",
       "      <td>17.6 s</td>\n",
       "    </tr>\n",
       "    <tr>\n",
       "      <th>10</th>\n",
       "      <td>XGB + Upsample</td>\n",
       "      <td>95%</td>\n",
       "      <td>74%</td>\n",
       "      <td>99%</td>\n",
       "      <td>82%</td>\n",
       "      <td>19.4 s</td>\n",
       "    </tr>\n",
       "    <tr>\n",
       "      <th>11</th>\n",
       "      <td>XGB + Downsample</td>\n",
       "      <td>98%</td>\n",
       "      <td>67%</td>\n",
       "      <td>100%</td>\n",
       "      <td>81%</td>\n",
       "      <td>9.11</td>\n",
       "    </tr>\n",
       "    <tr>\n",
       "      <th>12</th>\n",
       "      <td>LGBM</td>\n",
       "      <td>88%</td>\n",
       "      <td>79%</td>\n",
       "      <td>95%</td>\n",
       "      <td>83%</td>\n",
       "      <td>1.59 s</td>\n",
       "    </tr>\n",
       "    <tr>\n",
       "      <th>13</th>\n",
       "      <td>LGBM + Tuning</td>\n",
       "      <td>85%</td>\n",
       "      <td>79%</td>\n",
       "      <td>91%</td>\n",
       "      <td>83%</td>\n",
       "      <td>1.11</td>\n",
       "    </tr>\n",
       "    <tr>\n",
       "      <th>14</th>\n",
       "      <td>LGBM + Upsample</td>\n",
       "      <td>85%</td>\n",
       "      <td>72%</td>\n",
       "      <td>91%</td>\n",
       "      <td>83%</td>\n",
       "      <td>2.69 s</td>\n",
       "    </tr>\n",
       "    <tr>\n",
       "      <th>15</th>\n",
       "      <td>LGBM + Downsample</td>\n",
       "      <td>87%</td>\n",
       "      <td>68%</td>\n",
       "      <td>93%</td>\n",
       "      <td>82%</td>\n",
       "      <td>823 ms</td>\n",
       "    </tr>\n",
       "    <tr>\n",
       "      <th>16</th>\n",
       "      <td>Catboost</td>\n",
       "      <td>88%</td>\n",
       "      <td>79%</td>\n",
       "      <td>94%</td>\n",
       "      <td>83%</td>\n",
       "      <td>3.04 s</td>\n",
       "    </tr>\n",
       "    <tr>\n",
       "      <th>17</th>\n",
       "      <td>Catboost + Tuning</td>\n",
       "      <td>98%</td>\n",
       "      <td>77%</td>\n",
       "      <td>100%</td>\n",
       "      <td>80%</td>\n",
       "      <td>2.68 s</td>\n",
       "    </tr>\n",
       "    <tr>\n",
       "      <th>18</th>\n",
       "      <td>Catboost + Upsample</td>\n",
       "      <td>91%</td>\n",
       "      <td>73%</td>\n",
       "      <td>96%</td>\n",
       "      <td>83%</td>\n",
       "      <td>3.83 s</td>\n",
       "    </tr>\n",
       "    <tr>\n",
       "      <th>19</th>\n",
       "      <td>Catboost + Downsample</td>\n",
       "      <td>89%</td>\n",
       "      <td>68%</td>\n",
       "      <td>95%</td>\n",
       "      <td>83%</td>\n",
       "      <td>2.07 s</td>\n",
       "    </tr>\n",
       "  </tbody>\n",
       "</table>\n",
       "</div>"
      ],
      "text/plain": [
       "                    model accuracy_train accuracy_test auc_roc_train  \\\n",
       "0        Dummy Classifier            26%           27%           50%   \n",
       "1                      LR            80%           79%           84%   \n",
       "2           LR + Upsample            77%           69%           84%   \n",
       "3         LR + Downsample            78%           67%           83%   \n",
       "4                      RF           100%           78%          100%   \n",
       "5             RF + Tuning            87%           79%           94%   \n",
       "6           RF + Upsample            90%           73%           95%   \n",
       "7         RF + Downsample            90%           66%           96%   \n",
       "8                     XGB            93%           77%           98%   \n",
       "9            XGB + Tuning            94%           77%           98%   \n",
       "10         XGB + Upsample            95%           74%           99%   \n",
       "11       XGB + Downsample            98%           67%          100%   \n",
       "12                   LGBM            88%           79%           95%   \n",
       "13          LGBM + Tuning            85%           79%           91%   \n",
       "14        LGBM + Upsample            85%           72%           91%   \n",
       "15      LGBM + Downsample            87%           68%           93%   \n",
       "16               Catboost            88%           79%           94%   \n",
       "17      Catboost + Tuning            98%           77%          100%   \n",
       "18    Catboost + Upsample            91%           73%           96%   \n",
       "19  Catboost + Downsample            89%           68%           95%   \n",
       "\n",
       "   auc_roc_test total_time  \n",
       "0           50%    50.5 ms  \n",
       "1           83%     207 ms  \n",
       "2           83%     347 ms  \n",
       "3           83%     192 ms  \n",
       "4           82%    1.01 ms  \n",
       "5           84%     496 ms  \n",
       "6           84%     652 ms  \n",
       "7           83%     264 ms  \n",
       "8           81%     3.53 s  \n",
       "9           82%     17.6 s  \n",
       "10          82%     19.4 s  \n",
       "11          81%       9.11  \n",
       "12          83%     1.59 s  \n",
       "13          83%       1.11  \n",
       "14          83%     2.69 s  \n",
       "15          82%     823 ms  \n",
       "16          83%     3.04 s  \n",
       "17          80%     2.68 s  \n",
       "18          83%     3.83 s  \n",
       "19          83%     2.07 s  "
      ]
     },
     "execution_count": 124,
     "metadata": {},
     "output_type": "execute_result"
    }
   ],
   "source": [
    "data_model = {'model':model, 'accuracy_train':accuracy_train, 'accuracy_test':accuracy_test, 'auc_roc_train':auc_roc_train, 'auc_roc_test':auc_roc_test, 'total_time':total_time}\n",
    "df_model = pd.DataFrame(data=data_model)\n",
    "df_model"
   ]
  },
  {
   "cell_type": "markdown",
   "metadata": {},
   "source": [
    "# 9. General Conclusion <a id='general_conclusion'></a>"
   ]
  },
  {
   "cell_type": "markdown",
   "metadata": {},
   "source": [
    "<div style=\"background-color:rgba(0, 255, 172, 0.07)\"\n",
    "     \n",
    "The goal of this project is to predict customer churn. So we need to build a binary classification model.\n",
    "We are given four different datasets. We looked into the general information about the dataset. We checked for missing values and duplicates. We observed that there are no missing values. We merged the dataset and procedded to change datatype. We carried out exploratory data analysis and found out that:\n",
    "     \n",
    "- The total charge from user exits with male gender is more than female gender\n",
    "- The total charge from user exits in october and december is more than in other months\n",
    "- The most user exits are type month to month, the payment method is electronic check, and the internet service is fiber optic\n",
    "- Charges from the internet service Fiber Optic has the highest distribution, maybe this is the factor that affects users exit \n",
    "     \n",
    "Reccomendation :\n",
    "- Interconnect marketing team should more approach male gender to prevent user exit\n",
    "- Targeted marketing campaigns and promotional events on October and December, and customer with contract type month to month\n",
    "- Reduce customer cost for electronic check and internet service fiber optic\n",
    "- Find out if there is technincal problem with electronic check payment method, internet service with fiber optic\n",
    "     \n",
    "\n",
    "After that, we build the model by previously doing Data Merging, Data Splitting, Feature Engineering, and standard scaling.\n",
    "     \n",
    "To determine the best model based on accuracy_test and AUC-ROC, we can consider the highest values for both metrics. From the given information, the models with the highest accuracy_test are:\n",
    "\n",
    "- LR: 79%\n",
    "- RF + Tuning: 79%\n",
    "- LGBM: 79%\n",
    "- LGBM + Tuning: 79%\n",
    "- Catboost: 79%\n",
    "- Catboost + Tuning: 77%\n",
    "Among these models, LR, RF + Tuning, LGBM, LGBM + Tuning, and Catboost achieve the highest accuracy_test score of 79%.\n",
    "\n",
    "Regarding the AUC-ROC metric, the models with the highest AUC-ROC scores are:\n",
    "\n",
    "- RF + Tuning: 84%\n",
    "- LGBM: 83%\n",
    "- Catboost: 83%\n",
    "- LGBM + Tuning: 83%\n",
    "- Catboost + Upsample: 83%\n",
    "- Among these models, RF + Tuning achieves the highest AUC-ROC score of 84%.\n",
    "\n",
    "Based on the accuracy_test metric, LR, RF + Tuning, LGBM, LGBM + Tuning, and Catboost perform equally well with an accuracy of 79%. However, when considering the AUC-ROC metric, RF + Tuning has the highest score of 84%.\n",
    "\n",
    "Therefore, if both accuracy_test and AUC-ROC are important, the RF + Tuning model would be the best choice.\n",
    "     \n",
    "</div>"
   ]
  },
  {
   "cell_type": "code",
   "execution_count": null,
   "metadata": {},
   "outputs": [],
   "source": []
  }
 ],
 "metadata": {
  "colab": {
   "provenance": []
  },
  "kernelspec": {
   "display_name": "Python 3 (ipykernel)",
   "language": "python",
   "name": "python3"
  },
  "language_info": {
   "codemirror_mode": {
    "name": "ipython",
    "version": 3
   },
   "file_extension": ".py",
   "mimetype": "text/x-python",
   "name": "python",
   "nbconvert_exporter": "python",
   "pygments_lexer": "ipython3",
   "version": "3.9.5"
  },
  "toc": {
   "base_numbering": 1,
   "nav_menu": {},
   "number_sections": true,
   "sideBar": true,
   "skip_h1_title": true,
   "title_cell": "Table of Contents",
   "title_sidebar": "Contents",
   "toc_cell": false,
   "toc_position": {},
   "toc_section_display": true,
   "toc_window_display": false
  }
 },
 "nbformat": 4,
 "nbformat_minor": 1
}
